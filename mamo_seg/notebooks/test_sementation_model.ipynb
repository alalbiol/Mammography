{
 "cells": [
  {
   "cell_type": "code",
   "execution_count": 1,
   "metadata": {},
   "outputs": [],
   "source": [
    "%load_ext autoreload\n",
    "%autoreload 2"
   ]
  },
  {
   "cell_type": "code",
   "execution_count": 2,
   "metadata": {},
   "outputs": [],
   "source": [
    "import sys\n",
    "sys.path.append('..')"
   ]
  },
  {
   "cell_type": "code",
   "execution_count": 8,
   "metadata": {},
   "outputs": [],
   "source": [
    "from models.segmentation_models import get_segmentation_model"
   ]
  },
  {
   "cell_type": "code",
   "execution_count": 27,
   "metadata": {},
   "outputs": [
    {
     "name": "stdout",
     "output_type": "stream",
     "text": [
      "{'LightningModule': {'model_name': 'unet', 'model_params': {'encoder_name': 'resnet34', 'num_classes': 5, 'in_channels': 3, 'attention_type': 'scse'}, 'learning_rate': 0.001}, 'DataModule': {'dataset_root': '/home/alalbiol/Data/mamo/CBIS-DDSM-segmentation-2240x1792', 'crop_size': 512, 'batch_size': 4, 'num_workers': 4}}\n",
      "3\n"
     ]
    }
   ],
   "source": [
    "import yaml\n",
    "\n",
    "config = yaml.load(open('../configs/config.yaml', 'r'), Loader=yaml.FullLoader)\n",
    "\n",
    "print(config)\n",
    "\n",
    "\n",
    "model = get_segmentation_model(config[\"LightningModule\"]['model_name'], \n",
    "                                    config[\"LightningModule\"]['model_params'])"
   ]
  },
  {
   "cell_type": "code",
   "execution_count": 28,
   "metadata": {},
   "outputs": [
    {
     "name": "stdout",
     "output_type": "stream",
     "text": [
      "torch.Size([1, 5, 512, 512])\n"
     ]
    }
   ],
   "source": [
    "import torch\n",
    "x = torch.rand(1, 3, 512, 512)\n",
    "\n",
    "y = model(x)\n",
    "\n",
    "print(y.shape)"
   ]
  },
  {
   "cell_type": "code",
   "execution_count": 29,
   "metadata": {},
   "outputs": [
    {
     "ename": "NameError",
     "evalue": "name 'mask' is not defined",
     "output_type": "error",
     "traceback": [
      "\u001b[0;31m---------------------------------------------------------------------------\u001b[0m",
      "\u001b[0;31mNameError\u001b[0m                                 Traceback (most recent call last)",
      "Cell \u001b[0;32mIn[29], line 1\u001b[0m\n\u001b[0;32m----> 1\u001b[0m mask\u001b[38;5;241m.\u001b[39mdtype\n",
      "\u001b[0;31mNameError\u001b[0m: name 'mask' is not defined"
     ]
    }
   ],
   "source": [
    "mask.dtype"
   ]
  }
 ],
 "metadata": {
  "kernelspec": {
   "display_name": "Mammo",
   "language": "python",
   "name": "python3"
  },
  "language_info": {
   "codemirror_mode": {
    "name": "ipython",
    "version": 3
   },
   "file_extension": ".py",
   "mimetype": "text/x-python",
   "name": "python",
   "nbconvert_exporter": "python",
   "pygments_lexer": "ipython3",
   "version": "3.12.7"
  }
 },
 "nbformat": 4,
 "nbformat_minor": 2
}
