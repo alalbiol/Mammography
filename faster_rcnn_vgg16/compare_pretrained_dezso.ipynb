{
 "cells": [
  {
   "cell_type": "code",
   "execution_count": 3,
   "id": "0416ae09",
   "metadata": {},
   "outputs": [],
   "source": [
    "import numpy as np\n",
    "import pathlib"
   ]
  },
  {
   "cell_type": "markdown",
   "id": "3131b55b",
   "metadata": {},
   "source": [
    "Acoordit to train.prototxt these weigthts were frozen:\n",
    "\n",
    "* conv1_1\n",
    "* conv1_2\n",
    "* conv2_1\n",
    "* conv2_2\n",
    "\n"
   ]
  },
  {
   "cell_type": "code",
   "execution_count": 7,
   "id": "e213e1c8",
   "metadata": {},
   "outputs": [
    {
     "name": "stdout",
     "output_type": "stream",
     "text": [
      "Layer: conv1_1\n",
      "Pretrained Weights: (64, 3, 3, 3)\n",
      "Dezso Weights: (64, 3, 3, 3)\n",
      "Are equal? True\n",
      "\n",
      "Pretrained Biases: (64,)\n",
      "Dezso Biases: (64,)\n",
      "Are equal? True\n",
      "\n",
      "--------------------------------------------------\n",
      "Layer: conv1_2\n",
      "Pretrained Weights: (64, 64, 3, 3)\n",
      "Dezso Weights: (64, 64, 3, 3)\n",
      "Are equal? True\n",
      "\n",
      "Pretrained Biases: (64,)\n",
      "Dezso Biases: (64,)\n",
      "Are equal? True\n",
      "\n",
      "--------------------------------------------------\n",
      "Layer: conv2_1\n",
      "Pretrained Weights: (128, 64, 3, 3)\n",
      "Dezso Weights: (128, 64, 3, 3)\n",
      "Are equal? True\n",
      "\n",
      "Pretrained Biases: (128,)\n",
      "Dezso Biases: (128,)\n",
      "Are equal? True\n",
      "\n",
      "--------------------------------------------------\n",
      "Layer: conv2_2\n",
      "Pretrained Weights: (128, 128, 3, 3)\n",
      "Dezso Weights: (128, 128, 3, 3)\n",
      "Are equal? True\n",
      "\n",
      "Pretrained Biases: (128,)\n",
      "Dezso Biases: (128,)\n",
      "Are equal? True\n",
      "\n",
      "--------------------------------------------------\n",
      "Layer: conv3_1\n",
      "Pretrained Weights: (256, 128, 3, 3)\n",
      "Dezso Weights: (256, 128, 3, 3)\n",
      "Are equal? False\n",
      "\n",
      "Pretrained Biases: (256,)\n",
      "Dezso Biases: (256,)\n",
      "Are equal? False\n",
      "\n",
      "--------------------------------------------------\n",
      "Layer: conv3_2\n",
      "Pretrained Weights: (256, 256, 3, 3)\n",
      "Dezso Weights: (256, 256, 3, 3)\n",
      "Are equal? False\n",
      "\n",
      "Pretrained Biases: (256,)\n",
      "Dezso Biases: (256,)\n",
      "Are equal? False\n",
      "\n",
      "--------------------------------------------------\n"
     ]
    }
   ],
   "source": [
    "pretrained_weights_path = pathlib.Path('./VGG16.v2.pretrained_weights/')\n",
    "pretrained_dezso_path = pathlib.Path('./faster_rcnn_vgg16_weights/')\n",
    "\n",
    "\n",
    "layers = ['conv1_1', 'conv1_2', 'conv2_1', 'conv2_2','conv3_1', 'conv3_2']\n",
    "\n",
    "for layer in layers:\n",
    "    pretrained_weights = np.load(pretrained_weights_path / f'{layer}_weights.npy')\n",
    "    dezso_weights = np.load(pretrained_dezso_path / f'{layer}_weights.npy')\n",
    "    \n",
    "    pretrained_biases = np.load(pretrained_weights_path / f'{layer}_biases.npy')\n",
    "    dezso_biases = np.load(pretrained_dezso_path / f'{layer}_biases.npy')\n",
    "\n",
    "    print(f'Layer: {layer}')\n",
    "    print(f'Pretrained Weights: {pretrained_weights.shape}')\n",
    "    print(f'Dezso Weights: {dezso_weights.shape}')\n",
    "    print(f'Are equal? {np.array_equal(pretrained_weights, dezso_weights)}\\n')\n",
    "\n",
    "    print(f'Pretrained Biases: {pretrained_biases.shape}')\n",
    "    print(f'Dezso Biases: {dezso_biases.shape}')\n",
    "    print(f'Are equal? {np.array_equal(pretrained_biases, dezso_biases)}\\n')\n",
    "    print('-' * 50)\n"
   ]
  },
  {
   "cell_type": "code",
   "execution_count": null,
   "id": "c0f14f3a",
   "metadata": {},
   "outputs": [],
   "source": []
  }
 ],
 "metadata": {
  "kernelspec": {
   "display_name": "Mammo",
   "language": "python",
   "name": "python3"
  },
  "language_info": {
   "codemirror_mode": {
    "name": "ipython",
    "version": 3
   },
   "file_extension": ".py",
   "mimetype": "text/x-python",
   "name": "python",
   "nbconvert_exporter": "python",
   "pygments_lexer": "ipython3",
   "version": "3.11.7"
  }
 },
 "nbformat": 4,
 "nbformat_minor": 5
}
