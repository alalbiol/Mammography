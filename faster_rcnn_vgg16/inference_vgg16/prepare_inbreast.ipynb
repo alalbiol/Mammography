{
 "cells": [
  {
   "cell_type": "code",
   "execution_count": 1,
   "id": "94a5e0ea",
   "metadata": {},
   "outputs": [
    {
     "name": "stdout",
     "output_type": "stream",
     "text": [
      "Number of images in INbreast dataset:  410\n"
     ]
    }
   ],
   "source": [
    "import pathlib\n",
    "import pandas as pd\n",
    "\n",
    "Inbreast_folder = pathlib.Path('/media/HD/mamo/INbreast/AllDICOMs')\n",
    "\n",
    "Inbreast_images = list(Inbreast_folder.glob('**/*.dcm'))\n",
    "print(\"Number of images in INbreast dataset: \", len(Inbreast_images))\n"
   ]
  },
  {
   "cell_type": "code",
   "execution_count": null,
   "id": "440a9d56",
   "metadata": {},
   "outputs": [
    {
     "name": "stdout",
     "output_type": "stream",
     "text": [
      "Number of annotation files in INbreast dataset:  159\n"
     ]
    }
   ],
   "source": [
    "anots_folder = pathlib.Path('/home/alalbiol/Programacion/Mammography/exclude_git/DezsoRibli/src/prepare_data/inbreast/my_rois')\n",
    "\n",
    "anots_files = list(anots_folder.glob('*.tsv'))\n",
    "# delete SYNAPSE_METADATA_MANIFEST.tsv\n",
    "anots_files = [f for f in anots_files if f.name != 'SYNAPSE_METADATA_MANIFEST.tsv']\n",
    "print(\"Number of annotation files in INbreast dataset: \", len(anots_files))\n",
    "\n",
    "\n"
   ]
  },
  {
   "cell_type": "code",
   "execution_count": 7,
   "id": "4d0c7308",
   "metadata": {},
   "outputs": [],
   "source": [
    "def read_anotations(anot_file):\n",
    "    \"\"\"Read annotations from a TSV file.\"\"\"\n",
    "    df = pd.read_csv(anot_file, sep='\\t')\n",
    "    annotations = []\n",
    "    id = anot_file.stem\n",
    "    for i in range(len(df)):\n",
    "        #is it benign or malignant? otherwise skip\n",
    "        if df.desc[i][0] == 'b':\n",
    "            patho='BENIGN'\n",
    "        elif df.desc[i][0] == 'm':\n",
    "            patho='MALIGNANT'\n",
    "        else:\n",
    "            continue\n",
    "        annotations.append({\n",
    "            'id': id,\n",
    "            'minx': df.x0[i],\n",
    "            'miny': df.y0[i],\n",
    "            'maxx': df.x1[i],\n",
    "            'maxy': df.y1[i],\n",
    "            'pathology': patho,\n",
    "            'cancer': 1 if patho == 'MALIGNANT' else 0\n",
    "        })\n",
    "            \n",
    "        #make xy from bounding box\n",
    "    return annotations\n",
    "    \n",
    "    \n",
    "    \n",
    "    return df"
   ]
  },
  {
   "cell_type": "code",
   "execution_count": 9,
   "id": "8283adef",
   "metadata": {},
   "outputs": [
    {
     "name": "stdout",
     "output_type": "stream",
     "text": [
      "Total number of annotations:  194\n"
     ]
    }
   ],
   "source": [
    "all_annotations = []\n",
    "for anot_file in anots_files:\n",
    "    annotations = read_anotations(anot_file)\n",
    "    all_annotations.extend(annotations)\n",
    "    \n",
    "print(\"Total number of annotations: \", len(all_annotations))"
   ]
  },
  {
   "cell_type": "code",
   "execution_count": 12,
   "id": "e1ddf6b7",
   "metadata": {},
   "outputs": [
    {
     "name": "stdout",
     "output_type": "stream",
     "text": [
      "         id  minx  miny  maxx  maxy  pathology  cancer\n",
      "0  22670094  2618   981  3309  1587  MALIGNANT       1\n",
      "1  20586934    46  1882   454  2277  MALIGNANT       1\n",
      "2  22670511   432  1602   702  1795  MALIGNANT       1\n",
      "3  22670511   292   955   786  1437  MALIGNANT       1\n",
      "4  22670511   234  1808   750  2326  MALIGNANT       1\n",
      "cancer\n",
      "1    102\n",
      "0     92\n",
      "Name: count, dtype: int64\n"
     ]
    }
   ],
   "source": [
    "all_annotations_df = pd.DataFrame(all_annotations)\n",
    "print(all_annotations_df.head())\n",
    "print(all_annotations_df.cancer.value_counts())"
   ]
  },
  {
   "cell_type": "code",
   "execution_count": 15,
   "id": "d3fb21c2",
   "metadata": {},
   "outputs": [
    {
     "name": "stdout",
     "output_type": "stream",
     "text": [
      "         id   box_x1   box_y1   box_x2   box_y2   score\n",
      "0  20586908  2381.35  1547.47  2651.42  1835.88  0.7603\n",
      "1  20586908  2307.61   904.98  2554.26  1196.95  0.6865\n",
      "2  20586908  3094.90  1013.74  3296.04  1200.41  0.5852\n",
      "3  20586908  2074.81  2410.66  2316.38  2617.86  0.3527\n",
      "4  20586908  2496.82   455.18  2884.18   875.06  0.1501\n"
     ]
    }
   ],
   "source": [
    "# detections\n",
    "\n",
    "detections = pd.read_csv('detections_inbreast.csv')\n",
    "detections['id'] = detections['id'].apply(lambda x: x.split('_')[0])  # Remove file parts\n",
    "print(detections.head())"
   ]
  },
  {
   "cell_type": "code",
   "execution_count": 18,
   "id": "4c5cd691",
   "metadata": {},
   "outputs": [
    {
     "name": "stdout",
     "output_type": "stream",
     "text": [
      "Number of images with detections:  350\n"
     ]
    }
   ],
   "source": [
    "detections_scores = detections.groupby('id')['score'].max().reset_index()\n",
    "print(\"Number of images with detections: \", len(detections_scores))"
   ]
  },
  {
   "cell_type": "code",
   "execution_count": 20,
   "id": "af2e5a04",
   "metadata": {},
   "outputs": [
    {
     "name": "stdout",
     "output_type": "stream",
     "text": [
      "         id  cancer\n",
      "0  20586908       0\n",
      "1  20586934       1\n",
      "2  20586960       0\n",
      "3  20586986       1\n",
      "4  20587054       1\n"
     ]
    }
   ],
   "source": [
    "cancer_label = all_annotations_df.groupby('id')['cancer'].max().reset_index()\n",
    "print(cancer_label.head())"
   ]
  },
  {
   "cell_type": "code",
   "execution_count": 24,
   "id": "a0e60a19",
   "metadata": {},
   "outputs": [],
   "source": [
    "# merge detections_scores with cancer_label, set cancer=0 for images with no label\n",
    "\n",
    "merged_df = pd.merge(detections_scores, cancer_label, on='id', how='outer')\n",
    "merged_df['cancer'] = merged_df['cancer'].fillna(0).astype(int)\n",
    "merged_df['score'] = merged_df['score'].fillna(0.0)"
   ]
  },
  {
   "cell_type": "code",
   "execution_count": 25,
   "id": "1f82db3a",
   "metadata": {},
   "outputs": [
    {
     "data": {
      "image/png": "[encoded data removed]",
      "text/plain": [
       "<Figure size 640x480 with 1 Axes>"
      ]
     },
     "metadata": {},
     "output_type": "display_data"
    }
   ],
   "source": [
    "# calculate AUC and ROC curve\n",
    "from sklearn.metrics import roc_curve, auc\n",
    "import matplotlib.pyplot as plt\n",
    "fpr, tpr, thresholds = roc_curve(merged_df['cancer'], merged_df['score'])\n",
    "roc_auc = auc(fpr, tpr)\n",
    "plt.figure()\n",
    "plt.plot(fpr, tpr, color='darkorange', lw=2, label='ROC curve (area = {:.2f})'.format(roc_auc))\n",
    "plt.plot([0, 1], [0, 1], color='navy', lw=2, linestyle='--')\n",
    "plt.xlim([0.0, 1.0])\n",
    "plt.ylim([0.0, 1.05])\n",
    "plt.xlabel('False Positive Rate')\n",
    "plt.ylabel('True Positive Rate')\n",
    "plt.title('Receiver Operating Characteristic')\n",
    "plt.legend(loc='lower right')\n",
    "plt.show()"
   ]
  },
  {
   "cell_type": "code",
   "execution_count": 29,
   "id": "b199c337",
   "metadata": {},
   "outputs": [],
   "source": [
    "all_annotations_df.to_csv('all_annotations_inbreast.csv', index=False)"
   ]
  },
  {
   "cell_type": "code",
   "execution_count": 30,
   "id": "c1b54b5a",
   "metadata": {},
   "outputs": [],
   "source": [
    "detections.to_csv('detections_inbreast.csv', index=False)\n"
   ]
  },
  {
   "cell_type": "code",
   "execution_count": null,
   "id": "76edb636",
   "metadata": {},
   "outputs": [],
   "source": []
  }
 ],
 "metadata": {
  "kernelspec": {
   "display_name": "Mammo",
   "language": "python",
   "name": "python3"
  },
  "language_info": {
   "codemirror_mode": {
    "name": "ipython",
    "version": 3
   },
   "file_extension": ".py",
   "mimetype": "text/x-python",
   "name": "python",
   "nbconvert_exporter": "python",
   "pygments_lexer": "ipython3",
   "version": "3.11.7"
  }
 },
 "nbformat": 4,
 "nbformat_minor": 5
}
