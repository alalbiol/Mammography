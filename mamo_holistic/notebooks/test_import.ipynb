{
 "cells": [
  {
   "cell_type": "code",
   "execution_count": null,
   "metadata": {},
   "outputs": [
    {
     "name": "stdout",
     "output_type": "stream",
     "text": [
      "/home/alalbiol/Programacion/mammography/mamo_holistic/\n",
      "['/home/alalbiol/Programacion/mammography/mamo_holistic/notebooks', '', '/opt/ros/humble/lib/python3.10/site-packages', '/opt/ros/humble/local/lib/python3.10/dist-packages', '/home/alalbiol/anaconda3/envs/Mammo/lib/python311.zip', '/home/alalbiol/anaconda3/envs/Mammo/lib/python3.11', '/home/alalbiol/anaconda3/envs/Mammo/lib/python3.11/lib-dynload', '/home/alalbiol/anaconda3/envs/Mammo/lib/python3.11/site-packages', '/home/alalbiol/Programacion/mammography/mamo_holistic/']\n"
     ]
    }
   ],
   "source": [
    "import torch\n",
    "from torch import nn\n",
    "import torch.nn.functional as F\n",
    "from torch.utils.data import DataLoader, random_split\n",
    "from torchvision import transforms, datasets, models\n",
    "import pytorch_lightning as pl\n",
    "from pytorch_lightning.callbacks import ModelCheckpoint\n",
    "from pytorch_lightning.loggers import TensorBoardLogger\n",
    "import argparse\n",
    "import yaml\n",
    "\n",
    "import sys\n",
    "\n",
    "import pathlib\n",
    "path = \"/home/alalbiol/Programacion/mammography/mamo_holistic\"\n",
    "sys.path.append(str(path))\n",
    "# sys.path.append('..')\n",
    "# sys.path.append(str(path))\n",
    "print(path)\n",
    "\n",
    "print(sys.path)\n",
    "\n",
    "from utils.load_config import load_config, get_parameter"
   ]
  },
  {
   "cell_type": "code",
   "execution_count": null,
   "metadata": {},
   "outputs": [],
   "source": []
  }
 ],
 "metadata": {
  "kernelspec": {
   "display_name": "Mammo",
   "language": "python",
   "name": "python3"
  },
  "language_info": {
   "codemirror_mode": {
    "name": "ipython",
    "version": 3
   },
   "file_extension": ".py",
   "mimetype": "text/x-python",
   "name": "python",
   "nbconvert_exporter": "python",
   "pygments_lexer": "ipython3",
   "version": "3.11.7"
  }
 },
 "nbformat": 4,
 "nbformat_minor": 2
}
