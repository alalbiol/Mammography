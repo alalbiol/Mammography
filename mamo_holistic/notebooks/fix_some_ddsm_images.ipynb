{
 "cells": [
  {
   "cell_type": "markdown",
   "metadata": {},
   "source": [
    "Me he dado cuenta que algunas imagenes son todo blancas, seguramente algun error en la conversion LJPEG. Afortunadamente tenia la correspondencia de esas imagenes con las de CBIS y puedo recuperarlas. Son solo 4"
   ]
  },
  {
   "cell_type": "code",
   "execution_count": null,
   "metadata": {},
   "outputs": [],
   "source": [
    "import tqdm\n",
    "import numpy as np\n",
    "from PIL import Image\n",
    "import pathlib\n"
   ]
  }
 ],
 "metadata": {
  "kernelspec": {
   "display_name": "Mammo",
   "language": "python",
   "name": "python3"
  },
  "language_info": {
   "name": "python",
   "version": "3.11.7"
  }
 },
 "nbformat": 4,
 "nbformat_minor": 2
}
