{
 "cells": [
  {
   "cell_type": "code",
   "execution_count": 6,
   "metadata": {},
   "outputs": [],
   "source": [
    "import pandas as pd\n",
    "import numpy as np\n",
    "import matplotlib.pyplot as plt\n",
    "from PIL import Image\n",
    "import pathlib \n",
    "import sys\n",
    "#from tqdm import tqdm\n",
    "\n",
    "sys.path.append(\"..\")\n",
    "from utils.utils import show_mask_image\n",
    "\n",
    "from  utils.sample_patches_main import sample_patches, sample_hard_negatives, sample_blob_negatives"
   ]
  },
  {
   "cell_type": "code",
   "execution_count": null,
   "metadata": {},
   "outputs": [
    {
     "ename": "NameError",
     "evalue": "name 'Dataset' is not defined",
     "output_type": "error",
     "traceback": [
      "\u001b[0;31m---------------------------------------------------------------------------\u001b[0m",
      "\u001b[0;31mNameError\u001b[0m                                 Traceback (most recent call last)",
      "Cell \u001b[0;32mIn[19], line 1\u001b[0m\n\u001b[0;32m----> 1\u001b[0m \u001b[38;5;28;01mclass\u001b[39;00m  \u001b[38;5;21;01mgroupby_data\u001b[39;00m(\u001b[43mDataset\u001b[49m):\n\u001b[1;32m      2\u001b[0m     \u001b[38;5;28;01mdef\u001b[39;00m \u001b[38;5;21m__init__\u001b[39m(\u001b[38;5;28mself\u001b[39m, dataset_root, split \u001b[38;5;241m=\u001b[39m \u001b[38;5;28;01mNone\u001b[39;00m, crop_size \u001b[38;5;241m=\u001b[39m \u001b[38;5;241m224\u001b[39m, transform\u001b[38;5;241m=\u001b[39m\u001b[38;5;28;01mNone\u001b[39;00m):\n\u001b[1;32m      3\u001b[0m \u001b[38;5;250m        \u001b[39m\u001b[38;5;124;03m\"\"\"\u001b[39;00m\n\u001b[1;32m      4\u001b[0m \u001b[38;5;124;03m        Args:\u001b[39;00m\n\u001b[1;32m      5\u001b[0m \u001b[38;5;124;03m            images_dir (str): Directory containing images.\u001b[39;00m\n\u001b[1;32m      6\u001b[0m \u001b[38;5;124;03m            masks_dir (str): Directory containing masks.\u001b[39;00m\n\u001b[1;32m      7\u001b[0m \u001b[38;5;124;03m            transform (callable, optional): Albumentations transformations for images and masks.\u001b[39;00m\n\u001b[1;32m      8\u001b[0m \u001b[38;5;124;03m        \"\"\"\u001b[39;00m\n",
      "\u001b[0;31mNameError\u001b[0m: name 'Dataset' is not defined"
     ]
    }
   ],
   "source": [
    "dataset_root = pathlib.Path(dataset_root)\n",
    "images_dir = dataset_root / 'images'\n",
    "masks_dir = dataset_root / 'masks'\n",
    "bounding_boxes = pd.read_csv(self.dataset_root / 'bounding_boxes.csv')\n",
    "\n",
    "        bounding_boxes.groupby(\"id\")        \n",
    "\n"
   ]
  },
  {
   "cell_type": "code",
   "execution_count": 20,
   "metadata": {},
   "outputs": [
    {
     "ename": "NameError",
     "evalue": "name 'cbis_ddsm' is not defined",
     "output_type": "error",
     "traceback": [
      "\u001b[0;31m---------------------------------------------------------------------------\u001b[0m",
      "\u001b[0;31mNameError\u001b[0m                                 Traceback (most recent call last)",
      "Cell \u001b[0;32mIn[20], line 1\u001b[0m\n\u001b[0;32m----> 1\u001b[0m \u001b[38;5;28;01mclass\u001b[39;00m \u001b[38;5;21;01mgroupby_data\u001b[39;00m(\u001b[43mcbis_ddsm\u001b[49m):\n\u001b[1;32m      2\u001b[0m     \u001b[38;5;28;01mdef\u001b[39;00m \u001b[38;5;21m__init__\u001b[39m(\u001b[38;5;28mself\u001b[39m, config):\n\u001b[1;32m      3\u001b[0m         \u001b[38;5;28msuper\u001b[39m()\u001b[38;5;241m.\u001b[39m\u001b[38;5;21m__init__\u001b[39m()\n",
      "\u001b[0;31mNameError\u001b[0m: name 'cbis_ddsm' is not defined"
     ]
    }
   ],
   "source": [
    "class groupby_data(cbis_ddsm):\n",
    "    def __init__(self, config):\n",
    "        super().__init__()\n",
    "        self.config = config\n",
    "        self.dataset_root = get_parameter(self.config, ['DataModule', 'dataset_root'])"
   ]
  }
 ],
 "metadata": {
  "kernelspec": {
   "display_name": "pytorch_env",
   "language": "python",
   "name": "python3"
  },
  "language_info": {
   "codemirror_mode": {
    "name": "ipython",
    "version": 3
   },
   "file_extension": ".py",
   "mimetype": "text/x-python",
   "name": "python",
   "nbconvert_exporter": "python",
   "pygments_lexer": "ipython3",
   "version": "3.12.5"
  }
 },
 "nbformat": 4,
 "nbformat_minor": 2
}
