{
 "cells": [
  {
   "cell_type": "code",
   "execution_count": 1,
   "metadata": {},
   "outputs": [
    {
     "name": "stderr",
     "output_type": "stream",
     "text": [
      "2024-12-05 11:23:23.628565: E external/local_xla/xla/stream_executor/cuda/cuda_dnn.cc:9261] Unable to register cuDNN factory: Attempting to register factory for plugin cuDNN when one has already been registered\n",
      "2024-12-05 11:23:23.628594: E external/local_xla/xla/stream_executor/cuda/cuda_fft.cc:607] Unable to register cuFFT factory: Attempting to register factory for plugin cuFFT when one has already been registered\n",
      "2024-12-05 11:23:23.630183: E external/local_xla/xla/stream_executor/cuda/cuda_blas.cc:1515] Unable to register cuBLAS factory: Attempting to register factory for plugin cuBLAS when one has already been registered\n",
      "2024-12-05 11:23:23.637401: I tensorflow/core/platform/cpu_feature_guard.cc:182] This TensorFlow binary is optimized to use available CPU instructions in performance-critical operations.\n",
      "To enable the following instructions: AVX2 FMA, in other operations, rebuild TensorFlow with the appropriate compiler flags.\n",
      "2024-12-05 11:23:24.213899: W tensorflow/compiler/tf2tensorrt/utils/py_utils.cc:38] TF-TRT Warning: Could not find TensorRT\n"
     ]
    }
   ],
   "source": [
    "import torch\n",
    "\n",
    "import sys\n",
    "sys.path.append('..')\n",
    "\n",
    "from models.nikulin import NikulinPatchModel, NikulinImage"
   ]
  },
  {
   "cell_type": "code",
   "execution_count": 6,
   "metadata": {},
   "outputs": [],
   "source": [
    "checkpoint = \"/tmp/checkpoints/ddsm_patch_224_nikulin/best_model_nikulin_patch_epoch=0-step=102-val_auroc=0.60.ckpt\"\n",
    "cpkt = torch.load(checkpoint)\n"
   ]
  },
  {
   "cell_type": "code",
   "execution_count": 10,
   "metadata": {},
   "outputs": [
    {
     "data": {
      "text/plain": [
       "dict_keys(['epoch', 'global_step', 'pytorch-lightning_version', 'state_dict', 'loops', 'callbacks', 'optimizer_states', 'lr_schedulers', 'hparams_name', 'hyper_parameters'])"
      ]
     },
     "execution_count": 10,
     "metadata": {},
     "output_type": "execute_result"
    }
   ],
   "source": [
    "cpkt.keys()"
   ]
  },
  {
   "cell_type": "code",
   "execution_count": 13,
   "metadata": {},
   "outputs": [
    {
     "data": {
      "text/plain": [
       "odict_keys(['bn1.weight', 'bn1.bias', 'bn1.running_mean', 'bn1.running_var', 'bn1.num_batches_tracked', 'conv1.weight', 'conv1.bias', 'bn2.weight', 'bn2.bias', 'bn2.running_mean', 'bn2.running_var', 'bn2.num_batches_tracked', 'conv2.weight', 'conv2.bias', 'bn3.weight', 'bn3.bias', 'bn3.running_mean', 'bn3.running_var', 'bn3.num_batches_tracked', 'conv3.weight', 'conv3.bias', 'bn4.weight', 'bn4.bias', 'bn4.running_mean', 'bn4.running_var', 'bn4.num_batches_tracked', 'conv4.weight', 'conv4.bias', 'bn5.weight', 'bn5.bias', 'bn5.running_mean', 'bn5.running_var', 'bn5.num_batches_tracked', 'conv5.weight', 'conv5.bias', 'bn6.weight', 'bn6.bias', 'bn6.running_mean', 'bn6.running_var', 'bn6.num_batches_tracked', 'conv6.weight', 'conv6.bias', 'bn7.weight', 'bn7.bias', 'bn7.running_mean', 'bn7.running_var', 'bn7.num_batches_tracked', 'conv7.weight', 'conv7.bias', 'bn8.weight', 'bn8.bias', 'bn8.running_mean', 'bn8.running_var', 'bn8.num_batches_tracked', 'conv8.weight', 'conv8.bias', 'bn9.weight', 'bn9.bias', 'bn9.running_mean', 'bn9.running_var', 'bn9.num_batches_tracked', 'conv9.weight', 'conv9.bias', 'bn10.weight', 'bn10.bias', 'bn10.running_mean', 'bn10.running_var', 'bn10.num_batches_tracked', 'conv10.weight', 'conv10.bias', 'bn11.weight', 'bn11.bias', 'bn11.running_mean', 'bn11.running_var', 'bn11.num_batches_tracked', 'conv11.weight', 'conv11.bias', 'bn12.weight', 'bn12.bias', 'bn12.running_mean', 'bn12.running_var', 'bn12.num_batches_tracked', 'conv12.weight', 'conv12.bias', 'bn13.weight', 'bn13.bias', 'bn13.running_mean', 'bn13.running_var', 'bn13.num_batches_tracked', 'fc1.weight', 'fc1.bias', 'bn14.weight', 'bn14.bias', 'bn14.running_mean', 'bn14.running_var', 'bn14.num_batches_tracked', 'fc2.weight', 'fc2.bias', 'bn15.weight', 'bn15.bias', 'bn15.running_mean', 'bn15.running_var', 'bn15.num_batches_tracked', 'fc3.weight', 'fc3.bias', 'bn1_final.weight', 'bn1_final.bias', 'bn1_final.running_mean', 'bn1_final.running_var', 'bn1_final.num_batches_tracked', 'fc1_final.weight', 'bn2_final.weight', 'bn2_final.bias', 'bn2_final.running_mean', 'bn2_final.running_var', 'bn2_final.num_batches_tracked', 'fc2_final.weight', 'bn3_final.weight', 'bn3_final.bias', 'bn3_final.running_mean', 'bn3_final.running_var', 'bn3_final.num_batches_tracked', 'fc3_final.weight', 'bn_shortcut_final.weight', 'bn_shortcut_final.bias', 'bn_shortcut_final.running_mean', 'bn_shortcut_final.running_var', 'bn_shortcut_final.num_batches_tracked', 'shortcut_final.weight'])"
      ]
     },
     "execution_count": 13,
     "metadata": {},
     "output_type": "execute_result"
    }
   ],
   "source": [
    "image_model = NikulinImage()\n",
    "image_model.state_dict().keys()"
   ]
  },
  {
   "cell_type": "code",
   "execution_count": null,
   "metadata": {},
   "outputs": [
    {
     "data": {
      "text/plain": [
       "odict_keys(['model.bn1.weight', 'model.bn1.bias', 'model.bn1.running_mean', 'model.bn1.running_var', 'model.bn1.num_batches_tracked', 'model.conv1.weight', 'model.conv1.bias', 'model.bn2.weight', 'model.bn2.bias', 'model.bn2.running_mean', 'model.bn2.running_var', 'model.bn2.num_batches_tracked', 'model.conv2.weight', 'model.conv2.bias', 'model.bn3.weight', 'model.bn3.bias', 'model.bn3.running_mean', 'model.bn3.running_var', 'model.bn3.num_batches_tracked', 'model.conv3.weight', 'model.conv3.bias', 'model.bn4.weight', 'model.bn4.bias', 'model.bn4.running_mean', 'model.bn4.running_var', 'model.bn4.num_batches_tracked', 'model.conv4.weight', 'model.conv4.bias', 'model.bn5.weight', 'model.bn5.bias', 'model.bn5.running_mean', 'model.bn5.running_var', 'model.bn5.num_batches_tracked', 'model.conv5.weight', 'model.conv5.bias', 'model.bn6.weight', 'model.bn6.bias', 'model.bn6.running_mean', 'model.bn6.running_var', 'model.bn6.num_batches_tracked', 'model.conv6.weight', 'model.conv6.bias', 'model.bn7.weight', 'model.bn7.bias', 'model.bn7.running_mean', 'model.bn7.running_var', 'model.bn7.num_batches_tracked', 'model.conv7.weight', 'model.conv7.bias', 'model.bn8.weight', 'model.bn8.bias', 'model.bn8.running_mean', 'model.bn8.running_var', 'model.bn8.num_batches_tracked', 'model.conv8.weight', 'model.conv8.bias', 'model.bn9.weight', 'model.bn9.bias', 'model.bn9.running_mean', 'model.bn9.running_var', 'model.bn9.num_batches_tracked', 'model.conv9.weight', 'model.conv9.bias', 'model.bn10.weight', 'model.bn10.bias', 'model.bn10.running_mean', 'model.bn10.running_var', 'model.bn10.num_batches_tracked', 'model.conv10.weight', 'model.conv10.bias', 'model.bn11.weight', 'model.bn11.bias', 'model.bn11.running_mean', 'model.bn11.running_var', 'model.bn11.num_batches_tracked', 'model.conv11.weight', 'model.conv11.bias', 'model.bn12.weight', 'model.bn12.bias', 'model.bn12.running_mean', 'model.bn12.running_var', 'model.bn12.num_batches_tracked', 'model.conv12.weight', 'model.conv12.bias', 'model.bn13.weight', 'model.bn13.bias', 'model.bn13.running_mean', 'model.bn13.running_var', 'model.bn13.num_batches_tracked', 'model.fc1.weight', 'model.fc1.bias', 'model.bn14.weight', 'model.bn14.bias', 'model.bn14.running_mean', 'model.bn14.running_var', 'model.bn14.num_batches_tracked', 'model.fc2.weight', 'model.fc2.bias', 'model.bn15.weight', 'model.bn15.bias', 'model.bn15.running_mean', 'model.bn15.running_var', 'model.bn15.num_batches_tracked', 'model.fc3.weight', 'model.fc3.bias'])"
      ]
     },
     "execution_count": 15,
     "metadata": {},
     "output_type": "execute_result"
    }
   ],
   "source": [
    "cpkt['state_dict']."
   ]
  },
  {
   "cell_type": "code",
   "execution_count": 16,
   "metadata": {},
   "outputs": [],
   "source": [
    "def load_state_dict_into_model(model, state_dict):\n",
    "    # Remove 'model.' prefix from state_dict keys\n",
    "    new_state_dict = {k.replace('model.', ''): v for k, v in state_dict.items() if k.startswith('model.')}\n",
    "\n",
    "    # Load the state dict into the model, ignoring missing keys\n",
    "    model.load_state_dict(new_state_dict, strict=False)\n",
    "\n",
    "# Example usage\n",
    "load_state_dict_into_model(image_model, cpkt['state_dict'])"
   ]
  },
  {
   "cell_type": "code",
   "execution_count": null,
   "metadata": {},
   "outputs": [
    {
     "data": {
      "text/plain": [
       "OrderedDict([('weight', tensor([0.9923])),\n",
       "             ('bias', tensor([0.0039])),\n",
       "             ('running_mean', tensor([0.8121])),\n",
       "             ('running_var', tensor([0.7362])),\n",
       "             ('num_batches_tracked', tensor(102))])"
      ]
     },
     "execution_count": 17,
     "metadata": {},
     "output_type": "execute_result"
    }
   ],
   "source": [
    "imamodge_model.bn1.state_dict()"
   ]
  }
 ],
 "metadata": {
  "kernelspec": {
   "display_name": "Mammo",
   "language": "python",
   "name": "python3"
  },
  "language_info": {
   "codemirror_mode": {
    "name": "ipython",
    "version": 3
   },
   "file_extension": ".py",
   "mimetype": "text/x-python",
   "name": "python",
   "nbconvert_exporter": "python",
   "pygments_lexer": "ipython3",
   "version": "3.11.7"
  }
 },
 "nbformat": 4,
 "nbformat_minor": 2
}
