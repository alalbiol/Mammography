{
 "cells": [
  {
   "cell_type": "markdown",
   "metadata": {},
   "source": [
    "Crear imagenes binarias con las lesiones para cada imagen del ddsm. \n",
    "Ahora si hay avias lesiones tenemos una mascara por lesion"
   ]
  },
  {
   "cell_type": "code",
   "execution_count": 1,
   "metadata": {},
   "outputs": [],
   "source": [
    "import pathlib\n",
    "from PIL import Image\n",
    "import numpy as np\n",
    "import matplotlib.pyplot as plt"
   ]
  },
  {
   "cell_type": "code",
   "execution_count": null,
   "metadata": {},
   "outputs": [
    {
     "name": "stdout",
     "output_type": "stream",
     "text": [
      "Number of images: 11023\n"
     ]
    }
   ],
   "source": [
    "ddsm_root = pathlib.Path('/home/alalbiol/Data/mamo/DDSM_png_16bit_1152x896')\n",
    "png_images = [f for f in ddsm_root.glob('**/*.png') if \"_mask_\" not in f.name]\n",
    "print(\"Number of images:\", len(png_images))\n",
    "\n",
    "\n",
    "def get_mask_for_image(image_path):\n",
    "    mask_paths = [f for f in ddsm_root.glob('**/*.png') if \"_mask_\" in f.name and image_path.stem in f.name]\n",
    "    \n",
    "    masks = []\n",
    "    if not mask_paths:\n",
    "        return None\n",
    "    \n",
    "    for mask_path in mask_paths:\n",
    "        #print(mask_path)\n",
    "        mask = np.array(Image.open(mask_path)).astype(np.uint8) / 255\n",
    "        if \"MASS_BENIGN\" in mask_path.name:\n",
    "            mask = mask * 1\n",
    "        elif \"CALCIFICATION_BENIGN\" in mask_path.name:\n",
    "            mask = mask * 2\n",
    "        elif \"MASS_MALIGNANT\" in mask_path.name:\n",
    "            mask = mask * 3\n",
    "        elif \"CALCIFICATION_MALIGNANT\" in mask_path.name:\n",
    "            mask = mask * 4\n",
    "        else:\n",
    "            mask = mask * 5\n",
    "        \n",
    "         \n",
    "        masks.append(mask)\n",
    "    mask = np.array(masks).sum(axis=0).astype(np.uint8)\n",
    "    return mask\n",
    "\n",
    "\n",
    "                         \n",
    "                         "
   ]
  },
  {
   "cell_type": "code",
   "execution_count": 27,
   "metadata": {},
   "outputs": [
    {
     "name": "stderr",
     "output_type": "stream",
     "text": [
      "100%|██████████| 11023/11023 [21:08<00:00,  8.69it/s]\n"
     ]
    }
   ],
   "source": [
    "from tqdm import tqdm\n",
    "for png_image in tqdm(png_images):\n",
    "    mask = get_mask_for_image(png_image)\n",
    "    if mask is None:\n",
    "        #print(f\"No mask found for {png_image}\")\n",
    "        continue\n",
    "    \n",
    "    #print(mask.dtype, mask.shape, mask.min(), mask.max())\n",
    "    mask_filename = png_image.stem + \"_totalmask.png\"\n",
    "    mask_path = png_image.parent / mask_filename\n",
    "    mask = Image.fromarray(mask)\n",
    "    mask.save(mask_path)\n"
   ]
  },
  {
   "cell_type": "code",
   "execution_count": null,
   "metadata": {},
   "outputs": [],
   "source": []
  }
 ],
 "metadata": {
  "kernelspec": {
   "display_name": "Mammo",
   "language": "python",
   "name": "python3"
  },
  "language_info": {
   "codemirror_mode": {
    "name": "ipython",
    "version": 3
   },
   "file_extension": ".py",
   "mimetype": "text/x-python",
   "name": "python",
   "nbconvert_exporter": "python",
   "pygments_lexer": "ipython3",
   "version": "3.11.7"
  }
 },
 "nbformat": 4,
 "nbformat_minor": 2
}
