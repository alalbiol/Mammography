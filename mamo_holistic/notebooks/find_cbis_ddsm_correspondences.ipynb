{
 "cells": [
  {
   "cell_type": "markdown",
   "metadata": {},
   "source": [
    "This notebook find DDSM and corresponging CBIS-DDSM images.\n",
    "\n",
    "The idea is:\n",
    "1. Use size, laterality and view to find the possible candidates.\n",
    "2. For each candidate, calculate the similarity between the images.\n",
    "\n",
    "It is important to consider, that intensity normalization is different. For these reason CBIS ddsm are renormalized using the same method as DDSM (dezso method). This improves a lot the quality of the similarity.\n",
    "\n"
   ]
  },
  {
   "cell_type": "code",
   "execution_count": 14,
   "metadata": {},
   "outputs": [],
   "source": [
    "import pathlib\n",
    "import numpy as np\n",
    "import pandas as pd\n",
    "import matplotlib.pyplot as plt\n",
    "from PIL import Image\n",
    "import pydicom\n",
    "from tqdm import tqdm"
   ]
  },
  {
   "cell_type": "code",
   "execution_count": 2,
   "metadata": {},
   "outputs": [],
   "source": [
    "data_folder = pathlib.Path('/home/alalbiol/Data/mamo')\n",
    "data_folder = pathlib.Path('/media/HD/mamo')\n",
    "cbis_ddsm_path = data_folder / 'CBIS-DDSM'\n",
    "#ddsm_path = data_folder / 'DDSM_png' # imagenes con 8 bits tipo dezso\n",
    "ddsm_path = data_folder / 'DDSM_png_noclipping' # imagenes con 16 bits"
   ]
  },
  {
   "cell_type": "code",
   "execution_count": 3,
   "metadata": {},
   "outputs": [
    {
     "name": "stdout",
     "output_type": "stream",
     "text": [
      "CBIS-DDSM images: 10239 pero muchas son mascaras y crops\n",
      "DDSM images: 10420 pero muchas son casos normales\n"
     ]
    }
   ],
   "source": [
    "all_cbis_images = list(cbis_ddsm_path.glob('**/*.png'))\n",
    "print(f'CBIS-DDSM images: {len(all_cbis_images)} pero muchas son mascaras y crops')\n",
    "all_ddsm_images = list(ddsm_path.glob('**/*.png'))\n",
    "print(f'DDSM images: {len(all_ddsm_images)} pero muchas son casos normales')"
   ]
  },
  {
   "cell_type": "code",
   "execution_count": 4,
   "metadata": {},
   "outputs": [
    {
     "name": "stdout",
     "output_type": "stream",
     "text": [
      "calc_case_test: 326\n",
      "calc_case_train: 1546\n",
      "mass_case_test: 378\n",
      "mass_case_train: 1318\n",
      "all_case_train: 2864\n",
      "all_case_test: 704\n",
      "all_case: 3568 pero algunas son repetidas porque CBIS repite imagenes por lesiones\n"
     ]
    }
   ],
   "source": [
    "calc_case_test = pd.read_csv( '../resources/cbis_ddsm/calc_case_description_test_set.csv')\n",
    "calc_case_train = pd.read_csv( '../resources/cbis_ddsm/calc_case_description_train_set.csv')\n",
    "mass_case_test = pd.read_csv( '../resources/cbis_ddsm/mass_case_description_test_set.csv')\n",
    "mass_case_train = pd.read_csv( '../resources/cbis_ddsm/mass_case_description_train_set.csv')\n",
    "all_case_train = pd.concat([calc_case_train, mass_case_train])\n",
    "all_case_test = pd.concat([calc_case_test, mass_case_test])\n",
    "all_case = pd.concat([all_case_train, all_case_test])\n",
    "\n",
    "print(f'calc_case_test: {len(calc_case_test)}')\n",
    "print(f'calc_case_train: {len(calc_case_train)}')\n",
    "print(f'mass_case_test: {len(mass_case_test)}')\n",
    "print(f'mass_case_train: {len(mass_case_train)}')\n",
    "print(f'all_case_train: {len(all_case_train)}')\n",
    "print(f'all_case_test: {len(all_case_test)}')\n",
    "print(f'all_case: {len(all_case)} pero algunas son repetidas porque CBIS repite imagenes por lesiones')\n"
   ]
  },
  {
   "cell_type": "code",
   "execution_count": 67,
   "metadata": {},
   "outputs": [],
   "source": [
    "#create data frame with all ddsm images\n",
    "ddsm_images = pd.DataFrame(all_ddsm_images, columns=['image_path'])\n",
    "def get_image_size(image_path):\n",
    "    image = Image.open(image_path)\n",
    "    return image.size\n",
    "\n",
    "def lat_orientation(image_path):\n",
    "    name = image_path.stem\n",
    "    return  name.split('.')[-1]\n",
    "\n",
    "ddsm_images['image_size'] = ddsm_images['image_path'].apply(get_image_size)\n",
    "ddsm_images['lat_orientation'] = ddsm_images['image_path'].apply(lat_orientation)"
   ]
  },
  {
   "cell_type": "code",
   "execution_count": 68,
   "metadata": {},
   "outputs": [
    {
     "name": "stdout",
     "output_type": "stream",
     "text": [
      "Logico porque de cada estudio tenemos dos mamas y dos vistas\n"
     ]
    }
   ],
   "source": [
    "ddsm_images.lat_orientation.value_counts()\n",
    "print(\"Logico porque de cada estudio tenemos dos mamas y dos vistas\")"
   ]
  },
  {
   "cell_type": "markdown",
   "metadata": {},
   "source": [
    "Ahrora creamos un id basado en size_lat_orientation"
   ]
  },
  {
   "cell_type": "code",
   "execution_count": 69,
   "metadata": {},
   "outputs": [],
   "source": [
    "def set_id(row):\n",
    "    im_size = f\"{row['image_size'][0]}_{row['image_size'][1]}\"\n",
    "    return f\"{row['lat_orientation']}_{im_size}\"\n",
    "\n",
    "ddsm_images['id'] = ddsm_images.apply(set_id, axis=1)"
   ]
  },
  {
   "cell_type": "code",
   "execution_count": 70,
   "metadata": {},
   "outputs": [
    {
     "name": "stdout",
     "output_type": "stream",
     "text": [
      "9026\n",
      "10420\n"
     ]
    }
   ],
   "source": [
    "print(len(ddsm_images.id.unique()))\n",
    "print(len(ddsm_images)) \n",
    "# tenemos casi identificada cada imagen con esta firma basada en tamaño y orientación"
   ]
  },
  {
   "cell_type": "code",
   "execution_count": 9,
   "metadata": {},
   "outputs": [
    {
     "name": "stdout",
     "output_type": "stream",
     "text": [
      "Solo las imagenes con overlay pueden tener correspondencias con CBIS-DDSM\n",
      "Nos quedamos solo con las que tienen overlay\n"
     ]
    }
   ],
   "source": [
    "def has_overlay(image_path):\n",
    "    overlay_file = image_path.with_suffix('.OVERLAY')\n",
    "    return overlay_file.exists()\n",
    "\n",
    "print(\"Solo las imagenes con overlay pueden tener correspondencias con CBIS-DDSM\")\n",
    "ddsm_images['has_overlay'] = ddsm_images['image_path'].apply(has_overlay)\n",
    "ddsm_images['has_overlay'].value_counts()\n",
    "print(\"Nos quedamos solo con las que tienen overlay\")"
   ]
  },
  {
   "cell_type": "code",
   "execution_count": 10,
   "metadata": {},
   "outputs": [
    {
     "name": "stdout",
     "output_type": "stream",
     "text": [
      "Numero de imagenes con overlay  4029\n",
      "numero de imagenes en ddsm 10420\n",
      "numero de ids 3712\n"
     ]
    }
   ],
   "source": [
    "ddsm_images_candidates = ddsm_images[ddsm_images['has_overlay']]\n",
    "\n",
    "# candidatos de encontrar en el directorio de cbis-ddsm\n",
    "print(\"Numero de imagenes con overlay \", len(ddsm_images_candidates))\n",
    "print(\"numero de imagenes en ddsm\", len(ddsm_images))\n",
    "\n",
    "# como hay menos ids, algunas imagenes puede corresponder a varios en cbis o alreves\n",
    "print(\"numero de ids\", len(ddsm_images_candidates.id.unique()))\n",
    "\n"
   ]
  },
  {
   "cell_type": "code",
   "execution_count": 11,
   "metadata": {},
   "outputs": [
    {
     "name": "stdout",
     "output_type": "stream",
     "text": [
      "El numero total de imagenes CBIS 3568\n",
      "El numero de tamaños unicos 2621\n"
     ]
    }
   ],
   "source": [
    "# repetimos el proceso para cbis-ddsm sacamos firma basada en tamaño y orientación\n",
    "def image_size(filename):\n",
    "    filename = filename.replace('dcm','png')\n",
    "    filename = cbis_ddsm_path / filename\n",
    "    parent_folder = filename.parent\n",
    "    #filename = parent_folder / '000000.png'\n",
    "    image = Image.open(filename)\n",
    "    return image.size\n",
    "\n",
    "all_case['image_size'] = all_case['image file path'].apply(image_size)\n",
    "\n",
    "\n",
    "print(\"El numero total de imagenes CBIS\", len(all_case['image_size']))\n",
    "print(\"El numero de tamaños unicos\", len(all_case['image_size'].unique()))\n"
   ]
  },
  {
   "cell_type": "code",
   "execution_count": 20,
   "metadata": {},
   "outputs": [
    {
     "name": "stdout",
     "output_type": "stream",
     "text": [
      "Numero de imagenes CBIS 3568\n",
      "Numero de ids unicos 2875\n"
     ]
    }
   ],
   "source": [
    "def set_id_cbis(row):\n",
    "    im_size = f\"{row['image_size'][0]}_{row['image_size'][1]}\"\n",
    "    return f\"{row['left or right breast']}_{row['image view']}_{im_size}\"\n",
    "\n",
    "all_case['id'] = all_case.apply(set_id_cbis, axis=1)\n",
    "\n",
    "print(\"Numero de imagenes CBIS\", len(all_case))\n",
    "print(\"Numero de ids unicos\", len(all_case['id'].unique()))\n"
   ]
  },
  {
   "cell_type": "code",
   "execution_count": 12,
   "metadata": {},
   "outputs": [
    {
     "name": "stdout",
     "output_type": "stream",
     "text": [
      "DDSM\n",
      "0      LEFT_CC_3241_5341\n",
      "1     RIGHT_CC_3526_5326\n",
      "2    RIGHT_MLO_3751_5386\n",
      "3     LEFT_MLO_3196_5326\n",
      "4      LEFT_CC_1831_3886\n",
      "Name: id, dtype: object\n",
      "CBIS\n"
     ]
    },
    {
     "ename": "KeyError",
     "evalue": "'id'",
     "output_type": "error",
     "traceback": [
      "\u001b[0;31m---------------------------------------------------------------------------\u001b[0m",
      "\u001b[0;31mKeyError\u001b[0m                                  Traceback (most recent call last)",
      "File \u001b[0;32m~/anaconda3/envs/Mammo/lib/python3.11/site-packages/pandas/core/indexes/base.py:3802\u001b[0m, in \u001b[0;36mIndex.get_loc\u001b[0;34m(self, key)\u001b[0m\n\u001b[1;32m   3801\u001b[0m \u001b[38;5;28;01mtry\u001b[39;00m:\n\u001b[0;32m-> 3802\u001b[0m     \u001b[38;5;28;01mreturn\u001b[39;00m \u001b[38;5;28mself\u001b[39m\u001b[38;5;241m.\u001b[39m_engine\u001b[38;5;241m.\u001b[39mget_loc(casted_key)\n\u001b[1;32m   3803\u001b[0m \u001b[38;5;28;01mexcept\u001b[39;00m \u001b[38;5;167;01mKeyError\u001b[39;00m \u001b[38;5;28;01mas\u001b[39;00m err:\n",
      "File \u001b[0;32mindex.pyx:153\u001b[0m, in \u001b[0;36mpandas._libs.index.IndexEngine.get_loc\u001b[0;34m()\u001b[0m\n",
      "File \u001b[0;32mindex.pyx:182\u001b[0m, in \u001b[0;36mpandas._libs.index.IndexEngine.get_loc\u001b[0;34m()\u001b[0m\n",
      "File \u001b[0;32mpandas/_libs/hashtable_class_helper.pxi:7081\u001b[0m, in \u001b[0;36mpandas._libs.hashtable.PyObjectHashTable.get_item\u001b[0;34m()\u001b[0m\n",
      "File \u001b[0;32mpandas/_libs/hashtable_class_helper.pxi:7089\u001b[0m, in \u001b[0;36mpandas._libs.hashtable.PyObjectHashTable.get_item\u001b[0;34m()\u001b[0m\n",
      "\u001b[0;31mKeyError\u001b[0m: 'id'",
      "\nThe above exception was the direct cause of the following exception:\n",
      "\u001b[0;31mKeyError\u001b[0m                                  Traceback (most recent call last)",
      "Cell \u001b[0;32mIn[12], line 5\u001b[0m\n\u001b[1;32m      3\u001b[0m \u001b[38;5;28mprint\u001b[39m(ddsm_images[\u001b[38;5;124m'\u001b[39m\u001b[38;5;124mid\u001b[39m\u001b[38;5;124m'\u001b[39m]\u001b[38;5;241m.\u001b[39mhead())\n\u001b[1;32m      4\u001b[0m \u001b[38;5;28mprint\u001b[39m(\u001b[38;5;124m\"\u001b[39m\u001b[38;5;124mCBIS\u001b[39m\u001b[38;5;124m\"\u001b[39m)\n\u001b[0;32m----> 5\u001b[0m \u001b[38;5;28mprint\u001b[39m(all_case[\u001b[38;5;124m'\u001b[39m\u001b[38;5;124mid\u001b[39m\u001b[38;5;124m'\u001b[39m]\u001b[38;5;241m.\u001b[39mhead())\n",
      "File \u001b[0;32m~/anaconda3/envs/Mammo/lib/python3.11/site-packages/pandas/core/frame.py:4090\u001b[0m, in \u001b[0;36mDataFrame.__getitem__\u001b[0;34m(self, key)\u001b[0m\n\u001b[1;32m   4088\u001b[0m \u001b[38;5;28;01mif\u001b[39;00m \u001b[38;5;28mself\u001b[39m\u001b[38;5;241m.\u001b[39mcolumns\u001b[38;5;241m.\u001b[39mnlevels \u001b[38;5;241m>\u001b[39m \u001b[38;5;241m1\u001b[39m:\n\u001b[1;32m   4089\u001b[0m     \u001b[38;5;28;01mreturn\u001b[39;00m \u001b[38;5;28mself\u001b[39m\u001b[38;5;241m.\u001b[39m_getitem_multilevel(key)\n\u001b[0;32m-> 4090\u001b[0m indexer \u001b[38;5;241m=\u001b[39m \u001b[38;5;28mself\u001b[39m\u001b[38;5;241m.\u001b[39mcolumns\u001b[38;5;241m.\u001b[39mget_loc(key)\n\u001b[1;32m   4091\u001b[0m \u001b[38;5;28;01mif\u001b[39;00m is_integer(indexer):\n\u001b[1;32m   4092\u001b[0m     indexer \u001b[38;5;241m=\u001b[39m [indexer]\n",
      "File \u001b[0;32m~/anaconda3/envs/Mammo/lib/python3.11/site-packages/pandas/core/indexes/base.py:3809\u001b[0m, in \u001b[0;36mIndex.get_loc\u001b[0;34m(self, key)\u001b[0m\n\u001b[1;32m   3804\u001b[0m     \u001b[38;5;28;01mif\u001b[39;00m \u001b[38;5;28misinstance\u001b[39m(casted_key, \u001b[38;5;28mslice\u001b[39m) \u001b[38;5;129;01mor\u001b[39;00m (\n\u001b[1;32m   3805\u001b[0m         \u001b[38;5;28misinstance\u001b[39m(casted_key, abc\u001b[38;5;241m.\u001b[39mIterable)\n\u001b[1;32m   3806\u001b[0m         \u001b[38;5;129;01mand\u001b[39;00m \u001b[38;5;28many\u001b[39m(\u001b[38;5;28misinstance\u001b[39m(x, \u001b[38;5;28mslice\u001b[39m) \u001b[38;5;28;01mfor\u001b[39;00m x \u001b[38;5;129;01min\u001b[39;00m casted_key)\n\u001b[1;32m   3807\u001b[0m     ):\n\u001b[1;32m   3808\u001b[0m         \u001b[38;5;28;01mraise\u001b[39;00m InvalidIndexError(key)\n\u001b[0;32m-> 3809\u001b[0m     \u001b[38;5;28;01mraise\u001b[39;00m \u001b[38;5;167;01mKeyError\u001b[39;00m(key) \u001b[38;5;28;01mfrom\u001b[39;00m \u001b[38;5;21;01merr\u001b[39;00m\n\u001b[1;32m   3810\u001b[0m \u001b[38;5;28;01mexcept\u001b[39;00m \u001b[38;5;167;01mTypeError\u001b[39;00m:\n\u001b[1;32m   3811\u001b[0m     \u001b[38;5;66;03m# If we have a listlike key, _check_indexing_error will raise\u001b[39;00m\n\u001b[1;32m   3812\u001b[0m     \u001b[38;5;66;03m#  InvalidIndexError. Otherwise we fall through and re-raise\u001b[39;00m\n\u001b[1;32m   3813\u001b[0m     \u001b[38;5;66;03m#  the TypeError.\u001b[39;00m\n\u001b[1;32m   3814\u001b[0m     \u001b[38;5;28mself\u001b[39m\u001b[38;5;241m.\u001b[39m_check_indexing_error(key)\n",
      "\u001b[0;31mKeyError\u001b[0m: 'id'"
     ]
    }
   ],
   "source": [
    "\"Comparamos ids de CBIS con DDSM\"\n",
    "print(\"DDSM\")\n",
    "print(ddsm_images['id'].head())\n",
    "print(\"CBIS\")\n",
    "print(all_case['id'].head())"
   ]
  },
  {
   "cell_type": "code",
   "execution_count": 15,
   "metadata": {},
   "outputs": [],
   "source": [
    "def find_ddsm_image(row):\n",
    "    cbis_id = row['id'] \n",
    "    # solo buscamos candidatos con misma firma tamaño y orientación y lateralidad\n",
    "    candidates = ddsm_images_candidates[ddsm_images_candidates['id'] == cbis_id].image_path\n",
    "    \n",
    "    if len(candidates) == 0:\n",
    "        print(f'warning: No candidate for {cbis_id}')\n",
    "        return None\n",
    "    \n",
    "    return candidates.values\n",
    "    \n",
    "\n",
    "# Para cada imagen CBIS buscamos candidatos en DDSM y lo deja en una columna \n",
    "all_case['ddsm_image'] = all_case.apply(find_ddsm_image, axis=1)"
   ]
  },
  {
   "cell_type": "markdown",
   "metadata": {},
   "source": [
    "Todos los casos de cbis tienen una imagen en ddsm porque no hay ningun warning. En la siguiente celda vemos que hay unos pocos con varios candidatos"
   ]
  },
  {
   "cell_type": "code",
   "execution_count": 16,
   "metadata": {},
   "outputs": [
    {
     "data": {
      "text/plain": [
       "ddsm_image\n",
       "1    3145\n",
       "2     315\n",
       "3      71\n",
       "4      30\n",
       "6       5\n",
       "5       2\n",
       "Name: count, dtype: int64"
      ]
     },
     "execution_count": 16,
     "metadata": {},
     "output_type": "execute_result"
    }
   ],
   "source": [
    "\n",
    "\n",
    "all_case.ddsm_image.apply(lambda x: len(x) if x is not None else 0).value_counts()"
   ]
  },
  {
   "cell_type": "code",
   "execution_count": 36,
   "metadata": {},
   "outputs": [],
   "source": [
    "def find_ddsm_image_diff(row):\n",
    "    cbis_id = row['id'] \n",
    "    candidates = ddsm_images_candidates[ddsm_images_candidates['id'] == cbis_id].image_path\n",
    "    \n",
    "    if len(candidates) == 0:\n",
    "        print(f'No candidate for {cbis_id}')\n",
    "        return None\n",
    "    \n",
    "    cbis_image_filename = cbis_ddsm_path / row['image file path']\n",
    "    \n",
    "    #este nombre no coincide con el de la imagen, esperemos que en la carpeta haya solo un dicom y \n",
    "    #sea este\n",
    "    \n",
    "    cbis_image_filenames = list(cbis_image_filename.parent.glob('*.dcm'))\n",
    "    if len(cbis_image_filenames) == 0:\n",
    "        print(f'No dicom for {cbis_id}')\n",
    "        return None\n",
    "    if len(cbis_image_filenames) > 1:\n",
    "        print(f'More than one dicom for {cbis_id}')\n",
    "        return None\n",
    "    \n",
    "    cbis_image_filename = cbis_image_filenames[0]\n",
    "    \n",
    "    \n",
    "    cbis_image = pydicom.dcmread(cbis_image_filename).pixel_array.flatten()\n",
    "    \n",
    "    #cbis_image = np.array(Image.open(cbis_image_filename)).flatten()\n",
    "    \n",
    "    \n",
    "    min_difference = 1e10\n",
    "\n",
    "    \n",
    "    res = []\n",
    "    for candidate in candidates:\n",
    "        ddsm_image = Image.open(candidate)\n",
    "        ddsm_image = np.array(ddsm_image).flatten()\n",
    "        \n",
    "        rand_indx = np.random.randint(0, len(ddsm_image), 1000)\n",
    "        diference = np.abs(cbis_image[rand_indx] - ddsm_image[rand_indx]).mean()\n",
    "        \n",
    "        res.append((candidate, diference))\n",
    "        \n",
    "        if diference < min_difference:\n",
    "            min_difference = diference\n",
    "            \n",
    "        # correlation\n",
    "        \n",
    "    res_sorted = sorted(res, key=lambda x: x[1]) \n",
    "    \n",
    "    \n",
    "    #print('----------------', min_difference)\n",
    "    return cbis_image_filename, res_sorted\n",
    "    \n",
    " \n"
   ]
  },
  {
   "cell_type": "markdown",
   "metadata": {},
   "source": [
    "Voy a pintar un ejemplo "
   ]
  },
  {
   "cell_type": "code",
   "execution_count": 29,
   "metadata": {},
   "outputs": [
    {
     "name": "stdout",
     "output_type": "stream",
     "text": [
      "---------------- 152.023\n",
      "/media/HD/mamo/CBIS-DDSM/Calc-Training_P_00005_RIGHT_CC/1.3.6.1.4.1.9590.100.1.2.408909860712120272633130274602115723157/1.3.6.1.4.1.9590.100.1.2.47414316010368386519740343172775938548/00000001.dcm\n",
      "[(PosixPath('/media/HD/mamo/DDSM_png_noclipping/cases/cancers/cancer_12/case4110/D_4110_1.RIGHT_CC.png'), 152.023)]\n",
      "-------------------\n"
     ]
    },
    {
     "data": {
      "text/plain": [
       "<matplotlib.image.AxesImage at 0x7950a9792410>"
      ]
     },
     "execution_count": 29,
     "metadata": {},
     "output_type": "execute_result"
    },
    {
     "data": {
      "image/png": "[encoded data removed]",
      "text/plain": [
       "<Figure size 640x480 with 2 Axes>"
      ]
     },
     "metadata": {},
     "output_type": "display_data"
    }
   ],
   "source": [
    "for idx, row in all_case.iterrows():\n",
    "    cbis_image, ddsm_candidates = find_ddsm_image_diff(row)\n",
    "    print(cbis_image)\n",
    "    print(ddsm_candidates)\n",
    "    print(\"-------------------\")\n",
    "    break\n",
    "    \n",
    "\n",
    "fig , ax = plt.subplots(1,2)\n",
    "ax[0].imshow(pydicom.dcmread(cbis_image).pixel_array)\n",
    "ax[1].imshow(np.array(Image.open(ddsm_candidates[0][0])))"
   ]
  },
  {
   "cell_type": "code",
   "execution_count": 30,
   "metadata": {},
   "outputs": [
    {
     "name": "stdout",
     "output_type": "stream",
     "text": [
      "test extrema ddsm 0 65535\n",
      "test extrema cbis 0 65535\n",
      "149.89207826347086\n"
     ]
    },
    {
     "data": {
      "image/png": "[encoded data removed]",
      "text/plain": [
       "<Figure size 640x480 with 1 Axes>"
      ]
     },
     "metadata": {},
     "output_type": "display_data"
    }
   ],
   "source": [
    "test_ddsm = np.array(Image.open(ddsm_candidates[0][0]))\n",
    "print(\"test extrema ddsm\", test_ddsm.min(), test_ddsm.max())\n",
    "\n",
    "test_cbis = pydicom.dcmread(cbis_image).pixel_array\n",
    "print(\"test extrema cbis\", test_cbis.min(), test_cbis.max())\n",
    "\n",
    "\n",
    "\n",
    "ddsm_flatten = test_ddsm.flatten()\n",
    "cbis_flatten = test_cbis.flatten()\n",
    "\n",
    "rand_indx = np.random.randint(0, len(ddsm_flatten), 1000)\n",
    "plt.plot(ddsm_flatten[rand_indx], cbis_flatten[rand_indx], 'o')\n",
    "\n",
    "print(np.abs(test_cbis - test_ddsm).mean())\n",
    "\n",
    "\n"
   ]
  },
  {
   "cell_type": "code",
   "execution_count": 34,
   "metadata": {},
   "outputs": [
    {
     "name": "stdout",
     "output_type": "stream",
     "text": [
      "---------------- 156.274\n",
      "-------------------\n",
      "---------------- 244.585\n",
      "-------------------\n",
      "---------------- 256.976\n"
     ]
    },
    {
     "data": {
      "image/png": "[encoded data removed]",
      "text/plain": [
       "<Figure size 1500x800 with 4 Axes>"
      ]
     },
     "metadata": {},
     "output_type": "display_data"
    }
   ],
   "source": [
    "for idx, row in all_case.iterrows():\n",
    "    cbis_image, ddsm_candidates = find_ddsm_image_diff(row)\n",
    "    if len(ddsm_candidates) == 2:\n",
    "        break\n",
    "        print(cbis_image)\n",
    "        print(ddsm_candidates)\n",
    "        break \n",
    "    print(\"-------------------\")\n",
    " \n",
    "  \n",
    "# Plot in the first row the CBIS image and in the second row all candidates\n",
    "num_candidates = len(ddsm_candidates)\n",
    "fig, ax = plt.subplots(2, num_candidates, figsize=(15, 8))  # Adjust figure size as needed\n",
    "\n",
    "# Plot CBIS image in the first row (span across all columns)\n",
    "cbis_image = pydicom.dcmread(cbis_image).pixel_array\n",
    "for i in range(num_candidates):\n",
    "    ax[0, i].imshow(cbis_image / cbis_image.max())\n",
    "    ax[0, i].set_title('CBIS image')\n",
    "    ax[0, i].axis('off')  # Hide axis if desired\n",
    "\n",
    "# Plot all DDSM candidates in the second row\n",
    "for i, candidate in enumerate(ddsm_candidates):\n",
    "    ddsm_image = np.array(Image.open(candidate[0]), dtype=float)\n",
    "    \n",
    "    ax[1, i].imshow(ddsm_image / ddsm_image.max())\n",
    "    ax[1, i].set_title(f'DDSM candidate {i} dist {candidate[1]:.2f}')\n",
    "    ax[1, i].axis('off')  # Hide axis if desired\n",
    "\n",
    "plt.tight_layout()\n",
    "plt.show() \n",
    "    \n",
    "#all_case['ddsm_image'] = all_case.apply(find_ddsm_image, axis=1)"
   ]
  },
  {
   "cell_type": "code",
   "execution_count": 40,
   "metadata": {},
   "outputs": [
    {
     "name": "stderr",
     "output_type": "stream",
     "text": [
      "  1%|          | 22/3568 [00:03<10:21,  5.70it/s]"
     ]
    },
    {
     "name": "stdout",
     "output_type": "stream",
     "text": [
      "Processed 20/3568. Elapsed time: 3.8 expected remaining: 673\n"
     ]
    },
    {
     "name": "stderr",
     "output_type": "stream",
     "text": [
      "  1%|          | 41/3568 [00:08<12:52,  4.57it/s]"
     ]
    },
    {
     "name": "stdout",
     "output_type": "stream",
     "text": [
      "Processed 40/3568. Elapsed time: 8.3 expected remaining: 735\n"
     ]
    },
    {
     "name": "stderr",
     "output_type": "stream",
     "text": [
      "  2%|▏         | 61/3568 [00:12<14:52,  3.93it/s]"
     ]
    },
    {
     "name": "stdout",
     "output_type": "stream",
     "text": [
      "Processed 60/3568. Elapsed time: 12.8 expected remaining: 747\n"
     ]
    },
    {
     "name": "stderr",
     "output_type": "stream",
     "text": [
      "  2%|▏         | 81/3568 [00:16<09:57,  5.83it/s]"
     ]
    },
    {
     "name": "stdout",
     "output_type": "stream",
     "text": [
      "Processed 80/3568. Elapsed time: 16.7 expected remaining: 727\n"
     ]
    },
    {
     "name": "stderr",
     "output_type": "stream",
     "text": [
      "  3%|▎         | 102/3568 [00:26<11:13,  5.15it/s]"
     ]
    },
    {
     "name": "stdout",
     "output_type": "stream",
     "text": [
      "Processed 100/3568. Elapsed time: 25.9 expected remaining: 897\n"
     ]
    },
    {
     "name": "stderr",
     "output_type": "stream",
     "text": [
      "  3%|▎         | 121/3568 [00:31<23:50,  2.41it/s]"
     ]
    },
    {
     "name": "stdout",
     "output_type": "stream",
     "text": [
      "Processed 120/3568. Elapsed time: 31.8 expected remaining: 913\n"
     ]
    },
    {
     "name": "stderr",
     "output_type": "stream",
     "text": [
      "  4%|▍         | 141/3568 [00:41<32:45,  1.74it/s]"
     ]
    },
    {
     "name": "stdout",
     "output_type": "stream",
     "text": [
      "Processed 140/3568. Elapsed time: 41.6 expected remaining: 1019\n"
     ]
    },
    {
     "name": "stderr",
     "output_type": "stream",
     "text": [
      "  5%|▍         | 161/3568 [00:53<33:26,  1.70it/s]"
     ]
    },
    {
     "name": "stdout",
     "output_type": "stream",
     "text": [
      "Processed 160/3568. Elapsed time: 53.6 expected remaining: 1142\n"
     ]
    },
    {
     "name": "stderr",
     "output_type": "stream",
     "text": [
      "  5%|▌         | 181/3568 [01:04<33:51,  1.67it/s]"
     ]
    },
    {
     "name": "stdout",
     "output_type": "stream",
     "text": [
      "Processed 180/3568. Elapsed time: 64.7 expected remaining: 1216\n"
     ]
    },
    {
     "name": "stderr",
     "output_type": "stream",
     "text": [
      "  6%|▌         | 201/3568 [01:15<19:09,  2.93it/s]"
     ]
    },
    {
     "name": "stdout",
     "output_type": "stream",
     "text": [
      "Processed 200/3568. Elapsed time: 75.0 expected remaining: 1263\n"
     ]
    },
    {
     "name": "stderr",
     "output_type": "stream",
     "text": [
      "  6%|▌         | 221/3568 [01:24<33:01,  1.69it/s]"
     ]
    },
    {
     "name": "stdout",
     "output_type": "stream",
     "text": [
      "Processed 220/3568. Elapsed time: 84.9 expected remaining: 1291\n"
     ]
    },
    {
     "name": "stderr",
     "output_type": "stream",
     "text": [
      "  7%|▋         | 241/3568 [01:33<23:01,  2.41it/s]"
     ]
    },
    {
     "name": "stdout",
     "output_type": "stream",
     "text": [
      "Processed 240/3568. Elapsed time: 93.5 expected remaining: 1297\n"
     ]
    },
    {
     "name": "stderr",
     "output_type": "stream",
     "text": [
      "  7%|▋         | 262/3568 [01:44<15:33,  3.54it/s]"
     ]
    },
    {
     "name": "stdout",
     "output_type": "stream",
     "text": [
      "Processed 260/3568. Elapsed time: 104.0 expected remaining: 1322\n"
     ]
    },
    {
     "name": "stderr",
     "output_type": "stream",
     "text": [
      "  8%|▊         | 281/3568 [01:49<15:05,  3.63it/s]"
     ]
    },
    {
     "name": "stdout",
     "output_type": "stream",
     "text": [
      "Processed 280/3568. Elapsed time: 109.6 expected remaining: 1287\n"
     ]
    },
    {
     "name": "stderr",
     "output_type": "stream",
     "text": [
      "  8%|▊         | 301/3568 [01:59<29:49,  1.83it/s]"
     ]
    },
    {
     "name": "stdout",
     "output_type": "stream",
     "text": [
      "Processed 300/3568. Elapsed time: 119.8 expected remaining: 1304\n"
     ]
    },
    {
     "name": "stderr",
     "output_type": "stream",
     "text": [
      "  9%|▉         | 321/3568 [02:08<13:43,  3.94it/s]"
     ]
    },
    {
     "name": "stdout",
     "output_type": "stream",
     "text": [
      "Processed 320/3568. Elapsed time: 128.4 expected remaining: 1302\n"
     ]
    },
    {
     "name": "stderr",
     "output_type": "stream",
     "text": [
      " 10%|▉         | 341/3568 [02:15<12:33,  4.28it/s]"
     ]
    },
    {
     "name": "stdout",
     "output_type": "stream",
     "text": [
      "Processed 340/3568. Elapsed time: 135.9 expected remaining: 1290\n"
     ]
    },
    {
     "name": "stderr",
     "output_type": "stream",
     "text": [
      " 10%|█         | 361/3568 [02:23<15:41,  3.41it/s]"
     ]
    },
    {
     "name": "stdout",
     "output_type": "stream",
     "text": [
      "Processed 360/3568. Elapsed time: 144.0 expected remaining: 1282\n"
     ]
    },
    {
     "name": "stderr",
     "output_type": "stream",
     "text": [
      " 11%|█         | 381/3568 [02:36<34:46,  1.53it/s]"
     ]
    },
    {
     "name": "stdout",
     "output_type": "stream",
     "text": [
      "Processed 380/3568. Elapsed time: 156.6 expected remaining: 1314\n"
     ]
    },
    {
     "name": "stderr",
     "output_type": "stream",
     "text": [
      " 11%|█         | 401/3568 [02:45<23:19,  2.26it/s]"
     ]
    },
    {
     "name": "stdout",
     "output_type": "stream",
     "text": [
      "Processed 400/3568. Elapsed time: 165.2 expected remaining: 1308\n"
     ]
    },
    {
     "name": "stderr",
     "output_type": "stream",
     "text": [
      " 12%|█▏        | 421/3568 [02:53<16:08,  3.25it/s]"
     ]
    },
    {
     "name": "stdout",
     "output_type": "stream",
     "text": [
      "Processed 420/3568. Elapsed time: 173.4 expected remaining: 1299\n"
     ]
    },
    {
     "name": "stderr",
     "output_type": "stream",
     "text": [
      " 12%|█▏        | 442/3568 [03:00<18:01,  2.89it/s]"
     ]
    },
    {
     "name": "stdout",
     "output_type": "stream",
     "text": [
      "Processed 440/3568. Elapsed time: 180.3 expected remaining: 1282\n"
     ]
    },
    {
     "name": "stderr",
     "output_type": "stream",
     "text": [
      " 13%|█▎        | 461/3568 [03:07<26:07,  1.98it/s]"
     ]
    },
    {
     "name": "stdout",
     "output_type": "stream",
     "text": [
      "Processed 460/3568. Elapsed time: 187.3 expected remaining: 1265\n"
     ]
    },
    {
     "name": "stderr",
     "output_type": "stream",
     "text": [
      " 13%|█▎        | 481/3568 [03:16<20:03,  2.56it/s]"
     ]
    },
    {
     "name": "stdout",
     "output_type": "stream",
     "text": [
      "Processed 480/3568. Elapsed time: 197.0 expected remaining: 1267\n"
     ]
    },
    {
     "name": "stderr",
     "output_type": "stream",
     "text": [
      " 14%|█▍        | 501/3568 [03:27<25:00,  2.04it/s]"
     ]
    },
    {
     "name": "stdout",
     "output_type": "stream",
     "text": [
      "Processed 500/3568. Elapsed time: 207.2 expected remaining: 1271\n"
     ]
    },
    {
     "name": "stderr",
     "output_type": "stream",
     "text": [
      " 15%|█▍        | 521/3568 [03:37<26:54,  1.89it/s]"
     ]
    },
    {
     "name": "stdout",
     "output_type": "stream",
     "text": [
      "Processed 520/3568. Elapsed time: 217.3 expected remaining: 1273\n"
     ]
    },
    {
     "name": "stderr",
     "output_type": "stream",
     "text": [
      " 15%|█▌        | 541/3568 [03:47<21:17,  2.37it/s]"
     ]
    },
    {
     "name": "stdout",
     "output_type": "stream",
     "text": [
      "Processed 540/3568. Elapsed time: 227.8 expected remaining: 1277\n"
     ]
    },
    {
     "name": "stderr",
     "output_type": "stream",
     "text": [
      " 16%|█▌        | 561/3568 [03:57<25:10,  1.99it/s]"
     ]
    },
    {
     "name": "stdout",
     "output_type": "stream",
     "text": [
      "Processed 560/3568. Elapsed time: 237.3 expected remaining: 1274\n"
     ]
    },
    {
     "name": "stderr",
     "output_type": "stream",
     "text": [
      " 16%|█▋        | 581/3568 [04:06<23:49,  2.09it/s]"
     ]
    },
    {
     "name": "stdout",
     "output_type": "stream",
     "text": [
      "Processed 580/3568. Elapsed time: 246.5 expected remaining: 1269\n"
     ]
    },
    {
     "name": "stderr",
     "output_type": "stream",
     "text": [
      " 17%|█▋        | 601/3568 [04:16<14:27,  3.42it/s]"
     ]
    },
    {
     "name": "stdout",
     "output_type": "stream",
     "text": [
      "Processed 600/3568. Elapsed time: 256.3 expected remaining: 1268\n"
     ]
    },
    {
     "name": "stderr",
     "output_type": "stream",
     "text": [
      " 17%|█▋        | 622/3568 [04:26<12:01,  4.08it/s]"
     ]
    },
    {
     "name": "stdout",
     "output_type": "stream",
     "text": [
      "Processed 620/3568. Elapsed time: 265.9 expected remaining: 1264\n"
     ]
    },
    {
     "name": "stderr",
     "output_type": "stream",
     "text": [
      " 18%|█▊        | 641/3568 [04:32<22:10,  2.20it/s]"
     ]
    },
    {
     "name": "stdout",
     "output_type": "stream",
     "text": [
      "Processed 640/3568. Elapsed time: 272.8 expected remaining: 1248\n"
     ]
    },
    {
     "name": "stderr",
     "output_type": "stream",
     "text": [
      " 19%|█▊        | 661/3568 [04:41<19:10,  2.53it/s]"
     ]
    },
    {
     "name": "stdout",
     "output_type": "stream",
     "text": [
      "Processed 660/3568. Elapsed time: 281.9 expected remaining: 1242\n"
     ]
    },
    {
     "name": "stderr",
     "output_type": "stream",
     "text": [
      " 19%|█▉        | 681/3568 [04:52<21:21,  2.25it/s]"
     ]
    },
    {
     "name": "stdout",
     "output_type": "stream",
     "text": [
      "Processed 680/3568. Elapsed time: 292.7 expected remaining: 1243\n"
     ]
    },
    {
     "name": "stderr",
     "output_type": "stream",
     "text": [
      " 20%|█▉        | 701/3568 [05:02<22:22,  2.14it/s]"
     ]
    },
    {
     "name": "stdout",
     "output_type": "stream",
     "text": [
      "Processed 700/3568. Elapsed time: 302.2 expected remaining: 1238\n"
     ]
    },
    {
     "name": "stderr",
     "output_type": "stream",
     "text": [
      " 20%|██        | 722/3568 [05:13<17:19,  2.74it/s]"
     ]
    },
    {
     "name": "stdout",
     "output_type": "stream",
     "text": [
      "Processed 720/3568. Elapsed time: 313.4 expected remaining: 1239\n"
     ]
    },
    {
     "name": "stderr",
     "output_type": "stream",
     "text": [
      " 21%|██        | 741/3568 [05:21<15:55,  2.96it/s]"
     ]
    },
    {
     "name": "stdout",
     "output_type": "stream",
     "text": [
      "Processed 740/3568. Elapsed time: 321.7 expected remaining: 1229\n"
     ]
    },
    {
     "name": "stderr",
     "output_type": "stream",
     "text": [
      " 21%|██▏       | 761/3568 [05:33<24:11,  1.93it/s]"
     ]
    },
    {
     "name": "stdout",
     "output_type": "stream",
     "text": [
      "Processed 760/3568. Elapsed time: 333.4 expected remaining: 1231\n"
     ]
    },
    {
     "name": "stderr",
     "output_type": "stream",
     "text": [
      " 22%|██▏       | 781/3568 [05:43<22:08,  2.10it/s]"
     ]
    },
    {
     "name": "stdout",
     "output_type": "stream",
     "text": [
      "Processed 780/3568. Elapsed time: 343.1 expected remaining: 1226\n"
     ]
    },
    {
     "name": "stderr",
     "output_type": "stream",
     "text": [
      " 22%|██▏       | 801/3568 [05:51<19:01,  2.42it/s]"
     ]
    },
    {
     "name": "stdout",
     "output_type": "stream",
     "text": [
      "Processed 800/3568. Elapsed time: 351.9 expected remaining: 1217\n"
     ]
    },
    {
     "name": "stderr",
     "output_type": "stream",
     "text": [
      " 23%|██▎       | 821/3568 [06:01<32:27,  1.41it/s]"
     ]
    },
    {
     "name": "stdout",
     "output_type": "stream",
     "text": [
      "Processed 820/3568. Elapsed time: 361.7 expected remaining: 1212\n"
     ]
    },
    {
     "name": "stderr",
     "output_type": "stream",
     "text": [
      " 24%|██▎       | 841/3568 [06:14<27:24,  1.66it/s]"
     ]
    },
    {
     "name": "stdout",
     "output_type": "stream",
     "text": [
      "Processed 840/3568. Elapsed time: 374.6 expected remaining: 1216\n"
     ]
    },
    {
     "name": "stderr",
     "output_type": "stream",
     "text": [
      " 24%|██▍       | 861/3568 [06:23<13:09,  3.43it/s]"
     ]
    },
    {
     "name": "stdout",
     "output_type": "stream",
     "text": [
      "Processed 860/3568. Elapsed time: 383.1 expected remaining: 1206\n"
     ]
    },
    {
     "name": "stderr",
     "output_type": "stream",
     "text": [
      " 25%|██▍       | 881/3568 [06:33<27:14,  1.64it/s]"
     ]
    },
    {
     "name": "stdout",
     "output_type": "stream",
     "text": [
      "Processed 880/3568. Elapsed time: 393.0 expected remaining: 1200\n"
     ]
    },
    {
     "name": "stderr",
     "output_type": "stream",
     "text": [
      " 25%|██▌       | 901/3568 [06:42<22:51,  1.94it/s]"
     ]
    },
    {
     "name": "stdout",
     "output_type": "stream",
     "text": [
      "Processed 900/3568. Elapsed time: 403.0 expected remaining: 1194\n"
     ]
    },
    {
     "name": "stderr",
     "output_type": "stream",
     "text": [
      " 26%|██▌       | 921/3568 [06:50<14:16,  3.09it/s]"
     ]
    },
    {
     "name": "stdout",
     "output_type": "stream",
     "text": [
      "Processed 920/3568. Elapsed time: 410.4 expected remaining: 1181\n"
     ]
    },
    {
     "name": "stderr",
     "output_type": "stream",
     "text": [
      " 26%|██▋       | 941/3568 [06:59<20:31,  2.13it/s]"
     ]
    },
    {
     "name": "stdout",
     "output_type": "stream",
     "text": [
      "Processed 940/3568. Elapsed time: 420.0 expected remaining: 1174\n"
     ]
    },
    {
     "name": "stderr",
     "output_type": "stream",
     "text": [
      " 27%|██▋       | 961/3568 [07:09<19:51,  2.19it/s]"
     ]
    },
    {
     "name": "stdout",
     "output_type": "stream",
     "text": [
      "Processed 960/3568. Elapsed time: 429.7 expected remaining: 1167\n"
     ]
    },
    {
     "name": "stderr",
     "output_type": "stream",
     "text": [
      " 27%|██▋       | 981/3568 [07:18<22:22,  1.93it/s]"
     ]
    },
    {
     "name": "stdout",
     "output_type": "stream",
     "text": [
      "Processed 980/3568. Elapsed time: 438.6 expected remaining: 1158\n"
     ]
    },
    {
     "name": "stderr",
     "output_type": "stream",
     "text": [
      " 28%|██▊       | 1001/3568 [07:27<20:53,  2.05it/s]"
     ]
    },
    {
     "name": "stdout",
     "output_type": "stream",
     "text": [
      "Processed 1000/3568. Elapsed time: 447.0 expected remaining: 1148\n"
     ]
    },
    {
     "name": "stderr",
     "output_type": "stream",
     "text": [
      " 29%|██▊       | 1021/3568 [07:35<20:46,  2.04it/s]"
     ]
    },
    {
     "name": "stdout",
     "output_type": "stream",
     "text": [
      "Processed 1020/3568. Elapsed time: 455.4 expected remaining: 1137\n"
     ]
    },
    {
     "name": "stderr",
     "output_type": "stream",
     "text": [
      " 29%|██▉       | 1041/3568 [07:43<16:29,  2.55it/s]"
     ]
    },
    {
     "name": "stdout",
     "output_type": "stream",
     "text": [
      "Processed 1040/3568. Elapsed time: 463.5 expected remaining: 1126\n"
     ]
    },
    {
     "name": "stderr",
     "output_type": "stream",
     "text": [
      " 30%|██▉       | 1061/3568 [07:53<23:20,  1.79it/s]"
     ]
    },
    {
     "name": "stdout",
     "output_type": "stream",
     "text": [
      "Processed 1060/3568. Elapsed time: 474.0 expected remaining: 1121\n"
     ]
    },
    {
     "name": "stderr",
     "output_type": "stream",
     "text": [
      " 30%|███       | 1081/3568 [08:04<18:58,  2.18it/s]"
     ]
    },
    {
     "name": "stdout",
     "output_type": "stream",
     "text": [
      "Processed 1080/3568. Elapsed time: 484.8 expected remaining: 1116\n"
     ]
    },
    {
     "name": "stderr",
     "output_type": "stream",
     "text": [
      " 31%|███       | 1101/3568 [08:12<11:42,  3.51it/s]"
     ]
    },
    {
     "name": "stdout",
     "output_type": "stream",
     "text": [
      "Processed 1100/3568. Elapsed time: 492.7 expected remaining: 1105\n"
     ]
    },
    {
     "name": "stderr",
     "output_type": "stream",
     "text": [
      " 31%|███▏      | 1121/3568 [08:20<14:49,  2.75it/s]"
     ]
    },
    {
     "name": "stdout",
     "output_type": "stream",
     "text": [
      "Processed 1120/3568. Elapsed time: 500.5 expected remaining: 1093\n"
     ]
    },
    {
     "name": "stderr",
     "output_type": "stream",
     "text": [
      " 32%|███▏      | 1142/3568 [08:23<06:03,  6.67it/s]"
     ]
    },
    {
     "name": "stdout",
     "output_type": "stream",
     "text": [
      "Processed 1140/3568. Elapsed time: 503.8 expected remaining: 1072\n"
     ]
    },
    {
     "name": "stderr",
     "output_type": "stream",
     "text": [
      " 33%|███▎      | 1162/3568 [08:31<15:46,  2.54it/s]"
     ]
    },
    {
     "name": "stdout",
     "output_type": "stream",
     "text": [
      "Processed 1160/3568. Elapsed time: 511.6 expected remaining: 1061\n"
     ]
    },
    {
     "name": "stderr",
     "output_type": "stream",
     "text": [
      " 33%|███▎      | 1181/3568 [08:39<17:51,  2.23it/s]"
     ]
    },
    {
     "name": "stdout",
     "output_type": "stream",
     "text": [
      "Processed 1180/3568. Elapsed time: 519.6 expected remaining: 1051\n"
     ]
    },
    {
     "name": "stderr",
     "output_type": "stream",
     "text": [
      " 34%|███▎      | 1201/3568 [08:49<22:14,  1.77it/s]"
     ]
    },
    {
     "name": "stdout",
     "output_type": "stream",
     "text": [
      "Processed 1200/3568. Elapsed time: 529.7 expected remaining: 1045\n"
     ]
    },
    {
     "name": "stderr",
     "output_type": "stream",
     "text": [
      " 34%|███▍      | 1222/3568 [08:55<06:15,  6.24it/s]"
     ]
    },
    {
     "name": "stdout",
     "output_type": "stream",
     "text": [
      "Processed 1220/3568. Elapsed time: 535.0 expected remaining: 1029\n"
     ]
    },
    {
     "name": "stderr",
     "output_type": "stream",
     "text": [
      " 35%|███▍      | 1241/3568 [09:03<22:58,  1.69it/s]"
     ]
    },
    {
     "name": "stdout",
     "output_type": "stream",
     "text": [
      "Processed 1240/3568. Elapsed time: 543.5 expected remaining: 1020\n"
     ]
    },
    {
     "name": "stderr",
     "output_type": "stream",
     "text": [
      " 35%|███▌      | 1261/3568 [09:14<18:27,  2.08it/s]"
     ]
    },
    {
     "name": "stdout",
     "output_type": "stream",
     "text": [
      "Processed 1260/3568. Elapsed time: 554.6 expected remaining: 1015\n"
     ]
    },
    {
     "name": "stderr",
     "output_type": "stream",
     "text": [
      " 36%|███▌      | 1281/3568 [09:22<16:53,  2.26it/s]"
     ]
    },
    {
     "name": "stdout",
     "output_type": "stream",
     "text": [
      "Processed 1280/3568. Elapsed time: 562.3 expected remaining: 1005\n"
     ]
    },
    {
     "name": "stderr",
     "output_type": "stream",
     "text": [
      " 36%|███▋      | 1302/3568 [09:30<07:56,  4.76it/s]"
     ]
    },
    {
     "name": "stdout",
     "output_type": "stream",
     "text": [
      "Processed 1300/3568. Elapsed time: 570.6 expected remaining: 995\n"
     ]
    },
    {
     "name": "stderr",
     "output_type": "stream",
     "text": [
      " 37%|███▋      | 1321/3568 [09:41<20:01,  1.87it/s]"
     ]
    },
    {
     "name": "stdout",
     "output_type": "stream",
     "text": [
      "Processed 1320/3568. Elapsed time: 581.7 expected remaining: 990\n"
     ]
    },
    {
     "name": "stderr",
     "output_type": "stream",
     "text": [
      " 38%|███▊      | 1341/3568 [09:52<24:36,  1.51it/s]"
     ]
    },
    {
     "name": "stdout",
     "output_type": "stream",
     "text": [
      "Processed 1340/3568. Elapsed time: 592.9 expected remaining: 985\n"
     ]
    },
    {
     "name": "stderr",
     "output_type": "stream",
     "text": [
      " 38%|███▊      | 1361/3568 [10:01<10:58,  3.35it/s]"
     ]
    },
    {
     "name": "stdout",
     "output_type": "stream",
     "text": [
      "Processed 1360/3568. Elapsed time: 601.4 expected remaining: 976\n"
     ]
    },
    {
     "name": "stderr",
     "output_type": "stream",
     "text": [
      " 39%|███▊      | 1381/3568 [10:11<17:33,  2.08it/s]"
     ]
    },
    {
     "name": "stdout",
     "output_type": "stream",
     "text": [
      "Processed 1380/3568. Elapsed time: 611.9 expected remaining: 970\n"
     ]
    },
    {
     "name": "stderr",
     "output_type": "stream",
     "text": [
      " 39%|███▉      | 1402/3568 [10:18<08:50,  4.08it/s]"
     ]
    },
    {
     "name": "stdout",
     "output_type": "stream",
     "text": [
      "Processed 1400/3568. Elapsed time: 618.7 expected remaining: 958\n"
     ]
    },
    {
     "name": "stderr",
     "output_type": "stream",
     "text": [
      " 40%|███▉      | 1421/3568 [10:27<18:36,  1.92it/s]"
     ]
    },
    {
     "name": "stdout",
     "output_type": "stream",
     "text": [
      "Processed 1420/3568. Elapsed time: 627.7 expected remaining: 949\n"
     ]
    },
    {
     "name": "stderr",
     "output_type": "stream",
     "text": [
      " 40%|████      | 1441/3568 [10:35<11:31,  3.07it/s]"
     ]
    },
    {
     "name": "stdout",
     "output_type": "stream",
     "text": [
      "Processed 1440/3568. Elapsed time: 635.1 expected remaining: 938\n"
     ]
    },
    {
     "name": "stderr",
     "output_type": "stream",
     "text": [
      " 41%|████      | 1461/3568 [10:44<21:40,  1.62it/s]"
     ]
    },
    {
     "name": "stdout",
     "output_type": "stream",
     "text": [
      "Processed 1460/3568. Elapsed time: 644.7 expected remaining: 930\n"
     ]
    },
    {
     "name": "stderr",
     "output_type": "stream",
     "text": [
      " 42%|████▏     | 1481/3568 [10:53<15:11,  2.29it/s]"
     ]
    },
    {
     "name": "stdout",
     "output_type": "stream",
     "text": [
      "Processed 1480/3568. Elapsed time: 653.2 expected remaining: 921\n"
     ]
    },
    {
     "name": "stderr",
     "output_type": "stream",
     "text": [
      " 42%|████▏     | 1501/3568 [11:05<16:38,  2.07it/s]"
     ]
    },
    {
     "name": "stdout",
     "output_type": "stream",
     "text": [
      "Processed 1500/3568. Elapsed time: 665.7 expected remaining: 917\n"
     ]
    },
    {
     "name": "stderr",
     "output_type": "stream",
     "text": [
      " 43%|████▎     | 1521/3568 [11:15<18:22,  1.86it/s]"
     ]
    },
    {
     "name": "stdout",
     "output_type": "stream",
     "text": [
      "Processed 1520/3568. Elapsed time: 675.7 expected remaining: 910\n"
     ]
    },
    {
     "name": "stderr",
     "output_type": "stream",
     "text": [
      " 43%|████▎     | 1541/3568 [11:25<20:51,  1.62it/s]"
     ]
    },
    {
     "name": "stdout",
     "output_type": "stream",
     "text": [
      "Processed 1540/3568. Elapsed time: 685.7 expected remaining: 903\n"
     ]
    },
    {
     "name": "stderr",
     "output_type": "stream",
     "text": [
      " 44%|████▍     | 1561/3568 [11:37<16:13,  2.06it/s]"
     ]
    },
    {
     "name": "stdout",
     "output_type": "stream",
     "text": [
      "Processed 1560/3568. Elapsed time: 697.2 expected remaining: 897\n"
     ]
    },
    {
     "name": "stderr",
     "output_type": "stream",
     "text": [
      " 44%|████▍     | 1581/3568 [11:47<17:24,  1.90it/s]"
     ]
    },
    {
     "name": "stdout",
     "output_type": "stream",
     "text": [
      "Processed 1580/3568. Elapsed time: 707.4 expected remaining: 890\n"
     ]
    },
    {
     "name": "stderr",
     "output_type": "stream",
     "text": [
      " 45%|████▍     | 1601/3568 [11:58<22:00,  1.49it/s]"
     ]
    },
    {
     "name": "stdout",
     "output_type": "stream",
     "text": [
      "Processed 1600/3568. Elapsed time: 718.6 expected remaining: 883\n"
     ]
    },
    {
     "name": "stderr",
     "output_type": "stream",
     "text": [
      " 45%|████▌     | 1621/3568 [12:07<15:59,  2.03it/s]"
     ]
    },
    {
     "name": "stdout",
     "output_type": "stream",
     "text": [
      "Processed 1620/3568. Elapsed time: 727.4 expected remaining: 874\n"
     ]
    },
    {
     "name": "stderr",
     "output_type": "stream",
     "text": [
      " 46%|████▌     | 1641/3568 [12:15<18:45,  1.71it/s]"
     ]
    },
    {
     "name": "stdout",
     "output_type": "stream",
     "text": [
      "Processed 1640/3568. Elapsed time: 735.1 expected remaining: 864\n"
     ]
    },
    {
     "name": "stderr",
     "output_type": "stream",
     "text": [
      " 47%|████▋     | 1661/3568 [12:27<19:04,  1.67it/s]"
     ]
    },
    {
     "name": "stdout",
     "output_type": "stream",
     "text": [
      "Processed 1660/3568. Elapsed time: 747.1 expected remaining: 858\n"
     ]
    },
    {
     "name": "stderr",
     "output_type": "stream",
     "text": [
      " 47%|████▋     | 1681/3568 [12:38<25:31,  1.23it/s]"
     ]
    },
    {
     "name": "stdout",
     "output_type": "stream",
     "text": [
      "Processed 1680/3568. Elapsed time: 758.1 expected remaining: 851\n"
     ]
    },
    {
     "name": "stderr",
     "output_type": "stream",
     "text": [
      " 48%|████▊     | 1701/3568 [12:46<13:29,  2.31it/s]"
     ]
    },
    {
     "name": "stdout",
     "output_type": "stream",
     "text": [
      "Processed 1700/3568. Elapsed time: 766.4 expected remaining: 842\n"
     ]
    },
    {
     "name": "stderr",
     "output_type": "stream",
     "text": [
      " 48%|████▊     | 1721/3568 [12:57<18:04,  1.70it/s]"
     ]
    },
    {
     "name": "stdout",
     "output_type": "stream",
     "text": [
      "Processed 1720/3568. Elapsed time: 777.9 expected remaining: 835\n"
     ]
    },
    {
     "name": "stderr",
     "output_type": "stream",
     "text": [
      " 49%|████▉     | 1741/3568 [13:08<15:26,  1.97it/s]"
     ]
    },
    {
     "name": "stdout",
     "output_type": "stream",
     "text": [
      "Processed 1740/3568. Elapsed time: 788.8 expected remaining: 828\n"
     ]
    },
    {
     "name": "stderr",
     "output_type": "stream",
     "text": [
      " 49%|████▉     | 1761/3568 [13:17<15:10,  1.98it/s]"
     ]
    },
    {
     "name": "stdout",
     "output_type": "stream",
     "text": [
      "Processed 1760/3568. Elapsed time: 797.8 expected remaining: 819\n"
     ]
    },
    {
     "name": "stderr",
     "output_type": "stream",
     "text": [
      " 50%|████▉     | 1781/3568 [13:27<12:56,  2.30it/s]"
     ]
    },
    {
     "name": "stdout",
     "output_type": "stream",
     "text": [
      "Processed 1780/3568. Elapsed time: 807.1 expected remaining: 810\n"
     ]
    },
    {
     "name": "stderr",
     "output_type": "stream",
     "text": [
      " 50%|█████     | 1801/3568 [13:37<12:58,  2.27it/s]"
     ]
    },
    {
     "name": "stdout",
     "output_type": "stream",
     "text": [
      "Processed 1800/3568. Elapsed time: 817.4 expected remaining: 802\n"
     ]
    },
    {
     "name": "stderr",
     "output_type": "stream",
     "text": [
      " 51%|█████     | 1821/3568 [13:48<16:40,  1.75it/s]"
     ]
    },
    {
     "name": "stdout",
     "output_type": "stream",
     "text": [
      "Processed 1820/3568. Elapsed time: 829.0 expected remaining: 796\n"
     ]
    },
    {
     "name": "stderr",
     "output_type": "stream",
     "text": [
      " 52%|█████▏    | 1841/3568 [13:58<10:54,  2.64it/s]"
     ]
    },
    {
     "name": "stdout",
     "output_type": "stream",
     "text": [
      "Processed 1840/3568. Elapsed time: 838.3 expected remaining: 787\n"
     ]
    },
    {
     "name": "stderr",
     "output_type": "stream",
     "text": [
      " 52%|█████▏    | 1861/3568 [14:07<13:37,  2.09it/s]"
     ]
    },
    {
     "name": "stdout",
     "output_type": "stream",
     "text": [
      "Processed 1860/3568. Elapsed time: 847.7 expected remaining: 778\n"
     ]
    },
    {
     "name": "stderr",
     "output_type": "stream",
     "text": [
      " 53%|█████▎    | 1881/3568 [14:19<16:54,  1.66it/s]"
     ]
    },
    {
     "name": "stdout",
     "output_type": "stream",
     "text": [
      "Processed 1880/3568. Elapsed time: 859.1 expected remaining: 771\n"
     ]
    },
    {
     "name": "stderr",
     "output_type": "stream",
     "text": [
      " 53%|█████▎    | 1901/3568 [14:30<17:47,  1.56it/s]"
     ]
    },
    {
     "name": "stdout",
     "output_type": "stream",
     "text": [
      "Processed 1900/3568. Elapsed time: 870.9 expected remaining: 764\n"
     ]
    },
    {
     "name": "stderr",
     "output_type": "stream",
     "text": [
      " 54%|█████▍    | 1921/3568 [14:41<15:00,  1.83it/s]"
     ]
    },
    {
     "name": "stdout",
     "output_type": "stream",
     "text": [
      "Processed 1920/3568. Elapsed time: 881.0 expected remaining: 756\n"
     ]
    },
    {
     "name": "stderr",
     "output_type": "stream",
     "text": [
      " 54%|█████▍    | 1941/3568 [14:52<18:23,  1.47it/s]"
     ]
    },
    {
     "name": "stdout",
     "output_type": "stream",
     "text": [
      "Processed 1940/3568. Elapsed time: 892.9 expected remaining: 749\n"
     ]
    },
    {
     "name": "stderr",
     "output_type": "stream",
     "text": [
      " 55%|█████▍    | 1962/3568 [15:02<10:28,  2.55it/s]"
     ]
    },
    {
     "name": "stdout",
     "output_type": "stream",
     "text": [
      "Processed 1960/3568. Elapsed time: 902.7 expected remaining: 740\n"
     ]
    },
    {
     "name": "stderr",
     "output_type": "stream",
     "text": [
      " 56%|█████▌    | 1981/3568 [15:14<14:03,  1.88it/s]"
     ]
    },
    {
     "name": "stdout",
     "output_type": "stream",
     "text": [
      "Processed 1980/3568. Elapsed time: 914.4 expected remaining: 733\n"
     ]
    },
    {
     "name": "stderr",
     "output_type": "stream",
     "text": [
      " 56%|█████▌    | 2001/3568 [15:26<17:59,  1.45it/s]"
     ]
    },
    {
     "name": "stdout",
     "output_type": "stream",
     "text": [
      "Processed 2000/3568. Elapsed time: 926.1 expected remaining: 726\n"
     ]
    },
    {
     "name": "stderr",
     "output_type": "stream",
     "text": [
      " 57%|█████▋    | 2021/3568 [15:35<11:01,  2.34it/s]"
     ]
    },
    {
     "name": "stdout",
     "output_type": "stream",
     "text": [
      "Processed 2020/3568. Elapsed time: 935.9 expected remaining: 717\n"
     ]
    },
    {
     "name": "stderr",
     "output_type": "stream",
     "text": [
      " 57%|█████▋    | 2041/3568 [15:47<13:37,  1.87it/s]"
     ]
    },
    {
     "name": "stdout",
     "output_type": "stream",
     "text": [
      "Processed 2040/3568. Elapsed time: 947.5 expected remaining: 709\n"
     ]
    },
    {
     "name": "stderr",
     "output_type": "stream",
     "text": [
      " 58%|█████▊    | 2061/3568 [15:59<13:04,  1.92it/s]"
     ]
    },
    {
     "name": "stdout",
     "output_type": "stream",
     "text": [
      "Processed 2060/3568. Elapsed time: 959.0 expected remaining: 702\n"
     ]
    },
    {
     "name": "stderr",
     "output_type": "stream",
     "text": [
      " 58%|█████▊    | 2081/3568 [16:10<16:57,  1.46it/s]"
     ]
    },
    {
     "name": "stdout",
     "output_type": "stream",
     "text": [
      "Processed 2080/3568. Elapsed time: 970.6 expected remaining: 694\n"
     ]
    },
    {
     "name": "stderr",
     "output_type": "stream",
     "text": [
      " 59%|█████▉    | 2101/3568 [16:20<09:24,  2.60it/s]"
     ]
    },
    {
     "name": "stdout",
     "output_type": "stream",
     "text": [
      "Processed 2100/3568. Elapsed time: 980.4 expected remaining: 685\n"
     ]
    },
    {
     "name": "stderr",
     "output_type": "stream",
     "text": [
      " 59%|█████▉    | 2121/3568 [16:29<11:33,  2.09it/s]"
     ]
    },
    {
     "name": "stdout",
     "output_type": "stream",
     "text": [
      "Processed 2120/3568. Elapsed time: 989.7 expected remaining: 675\n"
     ]
    },
    {
     "name": "stderr",
     "output_type": "stream",
     "text": [
      " 60%|██████    | 2141/3568 [16:40<11:29,  2.07it/s]"
     ]
    },
    {
     "name": "stdout",
     "output_type": "stream",
     "text": [
      "Processed 2140/3568. Elapsed time: 1000.5 expected remaining: 667\n"
     ]
    },
    {
     "name": "stderr",
     "output_type": "stream",
     "text": [
      " 61%|██████    | 2161/3568 [16:51<13:35,  1.73it/s]"
     ]
    },
    {
     "name": "stdout",
     "output_type": "stream",
     "text": [
      "Processed 2160/3568. Elapsed time: 1011.6 expected remaining: 659\n"
     ]
    },
    {
     "name": "stderr",
     "output_type": "stream",
     "text": [
      " 61%|██████    | 2181/3568 [17:02<13:02,  1.77it/s]"
     ]
    },
    {
     "name": "stdout",
     "output_type": "stream",
     "text": [
      "Processed 2180/3568. Elapsed time: 1022.1 expected remaining: 650\n"
     ]
    },
    {
     "name": "stderr",
     "output_type": "stream",
     "text": [
      " 62%|██████▏   | 2201/3568 [17:11<10:27,  2.18it/s]"
     ]
    },
    {
     "name": "stdout",
     "output_type": "stream",
     "text": [
      "Processed 2200/3568. Elapsed time: 1031.6 expected remaining: 641\n"
     ]
    },
    {
     "name": "stderr",
     "output_type": "stream",
     "text": [
      " 62%|██████▏   | 2221/3568 [17:23<15:17,  1.47it/s]"
     ]
    },
    {
     "name": "stdout",
     "output_type": "stream",
     "text": [
      "Processed 2220/3568. Elapsed time: 1043.6 expected remaining: 633\n"
     ]
    },
    {
     "name": "stderr",
     "output_type": "stream",
     "text": [
      " 63%|██████▎   | 2241/3568 [17:35<11:24,  1.94it/s]"
     ]
    },
    {
     "name": "stdout",
     "output_type": "stream",
     "text": [
      "Processed 2240/3568. Elapsed time: 1055.3 expected remaining: 625\n"
     ]
    },
    {
     "name": "stderr",
     "output_type": "stream",
     "text": [
      " 63%|██████▎   | 2261/3568 [17:45<09:21,  2.33it/s]"
     ]
    },
    {
     "name": "stdout",
     "output_type": "stream",
     "text": [
      "Processed 2260/3568. Elapsed time: 1065.7 expected remaining: 616\n"
     ]
    },
    {
     "name": "stderr",
     "output_type": "stream",
     "text": [
      " 64%|██████▍   | 2281/3568 [17:56<10:29,  2.04it/s]"
     ]
    },
    {
     "name": "stdout",
     "output_type": "stream",
     "text": [
      "Processed 2280/3568. Elapsed time: 1076.2 expected remaining: 607\n"
     ]
    },
    {
     "name": "stderr",
     "output_type": "stream",
     "text": [
      " 64%|██████▍   | 2301/3568 [18:07<09:46,  2.16it/s]"
     ]
    },
    {
     "name": "stdout",
     "output_type": "stream",
     "text": [
      "Processed 2300/3568. Elapsed time: 1087.0 expected remaining: 599\n"
     ]
    },
    {
     "name": "stderr",
     "output_type": "stream",
     "text": [
      " 65%|██████▌   | 2321/3568 [18:16<08:48,  2.36it/s]"
     ]
    },
    {
     "name": "stdout",
     "output_type": "stream",
     "text": [
      "Processed 2320/3568. Elapsed time: 1096.3 expected remaining: 589\n"
     ]
    },
    {
     "name": "stderr",
     "output_type": "stream",
     "text": [
      " 66%|██████▌   | 2341/3568 [18:26<10:28,  1.95it/s]"
     ]
    },
    {
     "name": "stdout",
     "output_type": "stream",
     "text": [
      "Processed 2340/3568. Elapsed time: 1106.6 expected remaining: 580\n"
     ]
    },
    {
     "name": "stderr",
     "output_type": "stream",
     "text": [
      " 66%|██████▌   | 2361/3568 [18:39<17:46,  1.13it/s]"
     ]
    },
    {
     "name": "stdout",
     "output_type": "stream",
     "text": [
      "Processed 2360/3568. Elapsed time: 1119.6 expected remaining: 573\n"
     ]
    },
    {
     "name": "stderr",
     "output_type": "stream",
     "text": [
      " 67%|██████▋   | 2381/3568 [18:51<15:38,  1.27it/s]"
     ]
    },
    {
     "name": "stdout",
     "output_type": "stream",
     "text": [
      "Processed 2380/3568. Elapsed time: 1131.2 expected remaining: 564\n"
     ]
    },
    {
     "name": "stderr",
     "output_type": "stream",
     "text": [
      " 67%|██████▋   | 2401/3568 [19:02<10:53,  1.79it/s]"
     ]
    },
    {
     "name": "stdout",
     "output_type": "stream",
     "text": [
      "Processed 2400/3568. Elapsed time: 1142.8 expected remaining: 556\n"
     ]
    },
    {
     "name": "stderr",
     "output_type": "stream",
     "text": [
      " 68%|██████▊   | 2421/3568 [19:14<10:03,  1.90it/s]"
     ]
    },
    {
     "name": "stdout",
     "output_type": "stream",
     "text": [
      "Processed 2420/3568. Elapsed time: 1154.1 expected remaining: 547\n"
     ]
    },
    {
     "name": "stderr",
     "output_type": "stream",
     "text": [
      " 68%|██████▊   | 2441/3568 [19:25<10:50,  1.73it/s]"
     ]
    },
    {
     "name": "stdout",
     "output_type": "stream",
     "text": [
      "Processed 2440/3568. Elapsed time: 1165.9 expected remaining: 538\n"
     ]
    },
    {
     "name": "stderr",
     "output_type": "stream",
     "text": [
      " 69%|██████▉   | 2461/3568 [19:35<08:41,  2.12it/s]"
     ]
    },
    {
     "name": "stdout",
     "output_type": "stream",
     "text": [
      "Processed 2460/3568. Elapsed time: 1175.5 expected remaining: 529\n"
     ]
    },
    {
     "name": "stderr",
     "output_type": "stream",
     "text": [
      " 70%|██████▉   | 2481/3568 [19:45<10:37,  1.71it/s]"
     ]
    },
    {
     "name": "stdout",
     "output_type": "stream",
     "text": [
      "Processed 2480/3568. Elapsed time: 1185.1 expected remaining: 519\n"
     ]
    },
    {
     "name": "stderr",
     "output_type": "stream",
     "text": [
      " 70%|███████   | 2501/3568 [19:56<10:38,  1.67it/s]"
     ]
    },
    {
     "name": "stdout",
     "output_type": "stream",
     "text": [
      "Processed 2500/3568. Elapsed time: 1196.0 expected remaining: 510\n"
     ]
    },
    {
     "name": "stderr",
     "output_type": "stream",
     "text": [
      " 71%|███████   | 2521/3568 [20:05<08:52,  1.97it/s]"
     ]
    },
    {
     "name": "stdout",
     "output_type": "stream",
     "text": [
      "Processed 2520/3568. Elapsed time: 1205.6 expected remaining: 501\n"
     ]
    },
    {
     "name": "stderr",
     "output_type": "stream",
     "text": [
      " 71%|███████   | 2541/3568 [20:16<09:28,  1.81it/s]"
     ]
    },
    {
     "name": "stdout",
     "output_type": "stream",
     "text": [
      "Processed 2540/3568. Elapsed time: 1216.5 expected remaining: 492\n"
     ]
    },
    {
     "name": "stderr",
     "output_type": "stream",
     "text": [
      " 72%|███████▏  | 2561/3568 [20:28<11:15,  1.49it/s]"
     ]
    },
    {
     "name": "stdout",
     "output_type": "stream",
     "text": [
      "Processed 2560/3568. Elapsed time: 1229.0 expected remaining: 483\n"
     ]
    },
    {
     "name": "stderr",
     "output_type": "stream",
     "text": [
      " 72%|███████▏  | 2581/3568 [20:39<07:51,  2.10it/s]"
     ]
    },
    {
     "name": "stdout",
     "output_type": "stream",
     "text": [
      "Processed 2580/3568. Elapsed time: 1239.4 expected remaining: 474\n"
     ]
    },
    {
     "name": "stderr",
     "output_type": "stream",
     "text": [
      " 73%|███████▎  | 2601/3568 [20:49<09:37,  1.67it/s]"
     ]
    },
    {
     "name": "stdout",
     "output_type": "stream",
     "text": [
      "Processed 2600/3568. Elapsed time: 1249.4 expected remaining: 465\n"
     ]
    },
    {
     "name": "stderr",
     "output_type": "stream",
     "text": [
      " 73%|███████▎  | 2621/3568 [21:01<08:56,  1.77it/s]"
     ]
    },
    {
     "name": "stdout",
     "output_type": "stream",
     "text": [
      "Processed 2620/3568. Elapsed time: 1261.1 expected remaining: 456\n"
     ]
    },
    {
     "name": "stderr",
     "output_type": "stream",
     "text": [
      " 74%|███████▍  | 2641/3568 [21:14<07:14,  2.13it/s]"
     ]
    },
    {
     "name": "stdout",
     "output_type": "stream",
     "text": [
      "Processed 2640/3568. Elapsed time: 1274.2 expected remaining: 447\n"
     ]
    },
    {
     "name": "stderr",
     "output_type": "stream",
     "text": [
      " 75%|███████▍  | 2661/3568 [21:25<08:31,  1.77it/s]"
     ]
    },
    {
     "name": "stdout",
     "output_type": "stream",
     "text": [
      "Processed 2660/3568. Elapsed time: 1285.4 expected remaining: 438\n"
     ]
    },
    {
     "name": "stderr",
     "output_type": "stream",
     "text": [
      " 75%|███████▌  | 2681/3568 [21:35<08:27,  1.75it/s]"
     ]
    },
    {
     "name": "stdout",
     "output_type": "stream",
     "text": [
      "Processed 2680/3568. Elapsed time: 1295.2 expected remaining: 429\n"
     ]
    },
    {
     "name": "stderr",
     "output_type": "stream",
     "text": [
      " 76%|███████▌  | 2701/3568 [21:47<07:11,  2.01it/s]"
     ]
    },
    {
     "name": "stdout",
     "output_type": "stream",
     "text": [
      "Processed 2700/3568. Elapsed time: 1307.0 expected remaining: 420\n"
     ]
    },
    {
     "name": "stderr",
     "output_type": "stream",
     "text": [
      " 76%|███████▋  | 2721/3568 [21:55<06:10,  2.28it/s]"
     ]
    },
    {
     "name": "stdout",
     "output_type": "stream",
     "text": [
      "Processed 2720/3568. Elapsed time: 1315.0 expected remaining: 409\n"
     ]
    },
    {
     "name": "stderr",
     "output_type": "stream",
     "text": [
      " 77%|███████▋  | 2741/3568 [22:07<09:22,  1.47it/s]"
     ]
    },
    {
     "name": "stdout",
     "output_type": "stream",
     "text": [
      "Processed 2740/3568. Elapsed time: 1327.7 expected remaining: 401\n"
     ]
    },
    {
     "name": "stderr",
     "output_type": "stream",
     "text": [
      " 77%|███████▋  | 2761/3568 [22:18<08:47,  1.53it/s]"
     ]
    },
    {
     "name": "stdout",
     "output_type": "stream",
     "text": [
      "Processed 2760/3568. Elapsed time: 1338.9 expected remaining: 391\n"
     ]
    },
    {
     "name": "stderr",
     "output_type": "stream",
     "text": [
      " 78%|███████▊  | 2781/3568 [22:30<06:28,  2.02it/s]"
     ]
    },
    {
     "name": "stdout",
     "output_type": "stream",
     "text": [
      "Processed 2780/3568. Elapsed time: 1350.9 expected remaining: 382\n"
     ]
    },
    {
     "name": "stderr",
     "output_type": "stream",
     "text": [
      " 79%|███████▊  | 2801/3568 [22:41<05:51,  2.18it/s]"
     ]
    },
    {
     "name": "stdout",
     "output_type": "stream",
     "text": [
      "Processed 2800/3568. Elapsed time: 1361.5 expected remaining: 373\n"
     ]
    },
    {
     "name": "stderr",
     "output_type": "stream",
     "text": [
      " 79%|███████▉  | 2821/3568 [22:52<06:43,  1.85it/s]"
     ]
    },
    {
     "name": "stdout",
     "output_type": "stream",
     "text": [
      "Processed 2820/3568. Elapsed time: 1372.7 expected remaining: 364\n"
     ]
    },
    {
     "name": "stderr",
     "output_type": "stream",
     "text": [
      " 80%|███████▉  | 2841/3568 [23:04<05:49,  2.08it/s]"
     ]
    },
    {
     "name": "stdout",
     "output_type": "stream",
     "text": [
      "Processed 2840/3568. Elapsed time: 1384.7 expected remaining: 354\n"
     ]
    },
    {
     "name": "stderr",
     "output_type": "stream",
     "text": [
      " 80%|████████  | 2861/3568 [23:15<06:31,  1.81it/s]"
     ]
    },
    {
     "name": "stdout",
     "output_type": "stream",
     "text": [
      "Processed 2860/3568. Elapsed time: 1395.9 expected remaining: 345\n"
     ]
    },
    {
     "name": "stderr",
     "output_type": "stream",
     "text": [
      " 81%|████████  | 2881/3568 [23:25<06:18,  1.82it/s]"
     ]
    },
    {
     "name": "stdout",
     "output_type": "stream",
     "text": [
      "Processed 2880/3568. Elapsed time: 1405.2 expected remaining: 335\n"
     ]
    },
    {
     "name": "stderr",
     "output_type": "stream",
     "text": [
      " 81%|████████▏ | 2901/3568 [23:34<05:25,  2.05it/s]"
     ]
    },
    {
     "name": "stdout",
     "output_type": "stream",
     "text": [
      "Processed 2900/3568. Elapsed time: 1414.2 expected remaining: 325\n"
     ]
    },
    {
     "name": "stderr",
     "output_type": "stream",
     "text": [
      " 82%|████████▏ | 2921/3568 [23:47<07:04,  1.52it/s]"
     ]
    },
    {
     "name": "stdout",
     "output_type": "stream",
     "text": [
      "Processed 2920/3568. Elapsed time: 1427.2 expected remaining: 316\n"
     ]
    },
    {
     "name": "stderr",
     "output_type": "stream",
     "text": [
      " 82%|████████▏ | 2941/3568 [23:55<04:29,  2.33it/s]"
     ]
    },
    {
     "name": "stdout",
     "output_type": "stream",
     "text": [
      "Processed 2940/3568. Elapsed time: 1435.6 expected remaining: 306\n"
     ]
    },
    {
     "name": "stderr",
     "output_type": "stream",
     "text": [
      " 83%|████████▎ | 2961/3568 [24:04<03:53,  2.60it/s]"
     ]
    },
    {
     "name": "stdout",
     "output_type": "stream",
     "text": [
      "Processed 2960/3568. Elapsed time: 1444.2 expected remaining: 296\n"
     ]
    },
    {
     "name": "stderr",
     "output_type": "stream",
     "text": [
      " 84%|████████▎ | 2981/3568 [24:14<04:41,  2.09it/s]"
     ]
    },
    {
     "name": "stdout",
     "output_type": "stream",
     "text": [
      "Processed 2980/3568. Elapsed time: 1454.8 expected remaining: 287\n"
     ]
    },
    {
     "name": "stderr",
     "output_type": "stream",
     "text": [
      " 84%|████████▍ | 3001/3568 [24:24<04:09,  2.27it/s]"
     ]
    },
    {
     "name": "stdout",
     "output_type": "stream",
     "text": [
      "Processed 3000/3568. Elapsed time: 1464.4 expected remaining: 277\n"
     ]
    },
    {
     "name": "stderr",
     "output_type": "stream",
     "text": [
      " 85%|████████▍ | 3021/3568 [24:34<03:47,  2.40it/s]"
     ]
    },
    {
     "name": "stdout",
     "output_type": "stream",
     "text": [
      "Processed 3020/3568. Elapsed time: 1474.8 expected remaining: 267\n"
     ]
    },
    {
     "name": "stderr",
     "output_type": "stream",
     "text": [
      " 85%|████████▌ | 3041/3568 [24:44<05:21,  1.64it/s]"
     ]
    },
    {
     "name": "stdout",
     "output_type": "stream",
     "text": [
      "Processed 3040/3568. Elapsed time: 1484.4 expected remaining: 257\n"
     ]
    },
    {
     "name": "stderr",
     "output_type": "stream",
     "text": [
      " 86%|████████▌ | 3061/3568 [24:52<03:56,  2.15it/s]"
     ]
    },
    {
     "name": "stdout",
     "output_type": "stream",
     "text": [
      "Processed 3060/3568. Elapsed time: 1492.4 expected remaining: 247\n"
     ]
    },
    {
     "name": "stderr",
     "output_type": "stream",
     "text": [
      " 86%|████████▋ | 3081/3568 [25:01<03:18,  2.46it/s]"
     ]
    },
    {
     "name": "stdout",
     "output_type": "stream",
     "text": [
      "Processed 3080/3568. Elapsed time: 1501.8 expected remaining: 237\n"
     ]
    },
    {
     "name": "stderr",
     "output_type": "stream",
     "text": [
      " 87%|████████▋ | 3101/3568 [25:10<04:18,  1.81it/s]"
     ]
    },
    {
     "name": "stdout",
     "output_type": "stream",
     "text": [
      "Processed 3100/3568. Elapsed time: 1510.7 expected remaining: 228\n"
     ]
    },
    {
     "name": "stderr",
     "output_type": "stream",
     "text": [
      " 87%|████████▋ | 3121/3568 [25:21<04:23,  1.70it/s]"
     ]
    },
    {
     "name": "stdout",
     "output_type": "stream",
     "text": [
      "Processed 3120/3568. Elapsed time: 1521.3 expected remaining: 218\n"
     ]
    },
    {
     "name": "stderr",
     "output_type": "stream",
     "text": [
      " 88%|████████▊ | 3141/3568 [25:29<03:23,  2.10it/s]"
     ]
    },
    {
     "name": "stdout",
     "output_type": "stream",
     "text": [
      "Processed 3140/3568. Elapsed time: 1529.2 expected remaining: 208\n"
     ]
    },
    {
     "name": "stderr",
     "output_type": "stream",
     "text": [
      " 89%|████████▊ | 3161/3568 [25:37<02:52,  2.36it/s]"
     ]
    },
    {
     "name": "stdout",
     "output_type": "stream",
     "text": [
      "Processed 3160/3568. Elapsed time: 1537.9 expected remaining: 198\n"
     ]
    },
    {
     "name": "stderr",
     "output_type": "stream",
     "text": [
      " 89%|████████▉ | 3181/3568 [25:50<03:59,  1.61it/s]"
     ]
    },
    {
     "name": "stdout",
     "output_type": "stream",
     "text": [
      "Processed 3180/3568. Elapsed time: 1550.0 expected remaining: 189\n"
     ]
    },
    {
     "name": "stderr",
     "output_type": "stream",
     "text": [
      " 90%|████████▉ | 3201/3568 [26:00<02:25,  2.52it/s]"
     ]
    },
    {
     "name": "stdout",
     "output_type": "stream",
     "text": [
      "Processed 3200/3568. Elapsed time: 1560.2 expected remaining: 179\n"
     ]
    },
    {
     "name": "stderr",
     "output_type": "stream",
     "text": [
      " 90%|█████████ | 3221/3568 [26:11<03:40,  1.57it/s]"
     ]
    },
    {
     "name": "stdout",
     "output_type": "stream",
     "text": [
      "Processed 3220/3568. Elapsed time: 1571.3 expected remaining: 169\n"
     ]
    },
    {
     "name": "stderr",
     "output_type": "stream",
     "text": [
      " 91%|█████████ | 3241/3568 [26:21<03:40,  1.49it/s]"
     ]
    },
    {
     "name": "stdout",
     "output_type": "stream",
     "text": [
      "Processed 3240/3568. Elapsed time: 1581.9 expected remaining: 160\n"
     ]
    },
    {
     "name": "stderr",
     "output_type": "stream",
     "text": [
      " 91%|█████████▏| 3262/3568 [26:33<01:39,  3.09it/s]"
     ]
    },
    {
     "name": "stdout",
     "output_type": "stream",
     "text": [
      "Processed 3260/3568. Elapsed time: 1592.9 expected remaining: 150\n"
     ]
    },
    {
     "name": "stderr",
     "output_type": "stream",
     "text": [
      " 92%|█████████▏| 3281/3568 [26:43<03:41,  1.30it/s]"
     ]
    },
    {
     "name": "stdout",
     "output_type": "stream",
     "text": [
      "Processed 3280/3568. Elapsed time: 1603.4 expected remaining: 140\n"
     ]
    },
    {
     "name": "stderr",
     "output_type": "stream",
     "text": [
      " 93%|█████████▎| 3301/3568 [26:54<01:57,  2.27it/s]"
     ]
    },
    {
     "name": "stdout",
     "output_type": "stream",
     "text": [
      "Processed 3300/3568. Elapsed time: 1614.3 expected remaining: 131\n"
     ]
    },
    {
     "name": "stderr",
     "output_type": "stream",
     "text": [
      " 93%|█████████▎| 3321/3568 [27:06<02:11,  1.87it/s]"
     ]
    },
    {
     "name": "stdout",
     "output_type": "stream",
     "text": [
      "Processed 3320/3568. Elapsed time: 1626.8 expected remaining: 121\n"
     ]
    },
    {
     "name": "stderr",
     "output_type": "stream",
     "text": [
      " 94%|█████████▎| 3341/3568 [27:18<02:10,  1.75it/s]"
     ]
    },
    {
     "name": "stdout",
     "output_type": "stream",
     "text": [
      "Processed 3340/3568. Elapsed time: 1638.6 expected remaining: 111\n"
     ]
    },
    {
     "name": "stderr",
     "output_type": "stream",
     "text": [
      " 94%|█████████▍| 3361/3568 [27:30<02:04,  1.66it/s]"
     ]
    },
    {
     "name": "stdout",
     "output_type": "stream",
     "text": [
      "Processed 3360/3568. Elapsed time: 1650.5 expected remaining: 102\n"
     ]
    },
    {
     "name": "stderr",
     "output_type": "stream",
     "text": [
      " 95%|█████████▍| 3381/3568 [27:40<01:29,  2.08it/s]"
     ]
    },
    {
     "name": "stdout",
     "output_type": "stream",
     "text": [
      "Processed 3380/3568. Elapsed time: 1660.7 expected remaining: 92\n"
     ]
    },
    {
     "name": "stderr",
     "output_type": "stream",
     "text": [
      " 95%|█████████▌| 3401/3568 [27:50<01:33,  1.78it/s]"
     ]
    },
    {
     "name": "stdout",
     "output_type": "stream",
     "text": [
      "Processed 3400/3568. Elapsed time: 1670.1 expected remaining: 82\n"
     ]
    },
    {
     "name": "stderr",
     "output_type": "stream",
     "text": [
      " 96%|█████████▌| 3421/3568 [28:01<01:50,  1.32it/s]"
     ]
    },
    {
     "name": "stdout",
     "output_type": "stream",
     "text": [
      "Processed 3420/3568. Elapsed time: 1681.3 expected remaining: 72\n"
     ]
    },
    {
     "name": "stderr",
     "output_type": "stream",
     "text": [
      " 96%|█████████▋| 3441/3568 [28:13<01:20,  1.58it/s]"
     ]
    },
    {
     "name": "stdout",
     "output_type": "stream",
     "text": [
      "Processed 3440/3568. Elapsed time: 1693.4 expected remaining: 63\n"
     ]
    },
    {
     "name": "stderr",
     "output_type": "stream",
     "text": [
      " 97%|█████████▋| 3461/3568 [28:24<01:00,  1.78it/s]"
     ]
    },
    {
     "name": "stdout",
     "output_type": "stream",
     "text": [
      "Processed 3460/3568. Elapsed time: 1704.8 expected remaining: 53\n"
     ]
    },
    {
     "name": "stderr",
     "output_type": "stream",
     "text": [
      " 98%|█████████▊| 3481/3568 [28:37<01:08,  1.27it/s]"
     ]
    },
    {
     "name": "stdout",
     "output_type": "stream",
     "text": [
      "Processed 3480/3568. Elapsed time: 1717.7 expected remaining: 43\n"
     ]
    },
    {
     "name": "stderr",
     "output_type": "stream",
     "text": [
      " 98%|█████████▊| 3501/3568 [28:49<00:45,  1.46it/s]"
     ]
    },
    {
     "name": "stdout",
     "output_type": "stream",
     "text": [
      "Processed 3500/3568. Elapsed time: 1729.2 expected remaining: 33\n"
     ]
    },
    {
     "name": "stderr",
     "output_type": "stream",
     "text": [
      " 99%|█████████▊| 3521/3568 [28:59<00:25,  1.83it/s]"
     ]
    },
    {
     "name": "stdout",
     "output_type": "stream",
     "text": [
      "Processed 3520/3568. Elapsed time: 1739.7 expected remaining: 23\n"
     ]
    },
    {
     "name": "stderr",
     "output_type": "stream",
     "text": [
      " 99%|█████████▉| 3541/3568 [29:10<00:14,  1.88it/s]"
     ]
    },
    {
     "name": "stdout",
     "output_type": "stream",
     "text": [
      "Processed 3540/3568. Elapsed time: 1750.4 expected remaining: 13\n"
     ]
    },
    {
     "name": "stderr",
     "output_type": "stream",
     "text": [
      "100%|█████████▉| 3561/3568 [29:22<00:03,  2.00it/s]"
     ]
    },
    {
     "name": "stdout",
     "output_type": "stream",
     "text": [
      "Processed 3560/3568. Elapsed time: 1762.4 expected remaining: 3\n"
     ]
    },
    {
     "name": "stderr",
     "output_type": "stream",
     "text": [
      "100%|██████████| 3568/3568 [29:25<00:00,  2.02it/s]"
     ]
    },
    {
     "name": "stdout",
     "output_type": "stream",
     "text": [
      "Elapsed time: 1765.2559878826141\n"
     ]
    },
    {
     "name": "stderr",
     "output_type": "stream",
     "text": [
      "\n"
     ]
    }
   ],
   "source": [
    "from tqdm import tqdm\n",
    "import time\n",
    "\n",
    "matches = []\n",
    "\n",
    "start = time.time()\n",
    "num_rows = len(all_case)\n",
    "for idx in tqdm(range(num_rows)):\n",
    "    row = all_case.iloc[idx]\n",
    "    cbis_image, ddsm_candidates = find_ddsm_image_diff(row)\n",
    "    if len(ddsm_candidates) == 0:\n",
    "        print(\"No candidates for \", cbis_image)\n",
    "        break\n",
    "    \n",
    "    matches.append({\"cbis\": cbis_image, \"ddsm\": ddsm_candidates[0][0], \"dif\": ddsm_candidates[0][1]})\n",
    "        \n",
    "    #print(f'---------------- best candidate of {len(candidates)}: {best_candidate} - {min_dist}')\n",
    "    \n",
    "    \n",
    "    if idx > 0 and idx % 20 == 0:\n",
    "        elapsed = time.time() - start\n",
    "        expected_remaining = elapsed * (num_rows-idx) / idx\n",
    "        print(f'Processed {idx}/{num_rows}. Elapsed time: {elapsed:.01f} expected remaining: {int(expected_remaining)}')\n",
    "        df_matches = pd.DataFrame(matches)\n",
    "        df_matches.to_csv('matches.csv', index=False)\n",
    " \n",
    "\n",
    "\n",
    "elapsed = time.time() - start\n",
    "print(f'Elapsed time: {elapsed}')\n",
    "    \n",
    "df_matches = pd.DataFrame(matches)\n",
    "df_matches.to_csv('matches.csv', index=False)\n"
   ]
  },
  {
   "cell_type": "code",
   "execution_count": 42,
   "metadata": {},
   "outputs": [
    {
     "data": {
      "text/html": [
       "<div>\n",
       "<style scoped>\n",
       "    .dataframe tbody tr th:only-of-type {\n",
       "        vertical-align: middle;\n",
       "    }\n",
       "\n",
       "    .dataframe tbody tr th {\n",
       "        vertical-align: top;\n",
       "    }\n",
       "\n",
       "    .dataframe thead th {\n",
       "        text-align: right;\n",
       "    }\n",
       "</style>\n",
       "<table border=\"1\" class=\"dataframe\">\n",
       "  <thead>\n",
       "    <tr style=\"text-align: right;\">\n",
       "      <th></th>\n",
       "      <th>cbis</th>\n",
       "      <th>ddsm</th>\n",
       "      <th>dif</th>\n",
       "    </tr>\n",
       "  </thead>\n",
       "  <tbody>\n",
       "    <tr>\n",
       "      <th>522</th>\n",
       "      <td>/media/HD/mamo/CBIS-DDSM/Calc-Training_P_00652...</td>\n",
       "      <td>/media/HD/mamo/DDSM_png_noclipping/cases/cance...</td>\n",
       "      <td>59663.187</td>\n",
       "    </tr>\n",
       "    <tr>\n",
       "      <th>3342</th>\n",
       "      <td>/media/HD/mamo/CBIS-DDSM/Mass-Test_P_00652_LEF...</td>\n",
       "      <td>/media/HD/mamo/DDSM_png_noclipping/cases/cance...</td>\n",
       "      <td>59189.489</td>\n",
       "    </tr>\n",
       "    <tr>\n",
       "      <th>523</th>\n",
       "      <td>/media/HD/mamo/CBIS-DDSM/Calc-Training_P_00652...</td>\n",
       "      <td>/media/HD/mamo/DDSM_png_noclipping/cases/cance...</td>\n",
       "      <td>52525.798</td>\n",
       "    </tr>\n",
       "    <tr>\n",
       "      <th>2393</th>\n",
       "      <td>/media/HD/mamo/CBIS-DDSM/Mass-Training_P_01216...</td>\n",
       "      <td>/media/HD/mamo/DDSM_png_noclipping/cases/benig...</td>\n",
       "      <td>4319.867</td>\n",
       "    </tr>\n",
       "    <tr>\n",
       "      <th>2454</th>\n",
       "      <td>/media/HD/mamo/CBIS-DDSM/Mass-Training_P_01285...</td>\n",
       "      <td>/media/HD/mamo/DDSM_png_noclipping/cases/benig...</td>\n",
       "      <td>3531.059</td>\n",
       "    </tr>\n",
       "    <tr>\n",
       "      <th>1467</th>\n",
       "      <td>/media/HD/mamo/CBIS-DDSM/Calc-Training_P_02195...</td>\n",
       "      <td>/media/HD/mamo/DDSM_png_noclipping/cases/cance...</td>\n",
       "      <td>3090.787</td>\n",
       "    </tr>\n",
       "    <tr>\n",
       "      <th>498</th>\n",
       "      <td>/media/HD/mamo/CBIS-DDSM/Calc-Training_P_00624...</td>\n",
       "      <td>/media/HD/mamo/DDSM_png_noclipping/cases/benig...</td>\n",
       "      <td>2901.417</td>\n",
       "    </tr>\n",
       "    <tr>\n",
       "      <th>1429</th>\n",
       "      <td>/media/HD/mamo/CBIS-DDSM/Calc-Training_P_01856...</td>\n",
       "      <td>/media/HD/mamo/DDSM_png_noclipping/cases/cance...</td>\n",
       "      <td>2849.831</td>\n",
       "    </tr>\n",
       "    <tr>\n",
       "      <th>2753</th>\n",
       "      <td>/media/HD/mamo/CBIS-DDSM/Mass-Training_P_01735...</td>\n",
       "      <td>/media/HD/mamo/DDSM_png_noclipping/cases/cance...</td>\n",
       "      <td>2700.716</td>\n",
       "    </tr>\n",
       "    <tr>\n",
       "      <th>631</th>\n",
       "      <td>/media/HD/mamo/CBIS-DDSM/Calc-Training_P_00787...</td>\n",
       "      <td>/media/HD/mamo/DDSM_png_noclipping/cases/cance...</td>\n",
       "      <td>2623.018</td>\n",
       "    </tr>\n",
       "  </tbody>\n",
       "</table>\n",
       "</div>"
      ],
      "text/plain": [
       "                                                   cbis  \\\n",
       "522   /media/HD/mamo/CBIS-DDSM/Calc-Training_P_00652...   \n",
       "3342  /media/HD/mamo/CBIS-DDSM/Mass-Test_P_00652_LEF...   \n",
       "523   /media/HD/mamo/CBIS-DDSM/Calc-Training_P_00652...   \n",
       "2393  /media/HD/mamo/CBIS-DDSM/Mass-Training_P_01216...   \n",
       "2454  /media/HD/mamo/CBIS-DDSM/Mass-Training_P_01285...   \n",
       "1467  /media/HD/mamo/CBIS-DDSM/Calc-Training_P_02195...   \n",
       "498   /media/HD/mamo/CBIS-DDSM/Calc-Training_P_00624...   \n",
       "1429  /media/HD/mamo/CBIS-DDSM/Calc-Training_P_01856...   \n",
       "2753  /media/HD/mamo/CBIS-DDSM/Mass-Training_P_01735...   \n",
       "631   /media/HD/mamo/CBIS-DDSM/Calc-Training_P_00787...   \n",
       "\n",
       "                                                   ddsm        dif  \n",
       "522   /media/HD/mamo/DDSM_png_noclipping/cases/cance...  59663.187  \n",
       "3342  /media/HD/mamo/DDSM_png_noclipping/cases/cance...  59189.489  \n",
       "523   /media/HD/mamo/DDSM_png_noclipping/cases/cance...  52525.798  \n",
       "2393  /media/HD/mamo/DDSM_png_noclipping/cases/benig...   4319.867  \n",
       "2454  /media/HD/mamo/DDSM_png_noclipping/cases/benig...   3531.059  \n",
       "1467  /media/HD/mamo/DDSM_png_noclipping/cases/cance...   3090.787  \n",
       "498   /media/HD/mamo/DDSM_png_noclipping/cases/benig...   2901.417  \n",
       "1429  /media/HD/mamo/DDSM_png_noclipping/cases/cance...   2849.831  \n",
       "2753  /media/HD/mamo/DDSM_png_noclipping/cases/cance...   2700.716  \n",
       "631   /media/HD/mamo/DDSM_png_noclipping/cases/cance...   2623.018  "
      ]
     },
     "execution_count": 42,
     "metadata": {},
     "output_type": "execute_result"
    }
   ],
   "source": [
    "df_matches.sort_values('dif', ascending=False).head(10)"
   ]
  },
  {
   "cell_type": "code",
   "execution_count": null,
   "metadata": {},
   "outputs": [
    {
     "data": {
      "application/vnd.jupyter.widget-view+json": {
       "model_id": "af335ff935bc4295a47cf0ba64218f4f",
       "version_major": 2,
       "version_minor": 0
      },
      "text/plain": [
       "interactive(children=(IntSlider(value=0, description='idx', max=20), Output()), _dom_classes=('widget-interact…"
      ]
     },
     "metadata": {},
     "output_type": "display_data"
    }
   ],
   "source": [
    "def plot_matches(row):\n",
    "    cbis_image_filename = cbis_ddsm_path / row['cbis']\n",
    "    cbis_image = pydicom.dcmread(cbis_image_filename).pixel_array\n",
    "    ddsm_image = np.array(Image.open(row['ddsm']), dtype=float)\n",
    "    dif = row['dif']\n",
    "    \n",
    "    fig, ax = plt.subplots(1, 2, figsize=(15, 8))  # Adjust figure size as needed\n",
    "\n",
    "    ax[0].imshow(cbis_image)\n",
    "    ax[0].set_title('CBIS image')\n",
    "    ax[0].axis('off')  # Hide axis if desired\n",
    "\n",
    "    ax[1].imshow(ddsm_image)\n",
    "    ax[1].set_title('DDSM image')\n",
    "    ax[1].axis('off')  # Hide axis if desired\n",
    "    \n",
    "    #set title with distance\n",
    "    fig.suptitle(f'Dif: {dif:.4f}')\n",
    "\n",
    "    plt.tight_layout()\n",
    "    plt.show()\n",
    "    \n",
    "# select row using interact \n",
    "from ipywidgets import interact\n",
    "\n",
    "@interact(idx=(0, 20))\n",
    "def show_matches(idx=0):\n",
    "    plot_matches(df_matches.sort_values('dif', ascending=False).iloc[idx])"
   ]
  },
  {
   "cell_type": "code",
   "execution_count": 47,
   "metadata": {},
   "outputs": [
    {
     "name": "stdout",
     "output_type": "stream",
     "text": [
      "/media/HD/mamo/DDSM_png_noclipping/cases/cancers/cancer_15/case3043/B_3043_1.LEFT_CC.png 65535.0 65535.0\n",
      "/media/HD/mamo/DDSM_png_noclipping/cases/cancers/cancer_15/case3043/B_3043_1.LEFT_CC.png 65535.0 65535.0\n",
      "/media/HD/mamo/DDSM_png_noclipping/cases/cancers/cancer_15/case3043/B_3043_1.LEFT_MLO.png 65535.0 65535.0\n",
      "/media/HD/mamo/DDSM_png_noclipping/cases/benigns/benign_06/case0321/C_0321_1.RIGHT_CC.png 0.0 65535.0\n",
      "Calc-Training_P_00652_LEFT_CC/1.3.6.1.4.1.9590.100.1.2.98254843011020947026766276371179287106/1.3.6.1.4.1.9590.100.1.2.257617740013427122633260799063615303930/00000001.dcm\n",
      "The number of images with same id 2\n",
      "/media/HD/mamo/DDSM_png_noclipping/cases/cancers/cancer_15/case3043/B_3043_1.LEFT_CC.png 59663.187\n",
      "/media/HD/mamo/DDSM_png_noclipping/cases/cancers/cancer_15/case3043/B_3043_1.LEFT_CC.png 59189.489\n",
      "__________________\n",
      "Mass-Test_P_00652_LEFT_CC/1.3.6.1.4.1.9590.100.1.2.163146166812080534715560331731679187823/1.3.6.1.4.1.9590.100.1.2.351095773812262405525829356842200610924/00000001.dcm\n",
      "The number of images with same id 2\n",
      "/media/HD/mamo/DDSM_png_noclipping/cases/cancers/cancer_15/case3043/B_3043_1.LEFT_CC.png 59663.187\n",
      "/media/HD/mamo/DDSM_png_noclipping/cases/cancers/cancer_15/case3043/B_3043_1.LEFT_CC.png 59189.489\n",
      "__________________\n",
      "Calc-Training_P_00652_LEFT_MLO/1.3.6.1.4.1.9590.100.1.2.232839267410738893728035168160679424365/1.3.6.1.4.1.9590.100.1.2.318324226311179709316614621890974013766/00000001.dcm\n",
      "The number of images with same id 1\n",
      "/media/HD/mamo/DDSM_png_noclipping/cases/cancers/cancer_15/case3043/B_3043_1.LEFT_MLO.png 52525.798\n",
      "__________________\n",
      "Mass-Training_P_01216_RIGHT_CC/1.3.6.1.4.1.9590.100.1.2.414667429611646394508132417590282627504/1.3.6.1.4.1.9590.100.1.2.385109354911215659640550521791483416794/00000001.dcm\n",
      "The number of images with same id 1\n",
      "/media/HD/mamo/DDSM_png_noclipping/cases/benigns/benign_06/case0321/C_0321_1.RIGHT_CC.png 4319.867\n",
      "__________________\n"
     ]
    }
   ],
   "source": [
    "df_matches = pd.read_csv('matches.csv')\n",
    "sorted_matches = df_matches.sort_values('dif', ascending=False)\n",
    "\n",
    "corruped_images = []\n",
    "for k in range(4):\n",
    "    row = sorted_matches.iloc[k]\n",
    "    ddsm_image = np.array(Image.open(row['ddsm']), dtype=float)\n",
    "\n",
    "    print(row['ddsm'],ddsm_image.min(), ddsm_image.max())\n",
    "    corruped_images.append(row)\n",
    "    \n",
    "\n",
    "corruped_images = pd.DataFrame(corruped_images)\n",
    "#print(corruped_images)  \n",
    "# claramente las malas estan todas blancas y hay que cambiarlas por las buenas de momento las 3 primeras\n",
    "\n",
    "all_case['case_id'] = all_case['image file path'].str.split('/').str[0]\n",
    "\n",
    "for idx, row in corruped_images.iterrows():\n",
    "    cbis_image = row['cbis'].replace('/media/HD/mamo/CBIS-DDSM/','')\n",
    "    ddsm_image = row['ddsm']\n",
    "    print(cbis_image)\n",
    "    id = all_case.loc[all_case['case_id'] == cbis_image.split('/')[0]].id.values[0]\n",
    "    cbis_image_same_id = all_case.loc[all_case['id'] == id]\n",
    "    \n",
    "    print(\"The number of images with same id\", len(cbis_image_same_id))\n",
    "    \n",
    "    for cbis_image in cbis_image_same_id['image file path'].values:\n",
    "        for k, match in df_matches.iterrows():\n",
    "            if cbis_image.split('/')[0] in match['cbis']:\n",
    "                print(match['ddsm'], match['dif'])\n",
    "                break\n",
    "            \n",
    "        \n",
    "    \n",
    "    \n",
    "    \n",
    "    print(\"__________________\")\n",
    "    #print(ddsm_image)\n",
    "    \n",
    "\n",
    "\n"
   ]
  },
  {
   "cell_type": "code",
   "execution_count": 75,
   "metadata": {},
   "outputs": [
    {
     "name": "stderr",
     "output_type": "stream",
     "text": [
      "  1%|▏         | 154/10420 [00:31<34:35,  4.95it/s]\n"
     ]
    },
    {
     "ename": "KeyboardInterrupt",
     "evalue": "",
     "output_type": "error",
     "traceback": [
      "\u001b[0;31m---------------------------------------------------------------------------\u001b[0m",
      "\u001b[0;31mKeyboardInterrupt\u001b[0m                         Traceback (most recent call last)",
      "Cell \u001b[0;32mIn[75], line 6\u001b[0m\n\u001b[1;32m      1\u001b[0m problematic_ddsm_images \u001b[38;5;241m=\u001b[39m []\n\u001b[1;32m      3\u001b[0m \u001b[38;5;28;01mfor\u001b[39;00m ddsm_image \u001b[38;5;129;01min\u001b[39;00m tqdm(ddsm_images[\u001b[38;5;124m'\u001b[39m\u001b[38;5;124mimage_path\u001b[39m\u001b[38;5;124m'\u001b[39m]\u001b[38;5;241m.\u001b[39mvalues):\n\u001b[0;32m----> 6\u001b[0m     image \u001b[38;5;241m=\u001b[39m np\u001b[38;5;241m.\u001b[39marray(Image\u001b[38;5;241m.\u001b[39mopen(ddsm_image))\n\u001b[1;32m      7\u001b[0m     \u001b[38;5;28;01mif\u001b[39;00m image\u001b[38;5;241m.\u001b[39mmax() \u001b[38;5;241m-\u001b[39m image\u001b[38;5;241m.\u001b[39mmin() \u001b[38;5;241m<\u001b[39m \u001b[38;5;241m1000\u001b[39m:\n\u001b[1;32m      8\u001b[0m         problematic_ddsm_images\u001b[38;5;241m.\u001b[39mappend(ddsm_image)\n",
      "File \u001b[0;32m~/anaconda3/envs/Mammo/lib/python3.11/site-packages/PIL/Image.py:681\u001b[0m, in \u001b[0;36mImage.__array_interface__\u001b[0;34m(self)\u001b[0m\n\u001b[1;32m    679\u001b[0m         new[\u001b[38;5;124m\"\u001b[39m\u001b[38;5;124mdata\u001b[39m\u001b[38;5;124m\"\u001b[39m] \u001b[38;5;241m=\u001b[39m \u001b[38;5;28mself\u001b[39m\u001b[38;5;241m.\u001b[39mtobytes(\u001b[38;5;124m\"\u001b[39m\u001b[38;5;124mraw\u001b[39m\u001b[38;5;124m\"\u001b[39m, \u001b[38;5;124m\"\u001b[39m\u001b[38;5;124mL\u001b[39m\u001b[38;5;124m\"\u001b[39m)\n\u001b[1;32m    680\u001b[0m     \u001b[38;5;28;01melse\u001b[39;00m:\n\u001b[0;32m--> 681\u001b[0m         new[\u001b[38;5;124m\"\u001b[39m\u001b[38;5;124mdata\u001b[39m\u001b[38;5;124m\"\u001b[39m] \u001b[38;5;241m=\u001b[39m \u001b[38;5;28mself\u001b[39m\u001b[38;5;241m.\u001b[39mtobytes()\n\u001b[1;32m    682\u001b[0m \u001b[38;5;28;01mexcept\u001b[39;00m \u001b[38;5;167;01mException\u001b[39;00m \u001b[38;5;28;01mas\u001b[39;00m e:\n\u001b[1;32m    683\u001b[0m     \u001b[38;5;28;01mif\u001b[39;00m \u001b[38;5;129;01mnot\u001b[39;00m \u001b[38;5;28misinstance\u001b[39m(e, (\u001b[38;5;167;01mMemoryError\u001b[39;00m, \u001b[38;5;167;01mRecursionError\u001b[39;00m)):\n",
      "File \u001b[0;32m~/anaconda3/envs/Mammo/lib/python3.11/site-packages/PIL/Image.py:761\u001b[0m, in \u001b[0;36mImage.tobytes\u001b[0;34m(self, encoder_name, *args)\u001b[0m\n\u001b[1;32m    758\u001b[0m     msg \u001b[38;5;241m=\u001b[39m \u001b[38;5;124mf\u001b[39m\u001b[38;5;124m\"\u001b[39m\u001b[38;5;124mencoder error \u001b[39m\u001b[38;5;132;01m{\u001b[39;00merrcode\u001b[38;5;132;01m}\u001b[39;00m\u001b[38;5;124m in tobytes\u001b[39m\u001b[38;5;124m\"\u001b[39m\n\u001b[1;32m    759\u001b[0m     \u001b[38;5;28;01mraise\u001b[39;00m \u001b[38;5;167;01mRuntimeError\u001b[39;00m(msg)\n\u001b[0;32m--> 761\u001b[0m \u001b[38;5;28;01mreturn\u001b[39;00m \u001b[38;5;124mb\u001b[39m\u001b[38;5;124m\"\u001b[39m\u001b[38;5;124m\"\u001b[39m\u001b[38;5;241m.\u001b[39mjoin(output)\n",
      "\u001b[0;31mKeyboardInterrupt\u001b[0m: "
     ]
    }
   ],
   "source": [
    "problematic_ddsm_images = []\n",
    "\n",
    "for ddsm_image in tqdm(ddsm_images['image_path'].values):\n",
    "    \n",
    "    \n",
    "    image = np.array(Image.open(ddsm_image))\n",
    "    if image.max() - image.min() < 1000:\n",
    "        problematic_ddsm_images.append(ddsm_image)\n",
    "        print(f\"{ddsm_image} is problematic {image.max() - image.min()}\")\n",
    "        with open('problematic_ddsm_images.txt', 'a') as f:\n",
    "            f.write(f'{ddsm_image} {image.max() - image.min()} \\n')\n",
    " \n",
    "    \n",
    "        \n",
    "\n",
    "print(\"Number of problematic ddsm images\", len(problematic_ddsm_images))\n"
   ]
  },
  {
   "cell_type": "code",
   "execution_count": null,
   "metadata": {},
   "outputs": [
    {
     "data": {
      "text/plain": [
       "False"
      ]
     },
     "execution_count": 66,
     "metadata": {},
     "output_type": "execute_result"
    }
   ],
   "source": [
    "for ddsm_image in ddsm_images:\n",
    "    print(ddsm_image)"
   ]
  },
  {
   "cell_type": "code",
   "execution_count": 13,
   "metadata": {},
   "outputs": [
    {
     "ename": "NameError",
     "evalue": "name 'tqdm' is not defined",
     "output_type": "error",
     "traceback": [
      "\u001b[0;31m---------------------------------------------------------------------------\u001b[0m",
      "\u001b[0;31mNameError\u001b[0m                                 Traceback (most recent call last)",
      "Cell \u001b[0;32mIn[13], line 1\u001b[0m\n\u001b[0;32m----> 1\u001b[0m \u001b[38;5;28;01mfor\u001b[39;00m ddsm_image_name \u001b[38;5;129;01min\u001b[39;00m tqdm(ddsm_images\u001b[38;5;241m.\u001b[39mimage_path\u001b[38;5;241m.\u001b[39mvalues):\n\u001b[1;32m      2\u001b[0m     \u001b[38;5;28;01mif\u001b[39;00m \u001b[38;5;124m\"\u001b[39m\u001b[38;5;124mcancer_15\u001b[39m\u001b[38;5;124m\"\u001b[39m \u001b[38;5;129;01min\u001b[39;00m ddsm_image_name:\n\u001b[1;32m      3\u001b[0m         ddsm_image \u001b[38;5;241m=\u001b[39m Image\u001b[38;5;241m.\u001b[39mopen(ddsm_image_name)\n",
      "\u001b[0;31mNameError\u001b[0m: name 'tqdm' is not defined"
     ]
    }
   ],
   "source": [
    "for ddsm_image_name in tqdm(ddsm_images.image_path.values):\n",
    "    if \"cancer_15\" in ddsm_image_name:\n",
    "        ddsm_image = Image.open(ddsm_image_name)\n",
    "        ddsm_image = np.array(ddsm_image, dtype=float)\n",
    "        if ddsm_image.max() - ddsm_image.min() < 100:\n",
    "            print(ddsm_image_name, ddsm_image.min(), ddsm_image.max())\n",
    "        "
   ]
  },
  {
   "cell_type": "markdown",
   "metadata": {},
   "source": [
    "# Classify DDSM intro train/test"
   ]
  },
  {
   "cell_type": "code",
   "execution_count": 8,
   "metadata": {},
   "outputs": [],
   "source": [
    "import pandas as pd\n",
    "\n",
    "df_matches = pd.read_csv('matches_ddsm_CBIS_DDSM.csv')\n",
    "\n",
    "def split_train_test(row):\n",
    "    if row['cbis_image'] in all_case_train['image file path'].values:\n",
    "        return 'train'\n",
    "    elif row['cbis_image'] in all_case_test['image file path'].values:\n",
    "        return 'test'\n",
    "    else:\n",
    "        return 'unknown'\n",
    "    \n",
    "df_matches['split'] = df_matches.apply(split_train_test, axis=1)\n",
    "    \n"
   ]
  },
  {
   "cell_type": "code",
   "execution_count": 9,
   "metadata": {},
   "outputs": [
    {
     "data": {
      "text/plain": [
       "split\n",
       "train    2864\n",
       "test      704\n",
       "Name: count, dtype: int64"
      ]
     },
     "execution_count": 9,
     "metadata": {},
     "output_type": "execute_result"
    }
   ],
   "source": [
    "df_matches['split'].value_counts()"
   ]
  },
  {
   "cell_type": "code",
   "execution_count": 13,
   "metadata": {},
   "outputs": [
    {
     "name": "stdout",
     "output_type": "stream",
     "text": [
      "number of images  3103\n",
      "number of images  3032\n",
      "number of lessions  3568\n"
     ]
    }
   ],
   "source": [
    "print(\"number of images \", len(df_matches.cbis_image.unique()))\n",
    "print(\"number of images \", len(df_matches.ddsm_image.unique()))\n",
    "print(\"number of lessions \", len(all_case))"
   ]
  },
  {
   "cell_type": "markdown",
   "metadata": {},
   "source": [
    "El numero de imágenes de DDSM es menor porque en CBIS han repetido imagenes que tienen ambos tipos de lesiones con nombres diferentes."
   ]
  },
  {
   "cell_type": "code",
   "execution_count": 15,
   "metadata": {},
   "outputs": [
    {
     "data": {
      "text/plain": [
       "ddsm_image\n",
       "/home/alalbiol/Data/mamo/DDSM_png/cancers/cancer_06/case1212/A_1212_1.LEFT_MLO.png                                       2\n",
       "/home/alalbiol/Data/mamo/DDSM_png/benign_without_callbacks/benign_without_callback_02/case3429/B_3429_1.RIGHT_MLO.png    2\n",
       "/home/alalbiol/Data/mamo/DDSM_png/cancers/cancer_09/case0008/C_0008_1.RIGHT_CC.png                                       2\n",
       "/home/alalbiol/Data/mamo/DDSM_png/cancers/cancer_02/case0068/C_0068_1.RIGHT_CC.png                                       2\n",
       "/home/alalbiol/Data/mamo/DDSM_png/cancers/cancer_02/case0068/C_0068_1.RIGHT_MLO.png                                      2\n",
       "/home/alalbiol/Data/mamo/DDSM_png/benigns/benign_04/case0302/C_0302_1.RIGHT_MLO.png                                      2\n",
       "/home/alalbiol/Data/mamo/DDSM_png/benigns/benign_04/case0304/C_0304_1.RIGHT_CC.png                                       2\n",
       "/home/alalbiol/Data/mamo/DDSM_png/benigns/benign_04/case0304/C_0304_1.RIGHT_MLO.png                                      2\n",
       "/home/alalbiol/Data/mamo/DDSM_png/benigns/benign_04/case0307/C_0307_1.RIGHT_MLO.png                                      2\n",
       "/home/alalbiol/Data/mamo/DDSM_png/cancers/cancer_15/case3002/B_3002_1.LEFT_CC.png                                        2\n",
       "Name: cbis_image, dtype: int64"
      ]
     },
     "execution_count": 15,
     "metadata": {},
     "output_type": "execute_result"
    }
   ],
   "source": [
    "#find ddsm_images that have more than one cbis_image\n",
    "# group by ddsm_image and count the number of unique cbis_image\n",
    "\n",
    "df_matches.groupby('ddsm_image').cbis_image.nunique().sort_values(ascending=False).head(10)"
   ]
  },
  {
   "cell_type": "code",
   "execution_count": 16,
   "metadata": {},
   "outputs": [],
   "source": [
    "# create a dictionary of sets with the cbis_images that are matched to each ddsm_image\n",
    "\n",
    "ddsm_cbis = df_matches.groupby('ddsm_image').cbis_image.unique().to_dict()"
   ]
  },
  {
   "cell_type": "code",
   "execution_count": 23,
   "metadata": {},
   "outputs": [
    {
     "name": "stdout",
     "output_type": "stream",
     "text": [
      "1 /home/alalbiol/Data/mamo/DDSM_png/benign_without_callbacks/benign_without_callback_01/case3167/B_3167_1.RIGHT_CC.png - ['Calc-Training_P_00924_RIGHT_CC', 'Mass-Test_P_00924_RIGHT_CC']\n",
      "2 /home/alalbiol/Data/mamo/DDSM_png/benign_without_callbacks/benign_without_callback_01/case3171/B_3171_1.LEFT_CC.png - ['Mass-Training_P_00041_LEFT_CC', 'Calc-Test_P_00041_LEFT_CC']\n",
      "3 /home/alalbiol/Data/mamo/DDSM_png/benign_without_callbacks/benign_without_callback_01/case3171/B_3171_1.LEFT_MLO.png - ['Mass-Training_P_00041_LEFT_MLO', 'Calc-Test_P_00041_LEFT_MLO']\n",
      "4 /home/alalbiol/Data/mamo/DDSM_png/benign_without_callbacks/benign_without_callback_01/case3176/B_3176_1.RIGHT_MLO.png - ['Calc-Training_P_01274_RIGHT_MLO', 'Mass-Training_P_01274_RIGHT_MLO']\n",
      "5 /home/alalbiol/Data/mamo/DDSM_png/benign_without_callbacks/benign_without_callback_01/case3188/B_3188_1.RIGHT_CC.png - ['Calc-Training_P_00106_RIGHT_CC', 'Mass-Training_P_00106_RIGHT_CC']\n",
      "6 /home/alalbiol/Data/mamo/DDSM_png/benign_without_callbacks/benign_without_callback_01/case3188/B_3188_1.RIGHT_MLO.png - ['Calc-Training_P_00106_RIGHT_MLO', 'Mass-Training_P_00106_RIGHT_MLO']\n",
      "7 /home/alalbiol/Data/mamo/DDSM_png/benign_without_callbacks/benign_without_callback_01/case3233/B_3233_1.RIGHT_MLO.png - ['Calc-Training_P_00673_RIGHT_MLO', 'Mass-Training_P_00673_RIGHT_MLO']\n",
      "8 /home/alalbiol/Data/mamo/DDSM_png/benign_without_callbacks/benign_without_callback_01/case3240/B_3240_1.LEFT_CC.png - ['Calc-Training_P_00510_LEFT_CC', 'Mass-Test_P_00510_LEFT_CC']\n",
      "9 /home/alalbiol/Data/mamo/DDSM_png/benign_without_callbacks/benign_without_callback_01/case3240/B_3240_1.LEFT_MLO.png - ['Calc-Training_P_00510_LEFT_MLO', 'Mass-Test_P_00510_LEFT_MLO']\n",
      "10 /home/alalbiol/Data/mamo/DDSM_png/benign_without_callbacks/benign_without_callback_01/case3255/B_3255_1.LEFT_CC.png - ['Calc-Training_P_01864_LEFT_CC', 'Mass-Training_P_01864_LEFT_CC']\n",
      "11 /home/alalbiol/Data/mamo/DDSM_png/benign_without_callbacks/benign_without_callback_02/case3429/B_3429_1.RIGHT_CC.png - ['Calc-Training_P_00385_RIGHT_CC', 'Mass-Training_P_00385_RIGHT_CC']\n",
      "12 /home/alalbiol/Data/mamo/DDSM_png/benign_without_callbacks/benign_without_callback_02/case3429/B_3429_1.RIGHT_MLO.png - ['Calc-Training_P_00385_RIGHT_MLO', 'Mass-Training_P_00385_RIGHT_MLO']\n",
      "13 /home/alalbiol/Data/mamo/DDSM_png/benigns/benign_01/case0247/C_0247_1.LEFT_CC.png - ['Calc-Training_P_00224_LEFT_CC', 'Mass-Training_P_00224_LEFT_CC']\n",
      "14 /home/alalbiol/Data/mamo/DDSM_png/benigns/benign_01/case0247/C_0247_1.LEFT_MLO.png - ['Calc-Training_P_00224_LEFT_MLO', 'Mass-Training_P_00224_LEFT_MLO']\n",
      "15 /home/alalbiol/Data/mamo/DDSM_png/benigns/benign_04/case0280/C_0280_1.LEFT_MLO.png - ['Mass-Training_P_00723_LEFT_MLO', 'Calc-Test_P_00723_LEFT_MLO']\n",
      "16 /home/alalbiol/Data/mamo/DDSM_png/benigns/benign_04/case0302/C_0302_1.RIGHT_MLO.png - ['Calc-Training_P_00522_RIGHT_MLO', 'Mass-Training_P_00522_RIGHT_MLO']\n",
      "17 /home/alalbiol/Data/mamo/DDSM_png/benigns/benign_04/case0304/C_0304_1.RIGHT_CC.png - ['Mass-Training_P_01152_RIGHT_CC', 'Calc-Test_P_01152_RIGHT_CC']\n",
      "18 /home/alalbiol/Data/mamo/DDSM_png/benigns/benign_04/case0304/C_0304_1.RIGHT_MLO.png - ['Mass-Training_P_01152_RIGHT_MLO', 'Calc-Test_P_01152_RIGHT_MLO']\n",
      "19 /home/alalbiol/Data/mamo/DDSM_png/benigns/benign_04/case0307/C_0307_1.RIGHT_MLO.png - ['Calc-Training_P_00208_RIGHT_MLO', 'Mass-Training_P_00208_RIGHT_MLO']\n",
      "20 /home/alalbiol/Data/mamo/DDSM_png/benigns/benign_06/case0366/C_0366_1.LEFT_CC.png - ['Calc-Training_P_00814_LEFT_CC', 'Mass-Training_P_00814_LEFT_CC']\n",
      "21 /home/alalbiol/Data/mamo/DDSM_png/benigns/benign_06/case0366/C_0366_1.LEFT_MLO.png - ['Calc-Training_P_00814_LEFT_MLO', 'Mass-Training_P_00814_LEFT_MLO']\n",
      "22 /home/alalbiol/Data/mamo/DDSM_png/benigns/benign_06/case3226/B_3226_1.RIGHT_CC.png - ['Mass-Training_P_00495_RIGHT_CC', 'Calc-Test_P_00495_RIGHT_CC']\n",
      "23 /home/alalbiol/Data/mamo/DDSM_png/benigns/benign_06/case3226/B_3226_1.RIGHT_MLO.png - ['Mass-Training_P_00495_RIGHT_MLO', 'Calc-Test_P_00495_RIGHT_MLO']\n",
      "24 /home/alalbiol/Data/mamo/DDSM_png/benigns/benign_06/case3425/B_3425_1.LEFT_MLO.png - ['Calc-Training_P_00847_LEFT_MLO', 'Mass-Training_P_00847_LEFT_MLO']\n",
      "25 /home/alalbiol/Data/mamo/DDSM_png/benigns/benign_13/case0508/C_0508_1.RIGHT_CC.png - ['Calc-Training_P_00666_RIGHT_CC', 'Mass-Training_P_00666_RIGHT_CC']\n",
      "26 /home/alalbiol/Data/mamo/DDSM_png/benigns/benign_13/case0508/C_0508_1.RIGHT_MLO.png - ['Calc-Training_P_00666_RIGHT_MLO', 'Mass-Training_P_00666_RIGHT_MLO']\n",
      "27 /home/alalbiol/Data/mamo/DDSM_png/benigns/benign_14/case0480/C_0480_1.LEFT_MLO.png - ['Calc-Training_P_01567_LEFT_MLO', 'Mass-Training_P_01567_LEFT_MLO']\n",
      "28 /home/alalbiol/Data/mamo/DDSM_png/cancers/cancer_01/case3025/B_3025_1.RIGHT_CC.png - ['Calc-Training_P_01262_RIGHT_CC', 'Mass-Training_P_01262_RIGHT_CC']\n",
      "29 /home/alalbiol/Data/mamo/DDSM_png/cancers/cancer_01/case3025/B_3025_1.RIGHT_MLO.png - ['Calc-Training_P_01262_RIGHT_MLO', 'Mass-Training_P_01262_RIGHT_MLO']\n",
      "30 /home/alalbiol/Data/mamo/DDSM_png/cancers/cancer_01/case3026/B_3026_1.RIGHT_CC.png - ['Calc-Training_P_00539_RIGHT_CC', 'Mass-Training_P_00539_RIGHT_CC']\n",
      "31 /home/alalbiol/Data/mamo/DDSM_png/cancers/cancer_01/case3026/B_3026_1.RIGHT_MLO.png - ['Calc-Training_P_00539_RIGHT_MLO', 'Mass-Training_P_00539_RIGHT_MLO']\n",
      "32 /home/alalbiol/Data/mamo/DDSM_png/cancers/cancer_01/case3076/B_3076_1.LEFT_CC.png - ['Calc-Training_P_01084_LEFT_CC', 'Mass-Training_P_01084_LEFT_CC']\n",
      "33 /home/alalbiol/Data/mamo/DDSM_png/cancers/cancer_01/case3076/B_3076_1.LEFT_MLO.png - ['Calc-Training_P_01084_LEFT_MLO', 'Mass-Training_P_01084_LEFT_MLO']\n",
      "34 /home/alalbiol/Data/mamo/DDSM_png/cancers/cancer_02/case0022/C_0022_1.RIGHT_MLO.png - ['Calc-Training_P_00573_RIGHT_MLO', 'Mass-Training_P_00573_RIGHT_MLO']\n",
      "35 /home/alalbiol/Data/mamo/DDSM_png/cancers/cancer_02/case0038/C_0038_1.LEFT_CC.png - ['Calc-Test_P_01502_LEFT_CC', 'Mass-Test_P_01502_LEFT_CC']\n",
      "36 /home/alalbiol/Data/mamo/DDSM_png/cancers/cancer_02/case0038/C_0038_1.LEFT_MLO.png - ['Calc-Test_P_01502_LEFT_MLO', 'Mass-Test_P_01502_LEFT_MLO']\n",
      "37 /home/alalbiol/Data/mamo/DDSM_png/cancers/cancer_02/case0068/C_0068_1.RIGHT_CC.png - ['Mass-Training_P_01803_RIGHT_CC', 'Calc-Test_P_01803_RIGHT_CC']\n",
      "38 /home/alalbiol/Data/mamo/DDSM_png/cancers/cancer_02/case0068/C_0068_1.RIGHT_MLO.png - ['Mass-Training_P_01803_RIGHT_MLO', 'Calc-Test_P_01803_RIGHT_MLO']\n",
      "39 /home/alalbiol/Data/mamo/DDSM_png/cancers/cancer_03/case1025/A_1025_1.LEFT_MLO.png - ['Mass-Training_P_01179_LEFT_MLO', 'Calc-Test_P_01179_LEFT_MLO']\n",
      "40 /home/alalbiol/Data/mamo/DDSM_png/cancers/cancer_05/case0189/C_0189_1.RIGHT_MLO.png - ['Calc-Training_P_00591_RIGHT_MLO', 'Mass-Test_P_00591_RIGHT_MLO']\n",
      "41 /home/alalbiol/Data/mamo/DDSM_png/cancers/cancer_06/case1212/A_1212_1.LEFT_CC.png - ['Calc-Training_P_00016_LEFT_CC', 'Mass-Test_P_00016_LEFT_CC']\n",
      "42 /home/alalbiol/Data/mamo/DDSM_png/cancers/cancer_06/case1212/A_1212_1.LEFT_MLO.png - ['Calc-Training_P_00016_LEFT_MLO', 'Mass-Test_P_00016_LEFT_MLO']\n",
      "43 /home/alalbiol/Data/mamo/DDSM_png/cancers/cancer_07/case1233/A_1233_1.LEFT_CC.png - ['Mass-Training_P_00678_LEFT_CC', 'Calc-Test_P_00678_LEFT_CC']\n",
      "44 /home/alalbiol/Data/mamo/DDSM_png/cancers/cancer_07/case1258/A_1258_1.RIGHT_CC.png - ['Calc-Training_P_00034_RIGHT_CC', 'Mass-Training_P_00034_RIGHT_CC']\n",
      "45 /home/alalbiol/Data/mamo/DDSM_png/cancers/cancer_07/case1258/A_1258_1.RIGHT_MLO.png - ['Calc-Training_P_00034_RIGHT_MLO', 'Mass-Training_P_00034_RIGHT_MLO']\n",
      "46 /home/alalbiol/Data/mamo/DDSM_png/cancers/cancer_08/case1470/A_1470_1.LEFT_CC.png - ['Calc-Training_P_01605_LEFT_CC', 'Mass-Test_P_01605_LEFT_CC']\n",
      "47 /home/alalbiol/Data/mamo/DDSM_png/cancers/cancer_09/case0008/C_0008_1.RIGHT_CC.png - ['Calc-Training_P_01725_RIGHT_CC', 'Mass-Training_P_01725_RIGHT_CC']\n",
      "48 /home/alalbiol/Data/mamo/DDSM_png/cancers/cancer_09/case0008/C_0008_1.RIGHT_MLO.png - ['Calc-Training_P_01725_RIGHT_MLO', 'Mass-Training_P_01725_RIGHT_MLO']\n",
      "49 /home/alalbiol/Data/mamo/DDSM_png/cancers/cancer_09/case0044/C_0044_1.LEFT_CC.png - ['Calc-Training_P_00601_LEFT_CC', 'Mass-Test_P_00601_LEFT_CC']\n",
      "50 /home/alalbiol/Data/mamo/DDSM_png/cancers/cancer_09/case0044/C_0044_1.LEFT_MLO.png - ['Calc-Training_P_00601_LEFT_MLO', 'Mass-Test_P_00601_LEFT_MLO']\n",
      "51 /home/alalbiol/Data/mamo/DDSM_png/cancers/cancer_09/case3029/B_3029_1.LEFT_CC.png - ['Calc-Training_P_00969_LEFT_CC', 'Mass-Test_P_00969_LEFT_CC']\n",
      "52 /home/alalbiol/Data/mamo/DDSM_png/cancers/cancer_09/case3029/B_3029_1.LEFT_MLO.png - ['Calc-Training_P_00969_LEFT_MLO', 'Mass-Test_P_00969_LEFT_MLO']\n",
      "53 /home/alalbiol/Data/mamo/DDSM_png/cancers/cancer_09/case3034/B_3034_1.LEFT_CC.png - ['Mass-Training_P_00906_LEFT_CC', 'Calc-Test_P_00906_LEFT_CC']\n",
      "54 /home/alalbiol/Data/mamo/DDSM_png/cancers/cancer_09/case3034/B_3034_1.LEFT_MLO.png - ['Mass-Training_P_00906_LEFT_MLO', 'Calc-Test_P_00906_LEFT_MLO']\n",
      "55 /home/alalbiol/Data/mamo/DDSM_png/cancers/cancer_09/case3077/B_3077_1.RIGHT_MLO.png - ['Calc-Training_P_00734_RIGHT_MLO', 'Mass-Training_P_00734_RIGHT_MLO']\n",
      "56 /home/alalbiol/Data/mamo/DDSM_png/cancers/cancer_10/case1580/A_1580_1.LEFT_MLO.png - ['Calc-Training_P_01517_LEFT_MLO', 'Mass-Training_P_01517_LEFT_MLO']\n",
      "57 /home/alalbiol/Data/mamo/DDSM_png/cancers/cancer_10/case1666/A_1666_1.LEFT_CC.png - ['Calc-Training_P_01365_LEFT_CC', 'Mass-Test_P_01365_LEFT_CC']\n",
      "58 /home/alalbiol/Data/mamo/DDSM_png/cancers/cancer_11/case1576/A_1576_1.RIGHT_MLO.png - ['Calc-Training_P_01840_RIGHT_MLO', 'Mass-Training_P_01840_RIGHT_MLO']\n",
      "59 /home/alalbiol/Data/mamo/DDSM_png/cancers/cancer_11/case1828/A_1828_1.LEFT_MLO.png - ['Calc-Training_P_01454_LEFT_MLO', 'Mass-Training_P_01454_LEFT_MLO']\n",
      "60 /home/alalbiol/Data/mamo/DDSM_png/cancers/cancer_15/case3002/B_3002_1.LEFT_CC.png - ['Calc-Training_P_01297_LEFT_CC', 'Mass-Training_P_01297_LEFT_CC']\n",
      "61 /home/alalbiol/Data/mamo/DDSM_png/cancers/cancer_15/case3002/B_3002_1.LEFT_MLO.png - ['Calc-Training_P_01297_LEFT_MLO', 'Mass-Training_P_01297_LEFT_MLO']\n",
      "62 /home/alalbiol/Data/mamo/DDSM_png/cancers/cancer_15/case3043/B_3043_1.LEFT_CC.png - ['Calc-Training_P_00652_LEFT_CC', 'Mass-Test_P_00652_LEFT_CC']\n",
      "63 /home/alalbiol/Data/mamo/DDSM_png/cancers/cancer_15/case3053/B_3053_1.RIGHT_CC.png - ['Calc-Training_P_01467_RIGHT_CC', 'Mass-Test_P_01467_RIGHT_CC']\n",
      "64 /home/alalbiol/Data/mamo/DDSM_png/cancers/cancer_15/case3075/B_3075_1.RIGHT_CC.png - ['Calc-Training_P_01573_RIGHT_CC', 'Mass-Training_P_01573_RIGHT_CC']\n",
      "65 /home/alalbiol/Data/mamo/DDSM_png/cancers/cancer_15/case3075/B_3075_1.RIGHT_MLO.png - ['Calc-Training_P_01573_RIGHT_MLO', 'Mass-Training_P_01573_RIGHT_MLO']\n",
      "66 /home/alalbiol/Data/mamo/DDSM_png/cancers/cancer_15/case3504/B_3504_1.RIGHT_CC.png - ['Calc-Test_P_00202_RIGHT_CC', 'Mass-Test_P_00202_RIGHT_CC']\n",
      "67 /home/alalbiol/Data/mamo/DDSM_png/cancers/cancer_15/case3504/B_3504_1.RIGHT_MLO.png - ['Calc-Test_P_00202_RIGHT_MLO', 'Mass-Test_P_00202_RIGHT_MLO']\n",
      "68 /home/alalbiol/Data/mamo/DDSM_png/cancers/cancer_15/case3511/B_3511_1.RIGHT_CC.png - ['Mass-Training_P_01635_RIGHT_CC', 'Calc-Test_P_01635_RIGHT_CC']\n",
      "69 /home/alalbiol/Data/mamo/DDSM_png/cancers/cancer_15/case3511/B_3511_1.RIGHT_MLO.png - ['Mass-Training_P_01635_RIGHT_MLO', 'Calc-Test_P_01635_RIGHT_MLO']\n",
      "70 /home/alalbiol/Data/mamo/DDSM_png/cancers/cancer_15/case3515/B_3515_1.RIGHT_CC.png - ['Calc-Training_P_00710_RIGHT_CC', 'Mass-Training_P_00710_RIGHT_CC']\n",
      "71 /home/alalbiol/Data/mamo/DDSM_png/cancers/cancer_15/case3515/B_3515_1.RIGHT_MLO.png - ['Calc-Training_P_00710_RIGHT_MLO', 'Mass-Training_P_00710_RIGHT_MLO']\n"
     ]
    }
   ],
   "source": [
    "def check_same_patient(cbis_images):\n",
    "    clean_names = [x.split('/')[0] for x in cbis_images] # results as 'Calc-Training_P_00924_RIGHT_CC'\n",
    "    clean_names = [\"_\".join(x.split('_')[1:]) for x in clean_names] # removes the first part of the name as 'P_00924_RIGHT_CC'\n",
    "    return len(set(clean_names)) == 1\n",
    "    \n",
    "    \n",
    "k = 0\n",
    "for ddsm_image, cbis_images in ddsm_cbis.items():\n",
    "    if len(cbis_images) > 1:\n",
    "        k += 1\n",
    "        print(f\"{k} {ddsm_image} - {[x.split('/')[0] for x in cbis_images]}\")\n",
    "        if not check_same_patient(cbis_images):\n",
    "            print(\"Different patients:\", cbis_images)\n",
    "            break\n",
    "        \n"
   ]
  },
  {
   "cell_type": "code",
   "execution_count": null,
   "metadata": {},
   "outputs": [],
   "source": []
  }
 ],
 "metadata": {
  "kernelspec": {
   "display_name": "Mammo",
   "language": "python",
   "name": "python3"
  },
  "language_info": {
   "codemirror_mode": {
    "name": "ipython",
    "version": 3
   },
   "file_extension": ".py",
   "mimetype": "text/x-python",
   "name": "python",
   "nbconvert_exporter": "python",
   "pygments_lexer": "ipython3",
   "version": "3.11.7"
  }
 },
 "nbformat": 4,
 "nbformat_minor": 2
}
