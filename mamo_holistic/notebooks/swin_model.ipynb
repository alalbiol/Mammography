{
 "cells": [
  {
   "cell_type": "code",
   "execution_count": null,
   "metadata": {},
   "outputs": [],
   "source": []
  },
  {
   "cell_type": "code",
   "execution_count": null,
   "metadata": {},
   "outputs": [
    {
     "name": "stdout",
     "output_type": "stream",
     "text": [
      "torch.Size([1, 35, 28, 1024])\n"
     ]
    },
    {
     "ename": "",
     "evalue": "",
     "output_type": "error",
     "traceback": [
      "\u001b[1;31mThe Kernel crashed while executing code in the current cell or a previous cell. \n",
      "\u001b[1;31mPlease review the code in the cell(s) to identify a possible cause of the failure. \n",
      "\u001b[1;31mClick <a href='https://aka.ms/vscodeJupyterKernelCrash'>here</a> for more info. \n",
      "\u001b[1;31mView Jupyter <a href='command:jupyter.viewOutput'>log</a> for further details."
     ]
    }
   ],
   "source": [
    "import timm\n",
    "import numpy as np\n",
    "import torch\n",
    "from torchvision import transforms\n",
    "from PIL import Image\n",
    "import matplotlib.pyplot as plt\n",
    "\n",
    "# Load a pretrained Swin Transformer model\n",
    "model_name = \"swin_base_patch4_window7_224\"  # Change model name for other variants\n",
    "model = timm.create_model(model_name, pretrained=True)\n",
    "\n",
    "model.set_input_size((1120,896))\n",
    "\n",
    "# Set the model to evaluation mode\n",
    "model.eval()\n",
    "model = model.cuda()\n",
    "\n",
    "x = torch.randn(1, 3, 1120, 896).cuda()\n",
    "\n",
    "\n",
    "# Get the features just before the average pooling layer\n",
    "features = model.forward_features(x)\n",
    "print(features.shape)\n",
    "\n"
   ]
  },
  {
   "cell_type": "code",
   "execution_count": 5,
   "metadata": {},
   "outputs": [
    {
     "name": "stdout",
     "output_type": "stream",
     "text": [
      "['swin_base_patch4_window7_224', 'swin_large_patch4_window7_224', 'swin_s3_base_224', 'swin_s3_small_224', 'swin_s3_tiny_224', 'swin_small_patch4_window7_224', 'swin_tiny_patch4_window7_224', 'swinv2_cr_base_224', 'swinv2_cr_base_ns_224', 'swinv2_cr_giant_224', 'swinv2_cr_huge_224', 'swinv2_cr_large_224', 'swinv2_cr_small_224', 'swinv2_cr_small_ns_224', 'swinv2_cr_tiny_224', 'swinv2_cr_tiny_ns_224']\n"
     ]
    }
   ],
   "source": [
    "import timm\n",
    "swin_models = [model for model in timm.list_models() if 'swin' in model and '224' in model]\n",
    "print(swin_models)"
   ]
  },
  {
   "cell_type": "code",
   "execution_count": 25,
   "metadata": {},
   "outputs": [
    {
     "name": "stdout",
     "output_type": "stream",
     "text": [
      "(0.485, 0.456, 0.406)\n",
      "(0.229, 0.224, 0.225)\n",
      "Image max:  65535.0\n",
      "Image min:  0.0\n",
      "torch.Size([3, 1152, 896])\n"
     ]
    }
   ],
   "source": [
    "print(model.default_cfg['mean'])\n",
    "print(model.default_cfg['std'])\n",
    "\n",
    "# Print the model architecture (optional)\n",
    "#print(model)\n",
    "\n",
    "# Example: Prepare an image for inference\n",
    "# Define input size and transformations\n",
    "input_size = model.default_cfg['input_size'][-1]  # Model's expected input size\n",
    "transform = transforms.Compose([\n",
    "    transforms.Normalize(\n",
    "        mean=model.default_cfg['mean'],\n",
    "        std=model.default_cfg['std']\n",
    "    )\n",
    "])\n",
    "\n",
    "# Load an image\n",
    "image_path = \"/home/alalbiol/Data/mamo/DDSM_png_16bit_1152x896/cancers/cancer_01/case0001/C_0001_1.RIGHT_CC.png\"  # Path to your image\n",
    "image = np.array(Image.open(image_path)).astype(np.float32)\n",
    "\n",
    "\n",
    "\n",
    "print(\"Image max: \", image.max())\n",
    "print(\"Image min: \", image.min())\n",
    "\n",
    "image = torch.from_numpy(image)\n",
    "image = image.unsqueeze(0)  # Add batch dimension\n",
    "image = np.repeat(image, 3, axis=0)  # Repeat the image 3 times to create 3 channels\n",
    "print(image.shape)\n",
    "\n"
   ]
  },
  {
   "cell_type": "code",
   "execution_count": 23,
   "metadata": {},
   "outputs": [
    {
     "name": "stdout",
     "output_type": "stream",
     "text": [
      "input_tensor shape:  torch.Size([1, 3, 1152, 896])\n",
      "Predicted class: 111\n"
     ]
    }
   ],
   "source": [
    "\n",
    "\n",
    "# Preprocess the image\n",
    "input_tensor = transform(image).unsqueeze(0)  # Add batch dimension\n",
    "\n",
    "print(\"input_tensor shape: \", input_tensor.shape)\n",
    "\n",
    "# Run inference\n",
    "with torch.no_grad():\n",
    "    output = model(input_tensor)\n",
    "\n",
    "# Get predicted class\n",
    "predicted_class = torch.argmax(output, dim=1).item()\n",
    "print(f\"Predicted class: {predicted_class}\")\n"
   ]
  },
  {
   "cell_type": "code",
   "execution_count": null,
   "metadata": {},
   "outputs": [
    {
     "name": "stdout",
     "output_type": "stream",
     "text": [
      "input size  896 1120\n",
      "output size  28.0 35.0\n"
     ]
    },
    {
     "data": {
      "text/plain": [
       "42.0"
      ]
     },
     "execution_count": 9,
     "metadata": {},
     "output_type": "execute_result"
    }
   ],
   "source": [
    "print(\"input size \", 224*4, 224*5)\n",
    "print(\"output size \", 224*4/32, 224*5/32)\n",
    "\n",
    "# Get the feature maps\n",
    "import torch.nn as nn\n",
    "\n",
    "\n",
    "avg1 = nn.AdaptiveAvgPool2d()\n",
    "\n",
    "\n"
   ]
  }
 ],
 "metadata": {
  "kernelspec": {
   "display_name": "Mammo",
   "language": "python",
   "name": "python3"
  },
  "language_info": {
   "codemirror_mode": {
    "name": "ipython",
    "version": 3
   },
   "file_extension": ".py",
   "mimetype": "text/x-python",
   "name": "python",
   "nbconvert_exporter": "python",
   "pygments_lexer": "ipython3",
   "version": "3.12.7"
  }
 },
 "nbformat": 4,
 "nbformat_minor": 2
}
