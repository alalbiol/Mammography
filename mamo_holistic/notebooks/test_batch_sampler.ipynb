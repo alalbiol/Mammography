{
 "cells": [
  {
   "cell_type": "code",
   "execution_count": 1,
   "metadata": {},
   "outputs": [],
   "source": [
    "%load_ext autoreload\n",
    "%autoreload 2"
   ]
  },
  {
   "cell_type": "code",
   "execution_count": 2,
   "metadata": {},
   "outputs": [
    {
     "name": "stdout",
     "output_type": "stream",
     "text": [
      "/home/alalbiol/Programacion/Mammography/mamo_holistic/notebooks\n",
      "Number of images in split:  9600\n",
      "Number of images after assgining labels:  5991  Images without annotations:  3609\n"
     ]
    }
   ],
   "source": [
    "import sys\n",
    "sys.path.append('..')\n",
    "import numpy as np\n",
    "\n",
    "!pwd\n",
    "\n",
    "from utils.utils import show_mask_image\n",
    "import matplotlib.pyplot as plt\n",
    "\n",
    "from data.ddsm_dataset import DDSM_Image_Dataset\n",
    "\n",
    "split_csv = '../resources/ddsm/ddsm_nikulin_partitions/train_filenames.txt'\n",
    "\n",
    "\n",
    "split_csv = '../resources/ddsm/DDSM_train.csv'\n",
    "ddsm_annotations = '../resources/ddsm/ddsm_annotations.json.gz'\n",
    "root_dir = '/home/alalbiol/Data/mamo/DDSM_png_1152x896'\n",
    "transform = None\n",
    "\n",
    "from data.ddsm_dataset import DDSM_Image_Dataset\n",
    "\n",
    "dataset = DDSM_Image_Dataset(split_csv, ddsm_annotations, root_dir, transform)"
   ]
  },
  {
   "cell_type": "code",
   "execution_count": 17,
   "metadata": {},
   "outputs": [],
   "source": [
    "from data.ddsm_dataset import BalancedBatchSampler"
   ]
  },
  {
   "cell_type": "code",
   "execution_count": 18,
   "metadata": {},
   "outputs": [],
   "source": [
    "sampler = BalancedBatchSampler(dataset, 16)"
   ]
  },
  {
   "cell_type": "code",
   "execution_count": 19,
   "metadata": {},
   "outputs": [
    {
     "name": "stdout",
     "output_type": "stream",
     "text": [
      "0 [ True  True  True  True  True False False False False  True False False\n",
      " False  True False  True]\n",
      "1 [False  True False  True False False False False False  True  True False\n",
      "  True  True  True  True]\n",
      "2 [ True  True False  True False False  True False False  True False False\n",
      "  True False  True  True]\n",
      "3 [False False False  True False  True False False  True False False  True\n",
      "  True  True  True  True]\n",
      "4 [False False False  True  True  True  True False False False  True  True\n",
      " False  True  True False]\n"
     ]
    }
   ],
   "source": [
    "all_labels = np.array(dataset.get_all_targets())\n",
    "for i, idxs in enumerate(sampler):\n",
    "    print(i, all_labels[idxs])\n",
    "    if i > 3:\n",
    "        break"
   ]
  },
  {
   "cell_type": "code",
   "execution_count": 6,
   "metadata": {},
   "outputs": [
    {
     "data": {
      "text/plain": [
       "array([ True,  True,  True, ..., False, False, False])"
      ]
     },
     "execution_count": 6,
     "metadata": {},
     "output_type": "execute_result"
    }
   ],
   "source": [
    "dataset.get_all_targets()"
   ]
  }
 ],
 "metadata": {
  "kernelspec": {
   "display_name": "Mammo",
   "language": "python",
   "name": "python3"
  },
  "language_info": {
   "codemirror_mode": {
    "name": "ipython",
    "version": 3
   },
   "file_extension": ".py",
   "mimetype": "text/x-python",
   "name": "python",
   "nbconvert_exporter": "python",
   "pygments_lexer": "ipython3",
   "version": "3.11.7"
  }
 },
 "nbformat": 4,
 "nbformat_minor": 2
}
