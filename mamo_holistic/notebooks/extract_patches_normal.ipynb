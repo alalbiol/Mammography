{
 "cells": [
  {
   "cell_type": "code",
   "execution_count": 1,
   "metadata": {},
   "outputs": [],
   "source": [
    "import pandas as pd\n",
    "import numpy as np\n",
    "import matplotlib.pyplot as plt\n",
    "from PIL import Image\n",
    "import pathlib \n",
    "import sys\n",
    "\n",
    "sys.path.append(\"../lib\")\n",
    "\n",
    "from sample_patches_main import sample_patches"
   ]
  },
  {
   "cell_type": "code",
   "execution_count": 2,
   "metadata": {},
   "outputs": [
    {
     "name": "stdout",
     "output_type": "stream",
     "text": [
      "Index(['type', 'assessment', 'subtlety', 'pathology', 'outline',\n",
      "       'bounding_box', 'breast_malignant', 'image_id', 'mask_id'],\n",
      "      dtype='object')\n"
     ]
    }
   ],
   "source": [
    "ddsm_annotations = pd.read_csv('../resources/ddsm/ddsm_annotations.csv')\n",
    "print(ddsm_annotations.columns)"
   ]
  },
  {
   "cell_type": "code",
   "execution_count": 3,
   "metadata": {},
   "outputs": [
    {
     "name": "stdout",
     "output_type": "stream",
     "text": [
      "[643.9205899035734, 648.0270371761171, 851.2762336925695, 793.3788959819752, 747.5984117980714, 720.7029665790462, 207.60975609756096, 145.56815621479535]\n"
     ]
    }
   ],
   "source": [
    "\n",
    "print(ddsm_annotations.iloc[0].bounding_box)"
   ]
  },
  {
   "cell_type": "code",
   "execution_count": 4,
   "metadata": {},
   "outputs": [],
   "source": [
    "def prepare_image_mask(annotation, ddsm_root_folder = '/home/alalbiol/Data/mamo/DDSM_png_1152x896'):\n",
    "    \n",
    "    ddsm_root_folder = pathlib.Path(ddsm_root_folder)\n",
    "    \n",
    "    image = np.array(Image.open(ddsm_root_folder / annotation['image_id']))\n",
    "    mask = np.array(Image.open(ddsm_root_folder / annotation['mask_id']))\n",
    "    \n",
    "    #[xmin, ymin, xmax, ymax, centerx, centery, width, height]\n",
    "    bb = annotation['bounding_box'][4:]\n",
    "    \n",
    "    return image, mask, bb, annotation['mask_id']\n",
    "\n",
    "\n",
    "\n",
    "img, roi_mask, bounding_box, mask_id = prepare_image_mask(ddsm_annotations.iloc[0])"
   ]
  },
  {
   "cell_type": "code",
   "execution_count": 5,
   "metadata": {},
   "outputs": [
    {
     "ename": "ValueError",
     "evalue": "invalid literal for int() with base 10: '.'",
     "output_type": "error",
     "traceback": [
      "\u001b[0;31m---------------------------------------------------------------------------\u001b[0m",
      "\u001b[0;31mValueError\u001b[0m                                Traceback (most recent call last)",
      "Cell \u001b[0;32mIn[5], line 2\u001b[0m\n\u001b[1;32m      1\u001b[0m out_dir \u001b[38;5;241m=\u001b[39m \u001b[38;5;124m\"\u001b[39m\u001b[38;5;124m/tmp\u001b[39m\u001b[38;5;124m\"\u001b[39m\n\u001b[0;32m----> 2\u001b[0m abn_bbs, bkg_bbs \u001b[38;5;241m=\u001b[39m sample_patches(img, roi_mask, out_dir, mask_id, bounding_box)\n",
      "File \u001b[0;32m~/Programacion/mammography/mamo_holistic/notebooks/../lib/sample_patches_main.py:111\u001b[0m, in \u001b[0;36msample_patches\u001b[0;34m(img, roi_mask, out_dir, mask_id, bounding_box, patch_size, pos_cutoff, neg_cutoff, nb_bkg, nb_abn, bkg_dir, malignant_dir, bening_dir, verbose)\u001b[0m\n\u001b[1;32m    109\u001b[0m nb_try \u001b[38;5;241m=\u001b[39m \u001b[38;5;241m0\u001b[39m\n\u001b[1;32m    110\u001b[0m \u001b[38;5;28;01mwhile\u001b[39;00m sampled_abn \u001b[38;5;241m<\u001b[39m nb_abn:\n\u001b[0;32m--> 111\u001b[0m     x \u001b[38;5;241m=\u001b[39m rng\u001b[38;5;241m.\u001b[39mrandint(rx, rx \u001b[38;5;241m+\u001b[39m rw)\n\u001b[1;32m    112\u001b[0m     y \u001b[38;5;241m=\u001b[39m rng\u001b[38;5;241m.\u001b[39mrandint(ry, ry \u001b[38;5;241m+\u001b[39m rh)\n\u001b[1;32m    113\u001b[0m     nb_try \u001b[38;5;241m+\u001b[39m\u001b[38;5;241m=\u001b[39m \u001b[38;5;241m1\u001b[39m\n",
      "File \u001b[0;32mnumpy/random/mtrand.pyx:782\u001b[0m, in \u001b[0;36mnumpy.random.mtrand.RandomState.randint\u001b[0;34m()\u001b[0m\n",
      "File \u001b[0;32mnumpy/random/_bounded_integers.pyx:1323\u001b[0m, in \u001b[0;36mnumpy.random._bounded_integers._rand_int64\u001b[0;34m()\u001b[0m\n",
      "\u001b[0;31mValueError\u001b[0m: invalid literal for int() with base 10: '.'"
     ]
    }
   ],
   "source": [
    "out_dir = \"/tmp\"\n",
    "abn_bbs, bkg_bbs = sample_patches(img, roi_mask, out_dir, mask_id, bounding_box)"
   ]
  },
  {
   "cell_type": "code",
   "execution_count": 6,
   "metadata": {},
   "outputs": [
    {
     "data": {
      "text/plain": [
       "'.9205899035734, 648.0270371761171, 851.2762336925695, 793.3788959819752, 747.5984117980714, 720.7029665790462, 207.60975609756096, 145.56815621479535]'"
      ]
     },
     "execution_count": 6,
     "metadata": {},
     "output_type": "execute_result"
    }
   ],
   "source": [
    "bounding_box #hay que regnerar los bounding box porque no se guarda bien como csb :_()"
   ]
  },
  {
   "cell_type": "code",
   "execution_count": null,
   "metadata": {},
   "outputs": [],
   "source": []
  }
 ],
 "metadata": {
  "kernelspec": {
   "display_name": "Mammo",
   "language": "python",
   "name": "python3"
  },
  "language_info": {
   "codemirror_mode": {
    "name": "ipython",
    "version": 3
   },
   "file_extension": ".py",
   "mimetype": "text/x-python",
   "name": "python",
   "nbconvert_exporter": "python",
   "pygments_lexer": "ipython3",
   "version": "3.11.7"
  }
 },
 "nbformat": 4,
 "nbformat_minor": 2
}
