{
 "cells": [
  {
   "cell_type": "markdown",
   "metadata": {},
   "source": [
    "Using matches_ddsm_CBIS_DDSM.csv file, we can get what ddsm is train or test using CBIS ddsm split.\n",
    "\n",
    "All DDSM images that are not in CBIS_DDSM dataset are considered as training data (most of them are normal images)."
   ]
  },
  {
   "cell_type": "code",
   "execution_count": 4,
   "metadata": {},
   "outputs": [],
   "source": [
    "import pathlib\n",
    "import numpy as np\n",
    "import pandas as pd\n",
    "import matplotlib.pyplot as plt\n",
    "from PIL import Image\n",
    "import pathlib"
   ]
  },
  {
   "cell_type": "code",
   "execution_count": 7,
   "metadata": {},
   "outputs": [],
   "source": [
    "data_folder = pathlib.Path('/home/alalbiol/Data/mamo')\n",
    "data_folder = pathlib.Path('/media/HD/mamo')\n",
    "ddsm_path = data_folder / 'DDSM_png'"
   ]
  },
  {
   "cell_type": "code",
   "execution_count": 10,
   "metadata": {},
   "outputs": [
    {
     "name": "stdout",
     "output_type": "stream",
     "text": [
      "DDSM images: 10420\n",
      "Number of train cbis abnormalities: 2864\n",
      "Number of test cbis abnormalities: 704\n",
      "Number of all abnormalities: 3568\n"
     ]
    }
   ],
   "source": [
    "all_ddsm_images = list(ddsm_path.glob('**/*.png'))\n",
    "print(f'DDSM images: {len(all_ddsm_images)}')\n",
    "\n",
    "\n",
    "calc_case_test = pd.read_csv( '../resources/cbis_ddsm/calc_case_description_test_set.csv')\n",
    "calc_case_train = pd.read_csv( '../resources/cbis_ddsm/calc_case_description_train_set.csv')\n",
    "mass_case_test = pd.read_csv( '../resources/cbis_ddsm/mass_case_description_test_set.csv')\n",
    "mass_case_train = pd.read_csv( '../resources/cbis_ddsm/mass_case_description_train_set.csv')\n",
    "all_case_train = pd.concat([calc_case_train, mass_case_train])\n",
    "all_case_test = pd.concat([calc_case_test, mass_case_test])\n",
    "\n",
    "print(f\"Number of train cbis abnormalities: {len(all_case_train)}\")\n",
    "print(f\"Number of test cbis abnormalities: {len(all_case_test)}\")\n",
    "\n",
    "print(f\"Number of all abnormalities: {len(all_case_train) + len(all_case_test)}\")\n"
   ]
  },
  {
   "cell_type": "markdown",
   "metadata": {},
   "source": [
    "# Classify DDSM intro train/test"
   ]
  },
  {
   "cell_type": "code",
   "execution_count": 18,
   "metadata": {},
   "outputs": [
    {
     "name": "stdout",
     "output_type": "stream",
     "text": [
      "                                          cbis_image  \\\n",
      "0  Calc-Training_P_00005_RIGHT_CC/1.3.6.1.4.1.959...   \n",
      "1  Calc-Training_P_00005_RIGHT_MLO/1.3.6.1.4.1.95...   \n",
      "2  Calc-Training_P_00007_LEFT_CC/1.3.6.1.4.1.9590...   \n",
      "3  Calc-Training_P_00007_LEFT_MLO/1.3.6.1.4.1.959...   \n",
      "4  Calc-Training_P_00008_LEFT_CC/1.3.6.1.4.1.9590...   \n",
      "\n",
      "                                          ddsm_image  distance  split  \n",
      "0   cancers/cancer_12/case4110/D_4110_1.RIGHT_CC.png  0.002982  train  \n",
      "1  cancers/cancer_12/case4110/D_4110_1.RIGHT_MLO.png  0.005820  train  \n",
      "2    benigns/benign_02/case1326/A_1326_1.LEFT_CC.png  0.005775  train  \n",
      "3   benigns/benign_02/case1326/A_1326_1.LEFT_MLO.png  0.005494  train  \n",
      "4  benign_without_callbacks/benign_without_callba...  0.009336  train  \n"
     ]
    }
   ],
   "source": [
    "import pandas as pd\n",
    "\n",
    "df_matches = pd.read_csv('../resources/matches_ddsm_CBIS_DDSM.csv')\n",
    "\n",
    "\n",
    "def simplify_ddsm_name(row):\n",
    "    return \"/\".join(row['ddsm_image'].split('/')[-4:])\n",
    "\n",
    "def split_train_test(row):\n",
    "    if row['cbis_image'] in all_case_train['image file path'].values:\n",
    "        return 'train'\n",
    "    elif row['cbis_image'] in all_case_test['image file path'].values:\n",
    "        return 'test'\n",
    "    else:\n",
    "        return 'unknown'\n",
    "    \n",
    "df_matches['split'] = df_matches.apply(split_train_test, axis=1)\n",
    "df_matches['ddsm_image'] = df_matches.apply(simplify_ddsm_name, axis=1)\n",
    "    \n",
    "print(df_matches.head())\n"
   ]
  },
  {
   "cell_type": "code",
   "execution_count": 19,
   "metadata": {},
   "outputs": [
    {
     "data": {
      "text/plain": [
       "split\n",
       "train    2864\n",
       "test      704\n",
       "Name: count, dtype: int64"
      ]
     },
     "execution_count": 19,
     "metadata": {},
     "output_type": "execute_result"
    }
   ],
   "source": [
    "df_matches['split'].value_counts()"
   ]
  },
  {
   "cell_type": "code",
   "execution_count": 20,
   "metadata": {},
   "outputs": [
    {
     "name": "stdout",
     "output_type": "stream",
     "text": [
      "number of images  3103\n",
      "number of images  3032\n"
     ]
    }
   ],
   "source": [
    "print(\"number of images \", len(df_matches.cbis_image.unique()))\n",
    "print(\"number of images \", len(df_matches.ddsm_image.unique()))\n"
   ]
  },
  {
   "cell_type": "markdown",
   "metadata": {},
   "source": [
    "El numero de imágenes de DDSM es menor porque en CBIS han repetido imagenes que tienen ambos tipos de lesiones con nombres diferentes."
   ]
  },
  {
   "cell_type": "code",
   "execution_count": 21,
   "metadata": {},
   "outputs": [
    {
     "name": "stdout",
     "output_type": "stream",
     "text": [
      "df_matches                                            cbis_image  \\\n",
      "0  Calc-Training_P_00005_RIGHT_CC/1.3.6.1.4.1.959...   \n",
      "1  Calc-Training_P_00005_RIGHT_MLO/1.3.6.1.4.1.95...   \n",
      "2  Calc-Training_P_00007_LEFT_CC/1.3.6.1.4.1.9590...   \n",
      "3  Calc-Training_P_00007_LEFT_MLO/1.3.6.1.4.1.959...   \n",
      "4  Calc-Training_P_00008_LEFT_CC/1.3.6.1.4.1.9590...   \n",
      "\n",
      "                                          ddsm_image  distance  split  \n",
      "0   cancers/cancer_12/case4110/D_4110_1.RIGHT_CC.png  0.002982  train  \n",
      "1  cancers/cancer_12/case4110/D_4110_1.RIGHT_MLO.png  0.005820  train  \n",
      "2    benigns/benign_02/case1326/A_1326_1.LEFT_CC.png  0.005775  train  \n",
      "3   benigns/benign_02/case1326/A_1326_1.LEFT_MLO.png  0.005494  train  \n",
      "4  benign_without_callbacks/benign_without_callba...  0.009336  train  \n"
     ]
    }
   ],
   "source": [
    "print(\"df_matches \", df_matches.head())"
   ]
  },
  {
   "cell_type": "code",
   "execution_count": 26,
   "metadata": {},
   "outputs": [
    {
     "name": "stdout",
     "output_type": "stream",
     "text": [
      "all_ddsm_ids  ['cancers/cancer_13/case4124/D_4124_1.LEFT_CC.png', 'cancers/cancer_13/case4124/D_4124_1.RIGHT_CC.png', 'cancers/cancer_13/case4124/D_4124_1.RIGHT_MLO.png', 'cancers/cancer_13/case4124/D_4124_1.LEFT_MLO.png', 'cancers/cancer_13/case4161/D_4161_1.LEFT_CC.png']\n"
     ]
    }
   ],
   "source": [
    "all_ddsm_ids =[\"/\".join(str(x).split('/')[-4:]) for x in all_ddsm_images]\n",
    "\n",
    "print(\"all_ddsm_ids \", all_ddsm_ids[:5])\n",
    "\n",
    "all_ddsm_df = pd.DataFrame(all_ddsm_ids, columns=['ddsm_image'])\n",
    "all_ddsm_df['split'] = 'train'"
   ]
  },
  {
   "cell_type": "code",
   "execution_count": 27,
   "metadata": {},
   "outputs": [],
   "source": [
    "for i, row in all_ddsm_df.iterrows():\n",
    "    if row['ddsm_image'] in df_matches.ddsm_image.values:\n",
    "        all_ddsm_df.loc[i, 'split'] = df_matches[df_matches['ddsm_image'] == row['ddsm_image']]['split'].values[0]"
   ]
  },
  {
   "cell_type": "code",
   "execution_count": 30,
   "metadata": {},
   "outputs": [
    {
     "name": "stdout",
     "output_type": "stream",
     "text": [
      "split\n",
      "train    9808\n",
      "test      612\n",
      "Name: count, dtype: int64\n",
      "split\n",
      "train    2864\n",
      "test      704\n",
      "Name: count, dtype: int64\n"
     ]
    }
   ],
   "source": [
    "print(all_ddsm_df.split.value_counts())\n",
    "print(df_matches.split.value_counts())\n",
    "# De nuevo hay menos de test porque algunas de CBIS estan repetidas en masses y calcifications"
   ]
  },
  {
   "cell_type": "code",
   "execution_count": 34,
   "metadata": {},
   "outputs": [],
   "source": [
    "all_ddsm_df.to_csv('../resources/ddsm/DDSM_split.csv', index=False)\n",
    "# now save train and test images in different csv files\n",
    "all_ddsm_df[all_ddsm_df['split'] == 'train'].to_csv('../resources/ddsm/DDSM_train.csv', index=False)\n",
    "all_ddsm_df[all_ddsm_df['split'] == 'test'].to_csv('../resources/ddsm/DDSM_test.csv', index=False)"
   ]
  },
  {
   "cell_type": "code",
   "execution_count": null,
   "metadata": {},
   "outputs": [],
   "source": []
  }
 ],
 "metadata": {
  "kernelspec": {
   "display_name": "Mammo",
   "language": "python",
   "name": "python3"
  },
  "language_info": {
   "codemirror_mode": {
    "name": "ipython",
    "version": 3
   },
   "file_extension": ".py",
   "mimetype": "text/x-python",
   "name": "python",
   "nbconvert_exporter": "python",
   "pygments_lexer": "ipython3",
   "version": "3.11.7"
  }
 },
 "nbformat": 4,
 "nbformat_minor": 2
}
