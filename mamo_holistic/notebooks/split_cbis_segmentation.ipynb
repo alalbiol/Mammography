{
 "cells": [
  {
   "cell_type": "code",
   "execution_count": 2,
   "metadata": {},
   "outputs": [],
   "source": [
    "import pandas as pd\n",
    "import pathlib"
   ]
  },
  {
   "cell_type": "code",
   "execution_count": 4,
   "metadata": {},
   "outputs": [],
   "source": [
    "root_dataset = pathlib.Path('/home/alalbiol/Data/mamo/CBIS-DDSM-segmentation-2240x1792')\n",
    "\n",
    "bounding_boxes = pd.read_csv(root_dataset/'bounding_boxes.csv')"
   ]
  },
  {
   "cell_type": "code",
   "execution_count": 10,
   "metadata": {},
   "outputs": [
    {
     "data": {
      "text/html": [
       "<div>\n",
       "<style scoped>\n",
       "    .dataframe tbody tr th:only-of-type {\n",
       "        vertical-align: middle;\n",
       "    }\n",
       "\n",
       "    .dataframe tbody tr th {\n",
       "        vertical-align: top;\n",
       "    }\n",
       "\n",
       "    .dataframe thead th {\n",
       "        text-align: right;\n",
       "    }\n",
       "</style>\n",
       "<table border=\"1\" class=\"dataframe\">\n",
       "  <thead>\n",
       "    <tr style=\"text-align: right;\">\n",
       "      <th></th>\n",
       "      <th>id</th>\n",
       "      <th>x</th>\n",
       "      <th>y</th>\n",
       "      <th>w</th>\n",
       "      <th>h</th>\n",
       "      <th>label</th>\n",
       "      <th>group</th>\n",
       "    </tr>\n",
       "  </thead>\n",
       "  <tbody>\n",
       "    <tr>\n",
       "      <th>0</th>\n",
       "      <td>P_00474_LEFT_MLO</td>\n",
       "      <td>1161</td>\n",
       "      <td>940</td>\n",
       "      <td>556</td>\n",
       "      <td>458</td>\n",
       "      <td>CALCIFICATION_MALIGNANT</td>\n",
       "      <td>None</td>\n",
       "    </tr>\n",
       "    <tr>\n",
       "      <th>1</th>\n",
       "      <td>P_00476_LEFT_CC</td>\n",
       "      <td>1085</td>\n",
       "      <td>1556</td>\n",
       "      <td>18</td>\n",
       "      <td>28</td>\n",
       "      <td>CALCIFICATION_BENIGN</td>\n",
       "      <td>None</td>\n",
       "    </tr>\n",
       "    <tr>\n",
       "      <th>2</th>\n",
       "      <td>P_00476_LEFT_MLO</td>\n",
       "      <td>1050</td>\n",
       "      <td>1637</td>\n",
       "      <td>28</td>\n",
       "      <td>42</td>\n",
       "      <td>CALCIFICATION_BENIGN</td>\n",
       "      <td>None</td>\n",
       "    </tr>\n",
       "    <tr>\n",
       "      <th>3</th>\n",
       "      <td>P_00476_RIGHT_CC</td>\n",
       "      <td>1672</td>\n",
       "      <td>1460</td>\n",
       "      <td>22</td>\n",
       "      <td>19</td>\n",
       "      <td>CALCIFICATION_BENIGN</td>\n",
       "      <td>None</td>\n",
       "    </tr>\n",
       "    <tr>\n",
       "      <th>4</th>\n",
       "      <td>P_00476_RIGHT_CC</td>\n",
       "      <td>1654</td>\n",
       "      <td>1680</td>\n",
       "      <td>25</td>\n",
       "      <td>19</td>\n",
       "      <td>CALCIFICATION_BENIGN</td>\n",
       "      <td>None</td>\n",
       "    </tr>\n",
       "  </tbody>\n",
       "</table>\n",
       "</div>"
      ],
      "text/plain": [
       "                 id     x     y    w    h                    label group\n",
       "0  P_00474_LEFT_MLO  1161   940  556  458  CALCIFICATION_MALIGNANT  None\n",
       "1   P_00476_LEFT_CC  1085  1556   18   28     CALCIFICATION_BENIGN  None\n",
       "2  P_00476_LEFT_MLO  1050  1637   28   42     CALCIFICATION_BENIGN  None\n",
       "3  P_00476_RIGHT_CC  1672  1460   22   19     CALCIFICATION_BENIGN  None\n",
       "4  P_00476_RIGHT_CC  1654  1680   25   19     CALCIFICATION_BENIGN  None"
      ]
     },
     "execution_count": 10,
     "metadata": {},
     "output_type": "execute_result"
    }
   ],
   "source": [
    "bounding_boxes['group'] = None\n",
    "bounding_boxes.head()"
   ]
  },
  {
   "cell_type": "code",
   "execution_count": 13,
   "metadata": {},
   "outputs": [],
   "source": [
    "calc_case_test = pd.read_csv( '../resources/cbis_ddsm/calc_case_description_test_set.csv')\n",
    "calc_case_train = pd.read_csv( '../resources/cbis_ddsm/calc_case_description_train_set.csv')\n",
    "mass_case_test = pd.read_csv( '../resources/cbis_ddsm/mass_case_description_test_set.csv')\n",
    "mass_case_train = pd.read_csv( '../resources/cbis_ddsm/mass_case_description_train_set.csv')\n",
    "\n",
    "calc_case_test['group'] = 'test'\n",
    "calc_case_train['group'] = 'train'\n",
    "mass_case_test['group'] = 'test'\n",
    "mass_case_train['group'] = 'train'\n",
    "\n",
    "\n",
    "all_case_train = pd.concat([calc_case_train, mass_case_train])\n",
    "all_case_test = pd.concat([calc_case_test, mass_case_test])\n",
    "\n",
    "#reset index\n",
    "all_case_train = all_case_train.reset_index(drop=True)\n",
    "all_case_test = all_case_test.reset_index(drop=True)\n",
    "\n"
   ]
  },
  {
   "cell_type": "code",
   "execution_count": 14,
   "metadata": {},
   "outputs": [],
   "source": [
    "all_case_train['id'] = all_case_train.patient_id + '_' + all_case_train['left or right breast'] + '_' + all_case_train['image view']\n",
    "all_case_test['id'] = all_case_test.patient_id + '_' + all_case_test['left or right breast'] + '_' + all_case_test['image view']\n",
    "\n",
    "train_ids = all_case_train.id.values\n",
    "test_ids = all_case_test.id.values"
   ]
  },
  {
   "cell_type": "code",
   "execution_count": 16,
   "metadata": {},
   "outputs": [],
   "source": [
    "for i, row in bounding_boxes.iterrows():\n",
    "    if row['id'] in train_ids:\n",
    "        bounding_boxes.loc[i, 'group'] = 'train'\n",
    "    elif row['id'] in test_ids:\n",
    "        bounding_boxes.loc[i, 'group'] = 'test'\n",
    "    else:\n",
    "        print('Error', row['patient_id'])"
   ]
  },
  {
   "cell_type": "code",
   "execution_count": 17,
   "metadata": {},
   "outputs": [
    {
     "data": {
      "text/plain": [
       "group\n",
       "train    2541\n",
       "test      668\n",
       "Name: count, dtype: int64"
      ]
     },
     "execution_count": 17,
     "metadata": {},
     "output_type": "execute_result"
    }
   ],
   "source": [
    "bounding_boxes.group.value_counts()"
   ]
  },
  {
   "cell_type": "code",
   "execution_count": 18,
   "metadata": {},
   "outputs": [
    {
     "name": "stdout",
     "output_type": "stream",
     "text": [
      "3209\n"
     ]
    }
   ],
   "source": [
    "print(len(bounding_boxes))"
   ]
  },
  {
   "cell_type": "code",
   "execution_count": 19,
   "metadata": {},
   "outputs": [],
   "source": [
    "bounding_boxes.to_csv(root_dataset/'bounding_boxes.csv', index=False)"
   ]
  }
 ],
 "metadata": {
  "kernelspec": {
   "display_name": "Mammo",
   "language": "python",
   "name": "python3"
  },
  "language_info": {
   "codemirror_mode": {
    "name": "ipython",
    "version": 3
   },
   "file_extension": ".py",
   "mimetype": "text/x-python",
   "name": "python",
   "nbconvert_exporter": "python",
   "pygments_lexer": "ipython3",
   "version": "3.12.7"
  }
 },
 "nbformat": 4,
 "nbformat_minor": 2
}
