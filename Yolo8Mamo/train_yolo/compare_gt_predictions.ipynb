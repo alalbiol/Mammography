{
 "cells": [
  {
   "cell_type": "code",
   "execution_count": 1,
   "metadata": {},
   "outputs": [],
   "source": [
    "import supervision as sv\n",
    "import numpy as np\n",
    "import pathlib  \n"
   ]
  },
  {
   "cell_type": "code",
   "execution_count": 2,
   "metadata": {},
   "outputs": [],
   "source": [
    "target_folder = pathlib.Path('/home/alalbiol/Data/mamo/inbreast_yolo/validation/labels')\n",
    "pred_folder = pathlib.Path('/home/alalbiol/Data/mamo/inbreast_yolo/validation/fasterrcnn_predictions')"
   ]
  },
  {
   "cell_type": "code",
   "execution_count": 8,
   "metadata": {},
   "outputs": [],
   "source": [
    "def read_gt_yolo(annotations_file):\n",
    "    annotations = []\n",
    "    with open(annotations_file, 'r') as f:\n",
    "        for line in f:\n",
    "            fields = line.strip().split()\n",
    "            x_center = float(fields[1])\n",
    "            y_center = float(fields[2])\n",
    "            width = float(fields[3])\n",
    "            height = float(fields[4])\n",
    "            x1 = x_center - width/2\n",
    "            y1 = y_center - height/2\n",
    "            x2 = x_center + width/2\n",
    "            y2 = y_center + height/2\n",
    "            class_id = int(fields[0])\n",
    "            anot = [x1, y1, x2, y2, class_id]\n",
    "            annotations.append(anot)\n",
    "        if len(annotations) == 0:\n",
    "            annotations.append([0, 0, 0, 0, 0])\n",
    "    return np.array(annotations)\n",
    "\n",
    "\n",
    "def read_prediction(annotations_file, confidence_threshold=0.5):\n",
    "    annotations = []\n",
    "    with open(annotations_file, 'r') as f:\n",
    "        for line in f:\n",
    "            fields = line.strip().split()\n",
    "            x_center = float(fields[0])\n",
    "            y_center = float(fields[1])\n",
    "            width = float(fields[2])\n",
    "            height = float(fields[3])\n",
    "            x1 = x_center - width/2\n",
    "            y1 = y_center - height/2\n",
    "            x2 = x_center + width/2\n",
    "            y2 = y_center + height/2\n",
    "            class_id = float(fields[5])\n",
    "            condidence = float(fields[4])\n",
    "            if condidence < confidence_threshold:\n",
    "                continue\n",
    "            anot = [x1, y1, x2, y2, class_id, condidence]\n",
    "            annotations.append(anot)\n",
    "        if len(annotations) == 0:\n",
    "            annotations.append([0, 0, 0, 0, 0,0])\n",
    "    return np.array(annotations)\n",
    "\n",
    "\n",
    "def read_all(target_folder, pred_folder, confidence_threshold=0.5):\n",
    "    target_files = list(target_folder.glob('*.txt'))\n",
    "    targets = []\n",
    "    predictions = []\n",
    "    \n",
    "    for target_file in target_files:\n",
    "        targets.append(read_gt_yolo(target_file))\n",
    "        pred_file = pred_folder / target_file.name\n",
    "        pred = read_prediction(pred_file, confidence_threshold=confidence_threshold)\n",
    "        predictions.append(pred)\n",
    "        \n",
    "    return targets, predictions\n"
   ]
  },
  {
   "cell_type": "code",
   "execution_count": 11,
   "metadata": {},
   "outputs": [
    {
     "name": "stdout",
     "output_type": "stream",
     "text": [
      "Threshold: 0.00 mAP50: 0.17\n",
      "Threshold: 0.10 mAP50: 0.18\n",
      "Threshold: 0.20 mAP50: 0.19\n",
      "Threshold: 0.30 mAP50: 0.19\n",
      "Threshold: 0.40 mAP50: 0.20\n",
      "Threshold: 0.50 mAP50: 0.21\n"
     ]
    },
    {
     "name": "stderr",
     "output_type": "stream",
     "text": [
      "/home/alalbiol/miniconda3/envs/Mammo/lib/python3.11/site-packages/supervision/detection/utils.py:59: RuntimeWarning: invalid value encountered in divide\n",
      "  return area_inter / (area_true[:, None] + area_detection - area_inter)\n"
     ]
    },
    {
     "name": "stdout",
     "output_type": "stream",
     "text": [
      "Threshold: 0.60 mAP50: 0.21\n",
      "Threshold: 0.70 mAP50: 0.21\n",
      "Threshold: 0.80 mAP50: 0.20\n",
      "Threshold: 0.90 mAP50: 0.16\n",
      "Threshold: 1.00 mAP50: 0.00\n"
     ]
    }
   ],
   "source": [
    "ths = np.linspace(0, 1, 11)\n",
    "\n",
    "map50 = []\n",
    "\n",
    "for th in ths:\n",
    "    targets, predictions = read_all(target_folder, pred_folder, confidence_threshold=th)\n",
    "\n",
    "    mean_average_precison = sv.MeanAveragePrecision.from_tensors(\n",
    "        predictions=predictions,\n",
    "        targets=targets)\n",
    "\n",
    "    map50.append(mean_average_precison.map50)\n",
    "    \n",
    "    print(f\"Threshold: {th:.2f} mAP50: {mean_average_precison.map50:.2f}\")\n",
    "    "
   ]
  },
  {
   "cell_type": "code",
   "execution_count": 12,
   "metadata": {},
   "outputs": [
    {
     "data": {
      "text/plain": [
       "[<matplotlib.lines.Line2D at 0x7f43258b3ed0>]"
      ]
     },
     "execution_count": 12,
     "metadata": {},
     "output_type": "execute_result"
    },
    {
     "data": {
      "image/png": "[encoded data removed]",
      "text/plain": [
       "<Figure size 640x480 with 1 Axes>"
      ]
     },
     "metadata": {},
     "output_type": "display_data"
    }
   ],
   "source": [
    "import matplotlib.pyplot as plt\n",
    "plt.plot(ths, map50)"
   ]
  },
  {
   "cell_type": "code",
   "execution_count": 5,
   "metadata": {},
   "outputs": [
    {
     "data": {
      "text/plain": [
       "array([[0, 0, 0, 0, 0, 0]])"
      ]
     },
     "execution_count": 5,
     "metadata": {},
     "output_type": "execute_result"
    }
   ],
   "source": [
    "predictions[0]"
   ]
  }
 ],
 "metadata": {
  "kernelspec": {
   "display_name": "Mammo",
   "language": "python",
   "name": "python3"
  },
  "language_info": {
   "codemirror_mode": {
    "name": "ipython",
    "version": 3
   },
   "file_extension": ".py",
   "mimetype": "text/x-python",
   "name": "python",
   "nbconvert_exporter": "python",
   "pygments_lexer": "ipython3",
   "version": "3.11.7"
  }
 },
 "nbformat": 4,
 "nbformat_minor": 2
}
