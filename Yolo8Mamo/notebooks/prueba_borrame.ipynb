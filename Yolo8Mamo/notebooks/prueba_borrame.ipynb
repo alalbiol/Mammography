{
 "cells": [
  {
   "cell_type": "code",
   "execution_count": 1,
   "metadata": {},
   "outputs": [],
   "source": [
    "import pathlib\n",
    "import sys\n",
    "\n"
   ]
  },
  {
   "cell_type": "code",
   "execution_count": 2,
   "metadata": {},
   "outputs": [],
   "source": [
    "cancers_folder = pathlib.Path(\"/home/alalbiol/Data/mamo/DDSM_png/cancers\")"
   ]
  },
  {
   "cell_type": "code",
   "execution_count": 3,
   "metadata": {},
   "outputs": [],
   "source": [
    "# Find recursively all png files\n",
    "png_files = list(cancers_folder.glob(\"**/*.png\"))"
   ]
  },
  {
   "cell_type": "code",
   "execution_count": 5,
   "metadata": {},
   "outputs": [
    {
     "name": "stdout",
     "output_type": "stream",
     "text": [
      "Found 3656 png files\n"
     ]
    }
   ],
   "source": [
    "print(f\"Found {len(png_files)} png files\")"
   ]
  },
  {
   "cell_type": "code",
   "execution_count": 15,
   "metadata": {},
   "outputs": [],
   "source": [
    "cases = [\"/\".join(png_file.parts[-4:-1]) for png_file in png_files]"
   ]
  },
  {
   "cell_type": "code",
   "execution_count": 16,
   "metadata": {},
   "outputs": [
    {
     "name": "stdout",
     "output_type": "stream",
     "text": [
      "Found 914 cases\n"
     ]
    }
   ],
   "source": [
    "print(f\"Found {len(set(cases))} cases\")"
   ]
  },
  {
   "cell_type": "code",
   "execution_count": 12,
   "metadata": {},
   "outputs": [
    {
     "data": {
      "text/plain": [
       "{'a', 'b', 'c', 'd', 'e', 'f', 'g', 'h', 'i', 'j'}"
      ]
     },
     "execution_count": 12,
     "metadata": {},
     "output_type": "execute_result"
    }
   ],
   "source": [
    "set(kk)"
   ]
  },
  {
   "cell_type": "code",
   "execution_count": 18,
   "metadata": {},
   "outputs": [
    {
     "name": "stdout",
     "output_type": "stream",
     "text": [
      "                                            filename class  x_min  y_min  \\\n",
      "0  /home/alalbiol/Data/mamo/DDSM_png/cancers/canc...   cat     34     23   \n",
      "1  /home/alalbiol/Data/mamo/DDSM_png/cancers/canc...   dog    170     60   \n",
      "2  /home/alalbiol/Data/mamo/DDSM_png/cancers/canc...  bird     50     30   \n",
      "3  /home/alalbiol/Data/mamo/DDSM_png/cancers/canc...   cat     10     50   \n",
      "4  /home/alalbiol/Data/mamo/DDSM_png/cancers/canc...   dog    120     40   \n",
      "5  /home/alalbiol/Data/mamo/DDSM_png/cancers/canc...  none      0      0   \n",
      "6  /home/alalbiol/Data/mamo/DDSM_png/cancers/canc...  none      0      0   \n",
      "\n",
      "   x_max  y_max  \n",
      "0    150    200  \n",
      "1    290    180  \n",
      "2    100     90  \n",
      "3    100    150  \n",
      "4    200    130  \n",
      "5      0      0  \n",
      "6      0      0  \n"
     ]
    }
   ],
   "source": [
    "import pandas as pd\n",
    "\n",
    "# Create a DataFrame with the image data\n",
    "data = {\n",
    "    'filename': png_files[:7],\n",
    "    'class': ['cat', 'dog', 'bird', 'cat', 'dog', 'none', 'none'],\n",
    "    'x_min': [34, 170, 50, 10, 120, 0, 0],\n",
    "    'y_min': [23, 60, 30, 50, 40, 0, 0],\n",
    "    'x_max': [150, 290, 100, 100, 200, 0, 0],\n",
    "    'y_max': [200, 180, 90, 150, 130, 0, 0]\n",
    "}\n",
    "\n",
    "df = pd.DataFrame(data)\n",
    "\n",
    "# Display the DataFrame\n",
    "print(df)\n"
   ]
  },
  {
   "cell_type": "code",
   "execution_count": 20,
   "metadata": {},
   "outputs": [],
   "source": [
    "df['case'] = df.filename.apply(lambda x: \"/\".join(x.parts[-4:-1]))"
   ]
  },
  {
   "cell_type": "code",
   "execution_count": 32,
   "metadata": {},
   "outputs": [
    {
     "data": {
      "text/html": [
       "<div>\n",
       "<style scoped>\n",
       "    .dataframe tbody tr th:only-of-type {\n",
       "        vertical-align: middle;\n",
       "    }\n",
       "\n",
       "    .dataframe tbody tr th {\n",
       "        vertical-align: top;\n",
       "    }\n",
       "\n",
       "    .dataframe thead th {\n",
       "        text-align: right;\n",
       "    }\n",
       "</style>\n",
       "<table border=\"1\" class=\"dataframe\">\n",
       "  <thead>\n",
       "    <tr style=\"text-align: right;\">\n",
       "      <th></th>\n",
       "      <th>filename</th>\n",
       "      <th>class</th>\n",
       "      <th>x_min</th>\n",
       "      <th>y_min</th>\n",
       "      <th>x_max</th>\n",
       "      <th>y_max</th>\n",
       "      <th>case</th>\n",
       "      <th>train</th>\n",
       "    </tr>\n",
       "  </thead>\n",
       "  <tbody>\n",
       "    <tr>\n",
       "      <th>0</th>\n",
       "      <td>/home/alalbiol/Data/mamo/DDSM_png/cancers/canc...</td>\n",
       "      <td>cat</td>\n",
       "      <td>34</td>\n",
       "      <td>23</td>\n",
       "      <td>150</td>\n",
       "      <td>200</td>\n",
       "      <td>cancers/cancer_03/case1052</td>\n",
       "      <td>True</td>\n",
       "    </tr>\n",
       "    <tr>\n",
       "      <th>1</th>\n",
       "      <td>/home/alalbiol/Data/mamo/DDSM_png/cancers/canc...</td>\n",
       "      <td>dog</td>\n",
       "      <td>170</td>\n",
       "      <td>60</td>\n",
       "      <td>290</td>\n",
       "      <td>180</td>\n",
       "      <td>cancers/cancer_03/case1052</td>\n",
       "      <td>True</td>\n",
       "    </tr>\n",
       "    <tr>\n",
       "      <th>2</th>\n",
       "      <td>/home/alalbiol/Data/mamo/DDSM_png/cancers/canc...</td>\n",
       "      <td>bird</td>\n",
       "      <td>50</td>\n",
       "      <td>30</td>\n",
       "      <td>100</td>\n",
       "      <td>90</td>\n",
       "      <td>cancers/cancer_03/case1052</td>\n",
       "      <td>True</td>\n",
       "    </tr>\n",
       "    <tr>\n",
       "      <th>3</th>\n",
       "      <td>/home/alalbiol/Data/mamo/DDSM_png/cancers/canc...</td>\n",
       "      <td>cat</td>\n",
       "      <td>10</td>\n",
       "      <td>50</td>\n",
       "      <td>100</td>\n",
       "      <td>150</td>\n",
       "      <td>cancers/cancer_03/case1052</td>\n",
       "      <td>True</td>\n",
       "    </tr>\n",
       "    <tr>\n",
       "      <th>4</th>\n",
       "      <td>/home/alalbiol/Data/mamo/DDSM_png/cancers/canc...</td>\n",
       "      <td>dog</td>\n",
       "      <td>120</td>\n",
       "      <td>40</td>\n",
       "      <td>200</td>\n",
       "      <td>130</td>\n",
       "      <td>cancers/cancer_03/case1002</td>\n",
       "      <td>False</td>\n",
       "    </tr>\n",
       "    <tr>\n",
       "      <th>5</th>\n",
       "      <td>/home/alalbiol/Data/mamo/DDSM_png/cancers/canc...</td>\n",
       "      <td>none</td>\n",
       "      <td>0</td>\n",
       "      <td>0</td>\n",
       "      <td>0</td>\n",
       "      <td>0</td>\n",
       "      <td>cancers/cancer_03/case1002</td>\n",
       "      <td>False</td>\n",
       "    </tr>\n",
       "    <tr>\n",
       "      <th>6</th>\n",
       "      <td>/home/alalbiol/Data/mamo/DDSM_png/cancers/canc...</td>\n",
       "      <td>none</td>\n",
       "      <td>0</td>\n",
       "      <td>0</td>\n",
       "      <td>0</td>\n",
       "      <td>0</td>\n",
       "      <td>cancers/cancer_03/case1002</td>\n",
       "      <td>False</td>\n",
       "    </tr>\n",
       "  </tbody>\n",
       "</table>\n",
       "</div>"
      ],
      "text/plain": [
       "                                            filename class  x_min  y_min  \\\n",
       "0  /home/alalbiol/Data/mamo/DDSM_png/cancers/canc...   cat     34     23   \n",
       "1  /home/alalbiol/Data/mamo/DDSM_png/cancers/canc...   dog    170     60   \n",
       "2  /home/alalbiol/Data/mamo/DDSM_png/cancers/canc...  bird     50     30   \n",
       "3  /home/alalbiol/Data/mamo/DDSM_png/cancers/canc...   cat     10     50   \n",
       "4  /home/alalbiol/Data/mamo/DDSM_png/cancers/canc...   dog    120     40   \n",
       "5  /home/alalbiol/Data/mamo/DDSM_png/cancers/canc...  none      0      0   \n",
       "6  /home/alalbiol/Data/mamo/DDSM_png/cancers/canc...  none      0      0   \n",
       "\n",
       "   x_max  y_max                        case  train  \n",
       "0    150    200  cancers/cancer_03/case1052   True  \n",
       "1    290    180  cancers/cancer_03/case1052   True  \n",
       "2    100     90  cancers/cancer_03/case1052   True  \n",
       "3    100    150  cancers/cancer_03/case1052   True  \n",
       "4    200    130  cancers/cancer_03/case1002  False  \n",
       "5      0      0  cancers/cancer_03/case1002  False  \n",
       "6      0      0  cancers/cancer_03/case1002  False  "
      ]
     },
     "execution_count": 32,
     "metadata": {},
     "output_type": "execute_result"
    }
   ],
   "source": [
    "df"
   ]
  },
  {
   "cell_type": "code",
   "execution_count": 34,
   "metadata": {},
   "outputs": [],
   "source": [
    "cases = set(df.case)\n",
    "#split cases in train and test usign sklearn\n",
    "\n",
    "from sklearn.model_selection import train_test_split\n",
    "train_cases, test_cases = train_test_split(cases, test_size=0.2)\n"
   ]
  },
  {
   "cell_type": "code",
   "execution_count": 35,
   "metadata": {},
   "outputs": [
    {
     "name": "stdout",
     "output_type": "stream",
     "text": [
      "number of cases in train: 5\n"
     ]
    }
   ],
   "source": [
    "print(\"number of cases in train:\", len(train_cases))"
   ]
  },
  {
   "cell_type": "code",
   "execution_count": 27,
   "metadata": {},
   "outputs": [
    {
     "data": {
      "text/plain": [
       "True"
      ]
     },
     "execution_count": 27,
     "metadata": {},
     "output_type": "execute_result"
    }
   ],
   "source": [
    "'cancers/cancer_03/case1052' in train_cases"
   ]
  },
  {
   "cell_type": "code",
   "execution_count": 30,
   "metadata": {},
   "outputs": [],
   "source": [
    "df['train'] = df.case.apply(lambda x: x in train_cases)"
   ]
  },
  {
   "cell_type": "code",
   "execution_count": 31,
   "metadata": {},
   "outputs": [
    {
     "data": {
      "text/html": [
       "<div>\n",
       "<style scoped>\n",
       "    .dataframe tbody tr th:only-of-type {\n",
       "        vertical-align: middle;\n",
       "    }\n",
       "\n",
       "    .dataframe tbody tr th {\n",
       "        vertical-align: top;\n",
       "    }\n",
       "\n",
       "    .dataframe thead th {\n",
       "        text-align: right;\n",
       "    }\n",
       "</style>\n",
       "<table border=\"1\" class=\"dataframe\">\n",
       "  <thead>\n",
       "    <tr style=\"text-align: right;\">\n",
       "      <th></th>\n",
       "      <th>filename</th>\n",
       "      <th>class</th>\n",
       "      <th>x_min</th>\n",
       "      <th>y_min</th>\n",
       "      <th>x_max</th>\n",
       "      <th>y_max</th>\n",
       "      <th>case</th>\n",
       "      <th>train</th>\n",
       "    </tr>\n",
       "  </thead>\n",
       "  <tbody>\n",
       "    <tr>\n",
       "      <th>0</th>\n",
       "      <td>/home/alalbiol/Data/mamo/DDSM_png/cancers/canc...</td>\n",
       "      <td>cat</td>\n",
       "      <td>34</td>\n",
       "      <td>23</td>\n",
       "      <td>150</td>\n",
       "      <td>200</td>\n",
       "      <td>cancers/cancer_03/case1052</td>\n",
       "      <td>True</td>\n",
       "    </tr>\n",
       "    <tr>\n",
       "      <th>1</th>\n",
       "      <td>/home/alalbiol/Data/mamo/DDSM_png/cancers/canc...</td>\n",
       "      <td>dog</td>\n",
       "      <td>170</td>\n",
       "      <td>60</td>\n",
       "      <td>290</td>\n",
       "      <td>180</td>\n",
       "      <td>cancers/cancer_03/case1052</td>\n",
       "      <td>True</td>\n",
       "    </tr>\n",
       "    <tr>\n",
       "      <th>2</th>\n",
       "      <td>/home/alalbiol/Data/mamo/DDSM_png/cancers/canc...</td>\n",
       "      <td>bird</td>\n",
       "      <td>50</td>\n",
       "      <td>30</td>\n",
       "      <td>100</td>\n",
       "      <td>90</td>\n",
       "      <td>cancers/cancer_03/case1052</td>\n",
       "      <td>True</td>\n",
       "    </tr>\n",
       "    <tr>\n",
       "      <th>3</th>\n",
       "      <td>/home/alalbiol/Data/mamo/DDSM_png/cancers/canc...</td>\n",
       "      <td>cat</td>\n",
       "      <td>10</td>\n",
       "      <td>50</td>\n",
       "      <td>100</td>\n",
       "      <td>150</td>\n",
       "      <td>cancers/cancer_03/case1052</td>\n",
       "      <td>True</td>\n",
       "    </tr>\n",
       "    <tr>\n",
       "      <th>4</th>\n",
       "      <td>/home/alalbiol/Data/mamo/DDSM_png/cancers/canc...</td>\n",
       "      <td>dog</td>\n",
       "      <td>120</td>\n",
       "      <td>40</td>\n",
       "      <td>200</td>\n",
       "      <td>130</td>\n",
       "      <td>cancers/cancer_03/case1002</td>\n",
       "      <td>False</td>\n",
       "    </tr>\n",
       "    <tr>\n",
       "      <th>5</th>\n",
       "      <td>/home/alalbiol/Data/mamo/DDSM_png/cancers/canc...</td>\n",
       "      <td>none</td>\n",
       "      <td>0</td>\n",
       "      <td>0</td>\n",
       "      <td>0</td>\n",
       "      <td>0</td>\n",
       "      <td>cancers/cancer_03/case1002</td>\n",
       "      <td>False</td>\n",
       "    </tr>\n",
       "    <tr>\n",
       "      <th>6</th>\n",
       "      <td>/home/alalbiol/Data/mamo/DDSM_png/cancers/canc...</td>\n",
       "      <td>none</td>\n",
       "      <td>0</td>\n",
       "      <td>0</td>\n",
       "      <td>0</td>\n",
       "      <td>0</td>\n",
       "      <td>cancers/cancer_03/case1002</td>\n",
       "      <td>False</td>\n",
       "    </tr>\n",
       "  </tbody>\n",
       "</table>\n",
       "</div>"
      ],
      "text/plain": [
       "                                            filename class  x_min  y_min  \\\n",
       "0  /home/alalbiol/Data/mamo/DDSM_png/cancers/canc...   cat     34     23   \n",
       "1  /home/alalbiol/Data/mamo/DDSM_png/cancers/canc...   dog    170     60   \n",
       "2  /home/alalbiol/Data/mamo/DDSM_png/cancers/canc...  bird     50     30   \n",
       "3  /home/alalbiol/Data/mamo/DDSM_png/cancers/canc...   cat     10     50   \n",
       "4  /home/alalbiol/Data/mamo/DDSM_png/cancers/canc...   dog    120     40   \n",
       "5  /home/alalbiol/Data/mamo/DDSM_png/cancers/canc...  none      0      0   \n",
       "6  /home/alalbiol/Data/mamo/DDSM_png/cancers/canc...  none      0      0   \n",
       "\n",
       "   x_max  y_max                        case  train  \n",
       "0    150    200  cancers/cancer_03/case1052   True  \n",
       "1    290    180  cancers/cancer_03/case1052   True  \n",
       "2    100     90  cancers/cancer_03/case1052   True  \n",
       "3    100    150  cancers/cancer_03/case1052   True  \n",
       "4    200    130  cancers/cancer_03/case1002  False  \n",
       "5      0      0  cancers/cancer_03/case1002  False  \n",
       "6      0      0  cancers/cancer_03/case1002  False  "
      ]
     },
     "execution_count": 31,
     "metadata": {},
     "output_type": "execute_result"
    }
   ],
   "source": [
    "df"
   ]
  },
  {
   "cell_type": "code",
   "execution_count": 33,
   "metadata": {},
   "outputs": [
    {
     "name": "stdout",
     "output_type": "stream",
     "text": [
      "                                            filename class  x_min  y_min  \\\n",
      "0  /home/alalbiol/Data/mamo/DDSM_png/cancers/canc...   cat     34     23   \n",
      "\n",
      "   x_max  y_max                        case  train  \n",
      "0    150    200  cancers/cancer_03/case1052   True  \n"
     ]
    }
   ],
   "source": [
    "df2 = df.loc[df.filename==png_files[0]]\n",
    "print(df2)"
   ]
  },
  {
   "cell_type": "code",
   "execution_count": 42,
   "metadata": {},
   "outputs": [],
   "source": [
    "import numpy as np\n",
    "a = 1.0\n",
    "b = 2.0\n",
    "\n",
    "M = np.array([ [a+2*b, a , a+b],[a+b, a+2*b, a],[a, a+b, a +2*b ] ])"
   ]
  },
  {
   "cell_type": "code",
   "execution_count": 47,
   "metadata": {},
   "outputs": [
    {
     "name": "stdout",
     "output_type": "stream",
     "text": [
      "108.00000000000003\n",
      "108.0\n"
     ]
    }
   ],
   "source": [
    "#compute determinant\n",
    "print(np.linalg.det(M))\n",
    "print(9*b**2 * (a+b))"
   ]
  },
  {
   "cell_type": "code",
   "execution_count": 49,
   "metadata": {},
   "outputs": [
    {
     "data": {
      "text/plain": [
       "108.0"
      ]
     },
     "execution_count": 49,
     "metadata": {},
     "output_type": "execute_result"
    }
   ],
   "source": [
    "b**2 * np.linalg.det(np.array([ [2, -1, 0],[a+b, a+2*b, -2],[a, a+b, 1] ]))"
   ]
  },
  {
   "cell_type": "code",
   "execution_count": 50,
   "metadata": {},
   "outputs": [
    {
     "data": {
      "text/plain": [
       "108.0"
      ]
     },
     "execution_count": 50,
     "metadata": {},
     "output_type": "execute_result"
    }
   ],
   "source": [
    "b**2 * np.linalg.det(np.array([ [2, -1, 0],[3*a+b, 3*a+4*b, 0],[a, a+b, 1] ]))"
   ]
  },
  {
   "cell_type": "code",
   "execution_count": null,
   "metadata": {},
   "outputs": [],
   "source": []
  }
 ],
 "metadata": {
  "kernelspec": {
   "display_name": "Mammo",
   "language": "python",
   "name": "python3"
  },
  "language_info": {
   "codemirror_mode": {
    "name": "ipython",
    "version": 3
   },
   "file_extension": ".py",
   "mimetype": "text/x-python",
   "name": "python",
   "nbconvert_exporter": "python",
   "pygments_lexer": "ipython3",
   "version": "3.11.7"
  }
 },
 "nbformat": 4,
 "nbformat_minor": 2
}
