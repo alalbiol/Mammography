{
 "cells": [
  {
   "cell_type": "code",
   "execution_count": 1,
   "metadata": {},
   "outputs": [],
   "source": [
    "\n",
    "import scipy\n",
    "import pathlib\n",
    "import numpy as np\n",
    "import matplotlib.pyplot as plt\n",
    "import pandas as pd\n",
    "\n",
    "dasaset_folder = pathlib.Path('/home/alalbiol/Data/mamo/inbreast_yolo/validation/')\n"
   ]
  },
  {
   "cell_type": "code",
   "execution_count": 2,
   "metadata": {},
   "outputs": [],
   "source": [
    "def read_gt(gt_file):\n",
    "    gt = []\n",
    "    with open(gt_file, 'r') as f:\n",
    "        lines = f.readlines()\n",
    "        for line in lines:\n",
    "            items = line.split()\n",
    "            class_id = int(items[0])\n",
    "            xc = float(items[1])\n",
    "            yc = float(items[2])\n",
    "            w = float(items[3])\n",
    "            h = float(items[4])\n",
    "            gt.append([xc, yc, w, h, class_id])\n",
    "            \n",
    "    \n",
    "    return np.array(gt)\n",
    "\n",
    "def read_yolo_pred(pred_file):\n",
    "    with open(pred_file, 'r') as f:\n",
    "        lines = f.readlines()\n",
    "    preds = []\n",
    "    for line in lines:\n",
    "        line = line.strip()\n",
    "        if len(line) == 0:\n",
    "            continue\n",
    "        items = line.split()\n",
    "        xc = float(items[0])\n",
    "        yc = float(items[1])\n",
    "        w = float(items[2])\n",
    "        h = float(items[3])\n",
    "        class_id = int(float(items[4]))\n",
    "        conf = float(items[5])\n",
    "        pred = [xc, yc, w, h, class_id, conf]\n",
    "        preds.append(pred)\n",
    "        \n",
    "    \n",
    "    return np.array(preds)"
   ]
  },
  {
   "cell_type": "code",
   "execution_count": 3,
   "metadata": {},
   "outputs": [
    {
     "name": "stdout",
     "output_type": "stream",
     "text": [
      "num of gt files 410\n"
     ]
    }
   ],
   "source": [
    "all_gt = list(pathlib.Path(dasaset_folder / 'labels').glob('*.txt'))\n",
    "print(\"num of gt files\", len(list(all_gt)))"
   ]
  },
  {
   "cell_type": "code",
   "execution_count": 4,
   "metadata": {},
   "outputs": [],
   "source": [
    "files_preds = list(pathlib.Path(dasaset_folder / 'fasterrcnn_predictions').glob('*.txt'))\n",
    "files_gt = [str(f).replace('fasterrcnn_predictions', 'labels') for f in files_preds]\n",
    "\n",
    "all_preds = [read_yolo_pred(f) for f in files_preds]\n",
    "all_gt = [read_gt(f) for f in files_gt]"
   ]
  },
  {
   "cell_type": "code",
   "execution_count": 5,
   "metadata": {},
   "outputs": [],
   "source": [
    "#Sort pred_boxes based on scores in descending order\n",
    "def pred_inside_target(pred_box, target_box):\n",
    "    cx = pred_box[0]\n",
    "    cy = pred_box[1]\n",
    "    \n",
    "    xmin = target_box.xc - target_box.w/2\n",
    "    xmax = target_box.xc + target_box.w/2\n",
    "    ymin = target_box.yc - target_box.h/2\n",
    "    ymax = target_box.yc + target_box.h/2\n",
    "    \n",
    "    if (cx > xmin) and (cx < xmax) and (cy > ymin) and (cy < ymax):\n",
    "        return True\n",
    "\n",
    "    return False\n",
    "\n",
    "\n",
    "def calculate_FROC_curve(pred_boxes, target_boxes, class_id, thresholds=[0.7, 0.5, 0.3]):\n",
    "    \"\"\" pred_boxes is a list for each image,\n",
    "    each element is a list of boxes [x1, y1, x2, y2, class_id, confidence\n",
    "    \n",
    "    target_boxes is a list for each image,\n",
    "    each element is a list of boxes [x1, y1, x2, y2, class_id]\n",
    "    \n",
    "    \"\"\"\n",
    "    \n",
    "    target_num_boxes = np.zeros(len(target_boxes))\n",
    "    pred_boxes_all = []\n",
    "    \n",
    "    \n",
    "    total_num_of_predictions = 0\n",
    "    total_num_positives = 0\n",
    "    target_boxes_dict = {}\n",
    "    for num_scan, (p, t) in enumerate(zip(pred_boxes, target_boxes)):\n",
    "        if len(p) > 0:\n",
    "            p = p[p[:,4]==class_id] \n",
    "            if len(p) > 0:\n",
    "                p = np.hstack([p, np.ones((p.shape[0],1))*num_scan])\n",
    "                pred_boxes_all.append(p)\n",
    "                total_num_of_predictions += len(p)\n",
    "        # print(num_scan, \"target box\", t)\n",
    "        if len(t) > 0:\n",
    "            t = t[t[:,4]==class_id]\n",
    "            if len(t) > 0:\n",
    "                target_boxes_dict[num_scan] = pd.DataFrame(t, columns=['xc', 'yc', 'w', 'h', 'class_id'])\n",
    "                target_boxes_dict[num_scan]['target_box_id'] = [str(num_scan) + '_' + str(i) for i in range(len(t))]\n",
    "            target_num_boxes[num_scan] += len(t) # can be empty\n",
    "            total_num_positives += len(t)\n",
    "        \n",
    "    #put all pred boxes in a single list, and add a column with the image index\n",
    "    \n",
    "    \n",
    "    print(\"Num of target boxes\", total_num_positives)\n",
    "    print(\"Num of pred boxes\", total_num_of_predictions)\n",
    "    # print(\"Num target boxes per scan\", target_num_boxes)\n",
    "    # print(\"sum of target boxes\", np.sum(target_num_boxes))\n",
    "    pred_boxes = np.vstack(pred_boxes_all)\n",
    "    num_scans = len(pred_boxes)\n",
    "    \n",
    "    # print(\"Num scans\", num_scans)\n",
    "    \n",
    "    \n",
    "    # Sort pred_boxes based on scores in descending order\n",
    "    pred_boxes = pred_boxes[np.argsort(pred_boxes[:, 5])[::-1]]\n",
    "    \n",
    "    \n",
    "    # Initialize lists for true positives and false positives per scan for each threshold\n",
    "    false_positives_per_scan = []\n",
    "    sensitivity = []\n",
    "\n",
    "    \n",
    "    max_score = pred_boxes[:, -2].max()\n",
    "\n",
    "    # Loop through each threshold\n",
    "    for threshold in sorted(thresholds, reverse=False):\n",
    "        if threshold > max_score:\n",
    "            continue\n",
    "            # Keep track of assigned target boxes\n",
    "        assigned_target_boxes = list()\n",
    "\n",
    "        positives = []  # List to store true positives and false positives\n",
    "        detected_boxes = []  # List to store boxes detected above the threshold\n",
    "        false_positives_per_scan_th = np.zeros(num_scans)\n",
    "        #print(\"threshold\", threshold)\n",
    "        # Identify true positives and false positives\n",
    "        for pred_box in pred_boxes:\n",
    "            scan_index = int(pred_box[-1])\n",
    "            if pred_box[-2] >= threshold:\n",
    "                target_boxes_image = target_boxes_dict.get(scan_index,[])\n",
    "                \n",
    "                if len(target_boxes_image) == 0:\n",
    "                    positives.append(0)\n",
    "                    false_positives_per_scan_th[scan_index] += 1\n",
    "                else:                   \n",
    "                    # Check for intersection with unassigned target boxes\n",
    "                    for k, target_box in target_boxes_image.iterrows():\n",
    "                        if target_box['target_box_id'] not in assigned_target_boxes and pred_inside_target(pred_box[:4], target_box):\n",
    "                            assigned_target_boxes.append(target_box['target_box_id'])\n",
    "                            detected_boxes.append(pred_box)\n",
    "                            positives.append(1)  # True positive\n",
    "                            if len(assigned_target_boxes) > total_num_positives:\n",
    "                                print(\"Error, more than total_num_positives\")\n",
    "                        else:\n",
    "                            positives.append(0) # False positive\n",
    "                            false_positives_per_scan_th[scan_index] += 1\n",
    "\n",
    "        # Calculate mean false positives per scan\n",
    "        \n",
    "    \n",
    "        false_positives_per_scan.append(np.mean(false_positives_per_scan_th))\n",
    "        sensitivity.append(np.sum(positives)/total_num_positives)\n",
    "        \n",
    "\n",
    "    return false_positives_per_scan, sensitivity\n",
    "    \n",
    "\n"
   ]
  },
  {
   "cell_type": "code",
   "execution_count": 6,
   "metadata": {},
   "outputs": [
    {
     "name": "stdout",
     "output_type": "stream",
     "text": [
      "Num of target boxes 102\n",
      "Num of pred boxes 2047\n"
     ]
    }
   ],
   "source": [
    "fp, sens = calculate_FROC_curve(all_preds[:], all_gt[:], 1, thresholds=np.linspace(0, 1.0, 100))"
   ]
  },
  {
   "cell_type": "code",
   "execution_count": 17,
   "metadata": {},
   "outputs": [
    {
     "data": {
      "image/png": "[encoded data removed]",
      "text/plain": [
       "<Figure size 640x480 with 1 Axes>"
      ]
     },
     "metadata": {},
     "output_type": "display_data"
    }
   ],
   "source": [
    "plt.plot(fp, sens)\n",
    "\n",
    "#reapeat plot in xlog scale any y axis between 0.4 and 1\n",
    "plt.xscale('log')\n",
    "plt.xlim(0.1, 1.5)\n",
    "plt.ylim(0.4, 1)\n",
    "plt.grid(True)"
   ]
  },
  {
   "cell_type": "code",
   "execution_count": 18,
   "metadata": {},
   "outputs": [
    {
     "name": "stdout",
     "output_type": "stream",
     "text": [
      "false positives per image 0.25696140693698094 at 0.9 sensitivity\n"
     ]
    }
   ],
   "source": [
    "\n",
    "#find fp at 0.9 sensitivity\n",
    "thresholds=np.linspace(0, 1.0, 100)\n",
    "sens = np.array(sens)\n",
    "fp = np.array(fp)\n",
    "index = np.where(sens < 0.9)[0][0]\n",
    "print(\"false positives per image\",  fp[index],  \"at 0.9 sensitivity\")"
   ]
  },
  {
   "cell_type": "code",
   "execution_count": 24,
   "metadata": {},
   "outputs": [
    {
     "data": {
      "text/plain": [
       "0.09090909090909091"
      ]
     },
     "execution_count": 24,
     "metadata": {},
     "output_type": "execute_result"
    },
    {
     "data": {
      "image/png": "[encoded data removed]",
      "text/plain": [
       "<Figure size 640x480 with 1 Axes>"
      ]
     },
     "metadata": {},
     "output_type": "display_data"
    }
   ],
   "source": [
    "plt.plot(thresholds[:len(sens)], sens)\n",
    "plt.plot([0,1], [0.9,0.9], 'r--')\n",
    "thresholds[index]"
   ]
  }
 ],
 "metadata": {
  "kernelspec": {
   "display_name": "Mammo",
   "language": "python",
   "name": "python3"
  },
  "language_info": {
   "codemirror_mode": {
    "name": "ipython",
    "version": 3
   },
   "file_extension": ".py",
   "mimetype": "text/x-python",
   "name": "python",
   "nbconvert_exporter": "python",
   "pygments_lexer": "ipython3",
   "version": "3.11.7"
  }
 },
 "nbformat": 4,
 "nbformat_minor": 2
}
