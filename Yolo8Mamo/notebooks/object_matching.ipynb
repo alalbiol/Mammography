{
 "cells": [
  {
   "cell_type": "code",
   "execution_count": 14,
   "metadata": {},
   "outputs": [],
   "source": [
    "\n",
    "import scipy\n",
    "import pathlib\n",
    "import numpy as np\n",
    "import matplotlib.pyplot as plt\n",
    "import pandas as pd\n",
    "\n",
    "dasaset_folder = pathlib.Path('/home/alalbiol/Data/mamo/inbreast_yolo/validation/')\n",
    "dasaset_folder = pathlib.Path('/home/alalbiol//Data/mamo/dream_pilot_yolo/')\n",
    "\n"
   ]
  },
  {
   "cell_type": "code",
   "execution_count": 15,
   "metadata": {},
   "outputs": [],
   "source": [
    "def read_gt(gt_file):\n",
    "    gt = []\n",
    "    with open(gt_file, 'r') as f:\n",
    "        lines = f.readlines()\n",
    "        for line in lines:\n",
    "            items = line.split()\n",
    "            class_id = int(items[0])\n",
    "            xc = float(items[1])\n",
    "            yc = float(items[2])\n",
    "            w = float(items[3])\n",
    "            h = float(items[4])\n",
    "            gt.append([xc, yc, w, h, class_id])\n",
    "            \n",
    "    \n",
    "    return np.array(gt)\n",
    "\n",
    "def read_yolo_pred(pred_file):\n",
    "    with open(pred_file, 'r') as f:\n",
    "        lines = f.readlines()\n",
    "    preds = []\n",
    "    for line in lines:\n",
    "        line = line.strip()\n",
    "        if len(line) == 0:\n",
    "            continue\n",
    "        items = line.split()\n",
    "        xc = float(items[0])\n",
    "        yc = float(items[1])\n",
    "        w = float(items[2])\n",
    "        h = float(items[3])\n",
    "        class_id = int(float(items[4]))\n",
    "        conf = float(items[5])\n",
    "        pred = [xc, yc, w, h, class_id, conf]\n",
    "        preds.append(pred)\n",
    "        \n",
    "    \n",
    "    return np.array(preds)"
   ]
  },
  {
   "cell_type": "code",
   "execution_count": 18,
   "metadata": {},
   "outputs": [
    {
     "name": "stdout",
     "output_type": "stream",
     "text": [
      "num of gt files 0\n"
     ]
    }
   ],
   "source": [
    "all_gt = list(pathlib.Path(dasaset_folder / 'labels').glob('*.txt'))\n",
    "print(\"num of gt files\", len(list(all_gt)))"
   ]
  },
  {
   "cell_type": "code",
   "execution_count": 10,
   "metadata": {},
   "outputs": [
    {
     "ename": "FileNotFoundError",
     "evalue": "[Errno 2] No such file or directory: '/home/alalbiol/Data/mamo/dream_pilot_yolo/labels/570629.txt'",
     "output_type": "error",
     "traceback": [
      "\u001b[0;31m---------------------------------------------------------------------------\u001b[0m",
      "\u001b[0;31mFileNotFoundError\u001b[0m                         Traceback (most recent call last)",
      "Cell \u001b[0;32mIn[10], line 5\u001b[0m\n\u001b[1;32m      2\u001b[0m files_gt \u001b[38;5;241m=\u001b[39m [\u001b[38;5;28mstr\u001b[39m(f)\u001b[38;5;241m.\u001b[39mreplace(\u001b[38;5;124m'\u001b[39m\u001b[38;5;124mfasterrcnn_predictions\u001b[39m\u001b[38;5;124m'\u001b[39m, \u001b[38;5;124m'\u001b[39m\u001b[38;5;124mlabels\u001b[39m\u001b[38;5;124m'\u001b[39m) \u001b[38;5;28;01mfor\u001b[39;00m f \u001b[38;5;129;01min\u001b[39;00m files_preds]\n\u001b[1;32m      4\u001b[0m all_preds \u001b[38;5;241m=\u001b[39m [read_yolo_pred(f) \u001b[38;5;28;01mfor\u001b[39;00m f \u001b[38;5;129;01min\u001b[39;00m files_preds]\n\u001b[0;32m----> 5\u001b[0m all_gt \u001b[38;5;241m=\u001b[39m \u001b[43m[\u001b[49m\u001b[43mread_gt\u001b[49m\u001b[43m(\u001b[49m\u001b[43mf\u001b[49m\u001b[43m)\u001b[49m\u001b[43m \u001b[49m\u001b[38;5;28;43;01mfor\u001b[39;49;00m\u001b[43m \u001b[49m\u001b[43mf\u001b[49m\u001b[43m \u001b[49m\u001b[38;5;129;43;01min\u001b[39;49;00m\u001b[43m \u001b[49m\u001b[43mfiles_gt\u001b[49m\u001b[43m]\u001b[49m\n",
      "Cell \u001b[0;32mIn[10], line 5\u001b[0m, in \u001b[0;36m<listcomp>\u001b[0;34m(.0)\u001b[0m\n\u001b[1;32m      2\u001b[0m files_gt \u001b[38;5;241m=\u001b[39m [\u001b[38;5;28mstr\u001b[39m(f)\u001b[38;5;241m.\u001b[39mreplace(\u001b[38;5;124m'\u001b[39m\u001b[38;5;124mfasterrcnn_predictions\u001b[39m\u001b[38;5;124m'\u001b[39m, \u001b[38;5;124m'\u001b[39m\u001b[38;5;124mlabels\u001b[39m\u001b[38;5;124m'\u001b[39m) \u001b[38;5;28;01mfor\u001b[39;00m f \u001b[38;5;129;01min\u001b[39;00m files_preds]\n\u001b[1;32m      4\u001b[0m all_preds \u001b[38;5;241m=\u001b[39m [read_yolo_pred(f) \u001b[38;5;28;01mfor\u001b[39;00m f \u001b[38;5;129;01min\u001b[39;00m files_preds]\n\u001b[0;32m----> 5\u001b[0m all_gt \u001b[38;5;241m=\u001b[39m [\u001b[43mread_gt\u001b[49m\u001b[43m(\u001b[49m\u001b[43mf\u001b[49m\u001b[43m)\u001b[49m \u001b[38;5;28;01mfor\u001b[39;00m f \u001b[38;5;129;01min\u001b[39;00m files_gt]\n",
      "Cell \u001b[0;32mIn[8], line 3\u001b[0m, in \u001b[0;36mread_gt\u001b[0;34m(gt_file)\u001b[0m\n\u001b[1;32m      1\u001b[0m \u001b[38;5;28;01mdef\u001b[39;00m \u001b[38;5;21mread_gt\u001b[39m(gt_file):\n\u001b[1;32m      2\u001b[0m     gt \u001b[38;5;241m=\u001b[39m []\n\u001b[0;32m----> 3\u001b[0m     \u001b[38;5;28;01mwith\u001b[39;00m \u001b[38;5;28;43mopen\u001b[39;49m\u001b[43m(\u001b[49m\u001b[43mgt_file\u001b[49m\u001b[43m,\u001b[49m\u001b[43m \u001b[49m\u001b[38;5;124;43m'\u001b[39;49m\u001b[38;5;124;43mr\u001b[39;49m\u001b[38;5;124;43m'\u001b[39;49m\u001b[43m)\u001b[49m \u001b[38;5;28;01mas\u001b[39;00m f:\n\u001b[1;32m      4\u001b[0m         lines \u001b[38;5;241m=\u001b[39m f\u001b[38;5;241m.\u001b[39mreadlines()\n\u001b[1;32m      5\u001b[0m         \u001b[38;5;28;01mfor\u001b[39;00m line \u001b[38;5;129;01min\u001b[39;00m lines:\n",
      "File \u001b[0;32m~/miniconda3/envs/Mammo/lib/python3.11/site-packages/IPython/core/interactiveshell.py:310\u001b[0m, in \u001b[0;36m_modified_open\u001b[0;34m(file, *args, **kwargs)\u001b[0m\n\u001b[1;32m    303\u001b[0m \u001b[38;5;28;01mif\u001b[39;00m file \u001b[38;5;129;01min\u001b[39;00m {\u001b[38;5;241m0\u001b[39m, \u001b[38;5;241m1\u001b[39m, \u001b[38;5;241m2\u001b[39m}:\n\u001b[1;32m    304\u001b[0m     \u001b[38;5;28;01mraise\u001b[39;00m \u001b[38;5;167;01mValueError\u001b[39;00m(\n\u001b[1;32m    305\u001b[0m         \u001b[38;5;124mf\u001b[39m\u001b[38;5;124m\"\u001b[39m\u001b[38;5;124mIPython won\u001b[39m\u001b[38;5;124m'\u001b[39m\u001b[38;5;124mt let you open fd=\u001b[39m\u001b[38;5;132;01m{\u001b[39;00mfile\u001b[38;5;132;01m}\u001b[39;00m\u001b[38;5;124m by default \u001b[39m\u001b[38;5;124m\"\u001b[39m\n\u001b[1;32m    306\u001b[0m         \u001b[38;5;124m\"\u001b[39m\u001b[38;5;124mas it is likely to crash IPython. If you know what you are doing, \u001b[39m\u001b[38;5;124m\"\u001b[39m\n\u001b[1;32m    307\u001b[0m         \u001b[38;5;124m\"\u001b[39m\u001b[38;5;124myou can use builtins\u001b[39m\u001b[38;5;124m'\u001b[39m\u001b[38;5;124m open.\u001b[39m\u001b[38;5;124m\"\u001b[39m\n\u001b[1;32m    308\u001b[0m     )\n\u001b[0;32m--> 310\u001b[0m \u001b[38;5;28;01mreturn\u001b[39;00m \u001b[43mio_open\u001b[49m\u001b[43m(\u001b[49m\u001b[43mfile\u001b[49m\u001b[43m,\u001b[49m\u001b[43m \u001b[49m\u001b[38;5;241;43m*\u001b[39;49m\u001b[43margs\u001b[49m\u001b[43m,\u001b[49m\u001b[43m \u001b[49m\u001b[38;5;241;43m*\u001b[39;49m\u001b[38;5;241;43m*\u001b[39;49m\u001b[43mkwargs\u001b[49m\u001b[43m)\u001b[49m\n",
      "\u001b[0;31mFileNotFoundError\u001b[0m: [Errno 2] No such file or directory: '/home/alalbiol/Data/mamo/dream_pilot_yolo/labels/570629.txt'"
     ]
    }
   ],
   "source": [
    "files_preds = list(pathlib.Path(dasaset_folder / 'fasterrcnn_predictions').glob('*.txt'))\n",
    "files_gt = [str(f).replace('fasterrcnn_predictions', 'labels') for f in files_preds]\n",
    "\n",
    "all_preds = [read_yolo_pred(f) for f in files_preds]\n",
    "all_gt = [read_gt(f) for f in files_gt]"
   ]
  },
  {
   "cell_type": "code",
   "execution_count": null,
   "metadata": {},
   "outputs": [],
   "source": [
    "#Sort pred_boxes based on scores in descending order\n",
    "def pred_inside_target(pred_box, target_box):\n",
    "    cx = pred_box[0]\n",
    "    cy = pred_box[1]\n",
    "    \n",
    "    xmin = target_box.xc - target_box.w/2\n",
    "    xmax = target_box.xc + target_box.w/2\n",
    "    ymin = target_box.yc - target_box.h/2\n",
    "    ymax = target_box.yc + target_box.h/2\n",
    "    \n",
    "    if (cx > xmin) and (cx < xmax) and (cy > ymin) and (cy < ymax):\n",
    "        return True\n",
    "\n",
    "    return False\n",
    "\n",
    "\n",
    "def calculate_FROC_curve(pred_boxes, target_boxes, class_id, thresholds=[0.7, 0.5, 0.3]):\n",
    "    \"\"\" pred_boxes is a list for each image,\n",
    "    each element is a list of boxes [x1, y1, x2, y2, class_id, confidence\n",
    "    \n",
    "    target_boxes is a list for each image,\n",
    "    each element is a list of boxes [x1, y1, x2, y2, class_id]\n",
    "    \n",
    "    \"\"\"\n",
    "    \n",
    "    target_num_boxes = np.zeros(len(target_boxes))\n",
    "    pred_boxes_all = []\n",
    "    \n",
    "    \n",
    "    total_num_of_predictions = 0\n",
    "    total_num_positives = 0\n",
    "    target_boxes_dict = {}\n",
    "    for num_scan, (p, t) in enumerate(zip(pred_boxes, target_boxes)):\n",
    "        if len(p) > 0:\n",
    "            p = p[p[:,4]==class_id] \n",
    "            if len(p) > 0:\n",
    "                p = np.hstack([p, np.ones((p.shape[0],1))*num_scan])\n",
    "                pred_boxes_all.append(p)\n",
    "                total_num_of_predictions += len(p)\n",
    "        # print(num_scan, \"target box\", t)\n",
    "        if len(t) > 0:\n",
    "            t = t[t[:,4]==class_id]\n",
    "            if len(t) > 0:\n",
    "                target_boxes_dict[num_scan] = pd.DataFrame(t, columns=['xc', 'yc', 'w', 'h', 'class_id'])\n",
    "                target_boxes_dict[num_scan]['target_box_id'] = [str(num_scan) + '_' + str(i) for i in range(len(t))]\n",
    "            target_num_boxes[num_scan] += len(t) # can be empty\n",
    "            total_num_positives += len(t)\n",
    "        \n",
    "    #put all pred boxes in a single list, and add a column with the image index\n",
    "    \n",
    "    \n",
    "    print(\"Num of target boxes\", total_num_positives)\n",
    "    print(\"Num of pred boxes\", total_num_of_predictions)\n",
    "    # print(\"Num target boxes per scan\", target_num_boxes)\n",
    "    # print(\"sum of target boxes\", np.sum(target_num_boxes))\n",
    "    pred_boxes = np.vstack(pred_boxes_all)\n",
    "    num_scans = len(pred_boxes)\n",
    "    \n",
    "    # print(\"Num scans\", num_scans)\n",
    "    \n",
    "    \n",
    "    # Sort pred_boxes based on scores in descending order\n",
    "    pred_boxes = pred_boxes[np.argsort(pred_boxes[:, 5])[::-1]]\n",
    "    \n",
    "    \n",
    "    # Initialize lists for true positives and false positives per scan for each threshold\n",
    "    false_positives_per_scan = []\n",
    "    sensitivity = []\n",
    "\n",
    "    \n",
    "    max_score = pred_boxes[:, -2].max()\n",
    "\n",
    "    # Loop through each threshold\n",
    "    for threshold in sorted(thresholds, reverse=False):\n",
    "        if threshold > max_score:\n",
    "            continue\n",
    "            # Keep track of assigned target boxes\n",
    "        assigned_target_boxes = list()\n",
    "\n",
    "        positives = []  # List to store true positives and false positives\n",
    "        detected_boxes = []  # List to store boxes detected above the threshold\n",
    "        false_positives_per_scan_th = np.zeros(num_scans)\n",
    "        #print(\"threshold\", threshold)\n",
    "        # Identify true positives and false positives\n",
    "        for pred_box in pred_boxes:\n",
    "            scan_index = int(pred_box[-1])\n",
    "            if pred_box[-2] >= threshold:\n",
    "                target_boxes_image = target_boxes_dict.get(scan_index,[])\n",
    "                \n",
    "                if len(target_boxes_image) == 0:\n",
    "                    positives.append(0)\n",
    "                    false_positives_per_scan_th[scan_index] += 1\n",
    "                else:                   \n",
    "                    # Check for intersection with unassigned target boxes\n",
    "                    for k, target_box in target_boxes_image.iterrows():\n",
    "                        if target_box['target_box_id'] not in assigned_target_boxes and pred_inside_target(pred_box[:4], target_box):\n",
    "                            assigned_target_boxes.append(target_box['target_box_id'])\n",
    "                            detected_boxes.append(pred_box)\n",
    "                            positives.append(1)  # True positive\n",
    "                            if len(assigned_target_boxes) > total_num_positives:\n",
    "                                print(\"Error, more than total_num_positives\")\n",
    "                        else:\n",
    "                            positives.append(0) # False positive\n",
    "                            false_positives_per_scan_th[scan_index] += 1\n",
    "\n",
    "        # Calculate mean false positives per scan\n",
    "        \n",
    "    \n",
    "        false_positives_per_scan.append(np.mean(false_positives_per_scan_th))\n",
    "        sensitivity.append(np.sum(positives)/total_num_positives)\n",
    "        \n",
    "\n",
    "    return false_positives_per_scan, sensitivity\n",
    "    \n",
    "\n"
   ]
  },
  {
   "cell_type": "code",
   "execution_count": null,
   "metadata": {},
   "outputs": [
    {
     "name": "stdout",
     "output_type": "stream",
     "text": [
      "Num of target boxes 0\n",
      "Num of pred boxes 0\n"
     ]
    },
    {
     "ename": "ValueError",
     "evalue": "need at least one array to concatenate",
     "output_type": "error",
     "traceback": [
      "\u001b[0;31m---------------------------------------------------------------------------\u001b[0m",
      "\u001b[0;31mValueError\u001b[0m                                Traceback (most recent call last)",
      "Cell \u001b[0;32mIn[6], line 1\u001b[0m\n\u001b[0;32m----> 1\u001b[0m fp, sens \u001b[38;5;241m=\u001b[39m \u001b[43mcalculate_FROC_curve\u001b[49m\u001b[43m(\u001b[49m\u001b[43mall_preds\u001b[49m\u001b[43m[\u001b[49m\u001b[43m:\u001b[49m\u001b[43m]\u001b[49m\u001b[43m,\u001b[49m\u001b[43m \u001b[49m\u001b[43mall_gt\u001b[49m\u001b[43m[\u001b[49m\u001b[43m:\u001b[49m\u001b[43m]\u001b[49m\u001b[43m,\u001b[49m\u001b[43m \u001b[49m\u001b[38;5;241;43m1\u001b[39;49m\u001b[43m,\u001b[49m\u001b[43m \u001b[49m\u001b[43mthresholds\u001b[49m\u001b[38;5;241;43m=\u001b[39;49m\u001b[43mnp\u001b[49m\u001b[38;5;241;43m.\u001b[39;49m\u001b[43mlinspace\u001b[49m\u001b[43m(\u001b[49m\u001b[38;5;241;43m0\u001b[39;49m\u001b[43m,\u001b[49m\u001b[43m \u001b[49m\u001b[38;5;241;43m1.0\u001b[39;49m\u001b[43m,\u001b[49m\u001b[43m \u001b[49m\u001b[38;5;241;43m100\u001b[39;49m\u001b[43m)\u001b[49m\u001b[43m)\u001b[49m\n",
      "Cell \u001b[0;32mIn[5], line 56\u001b[0m, in \u001b[0;36mcalculate_FROC_curve\u001b[0;34m(pred_boxes, target_boxes, class_id, thresholds)\u001b[0m\n\u001b[1;32m     53\u001b[0m \u001b[38;5;28mprint\u001b[39m(\u001b[38;5;124m\"\u001b[39m\u001b[38;5;124mNum of pred boxes\u001b[39m\u001b[38;5;124m\"\u001b[39m, total_num_of_predictions)\n\u001b[1;32m     54\u001b[0m \u001b[38;5;66;03m# print(\"Num target boxes per scan\", target_num_boxes)\u001b[39;00m\n\u001b[1;32m     55\u001b[0m \u001b[38;5;66;03m# print(\"sum of target boxes\", np.sum(target_num_boxes))\u001b[39;00m\n\u001b[0;32m---> 56\u001b[0m pred_boxes \u001b[38;5;241m=\u001b[39m \u001b[43mnp\u001b[49m\u001b[38;5;241;43m.\u001b[39;49m\u001b[43mvstack\u001b[49m\u001b[43m(\u001b[49m\u001b[43mpred_boxes_all\u001b[49m\u001b[43m)\u001b[49m\n\u001b[1;32m     57\u001b[0m num_scans \u001b[38;5;241m=\u001b[39m \u001b[38;5;28mlen\u001b[39m(pred_boxes)\n\u001b[1;32m     59\u001b[0m \u001b[38;5;66;03m# print(\"Num scans\", num_scans)\u001b[39;00m\n\u001b[1;32m     60\u001b[0m \n\u001b[1;32m     61\u001b[0m \n\u001b[1;32m     62\u001b[0m \u001b[38;5;66;03m# Sort pred_boxes based on scores in descending order\u001b[39;00m\n",
      "File \u001b[0;32m~/miniconda3/envs/Mammo/lib/python3.11/site-packages/numpy/core/shape_base.py:289\u001b[0m, in \u001b[0;36mvstack\u001b[0;34m(tup, dtype, casting)\u001b[0m\n\u001b[1;32m    287\u001b[0m \u001b[38;5;28;01mif\u001b[39;00m \u001b[38;5;129;01mnot\u001b[39;00m \u001b[38;5;28misinstance\u001b[39m(arrs, \u001b[38;5;28mlist\u001b[39m):\n\u001b[1;32m    288\u001b[0m     arrs \u001b[38;5;241m=\u001b[39m [arrs]\n\u001b[0;32m--> 289\u001b[0m \u001b[38;5;28;01mreturn\u001b[39;00m \u001b[43m_nx\u001b[49m\u001b[38;5;241;43m.\u001b[39;49m\u001b[43mconcatenate\u001b[49m\u001b[43m(\u001b[49m\u001b[43marrs\u001b[49m\u001b[43m,\u001b[49m\u001b[43m \u001b[49m\u001b[38;5;241;43m0\u001b[39;49m\u001b[43m,\u001b[49m\u001b[43m \u001b[49m\u001b[43mdtype\u001b[49m\u001b[38;5;241;43m=\u001b[39;49m\u001b[43mdtype\u001b[49m\u001b[43m,\u001b[49m\u001b[43m \u001b[49m\u001b[43mcasting\u001b[49m\u001b[38;5;241;43m=\u001b[39;49m\u001b[43mcasting\u001b[49m\u001b[43m)\u001b[49m\n",
      "\u001b[0;31mValueError\u001b[0m: need at least one array to concatenate"
     ]
    }
   ],
   "source": [
    "fp, sens = calculate_FROC_curve(all_preds[:], all_gt[:], 1, thresholds=np.linspace(0, 1.0, 100))"
   ]
  },
  {
   "cell_type": "code",
   "execution_count": null,
   "metadata": {},
   "outputs": [
    {
     "data": {
      "image/png": "[encoded data removed]",
      "text/plain": [
       "<Figure size 640x480 with 1 Axes>"
      ]
     },
     "metadata": {},
     "output_type": "display_data"
    }
   ],
   "source": [
    "plt.plot(fp, sens)\n",
    "\n",
    "#reapeat plot in xlog scale any y axis between 0.4 and 1\n",
    "plt.xlim(0.1, 1)\n",
    "plt.ylim(0.4, 1)\n",
    "plt.plot([0,1], [0.9,0.9], 'r--')\n",
    "\n",
    "plt.xlabel('Average number of false positives per scan')\n",
    "plt.ylabel('Sensitivity')\n",
    "plt.title('FROC curve on Inbreast dataset')\n",
    "plt.grid(True)"
   ]
  },
  {
   "cell_type": "code",
   "execution_count": null,
   "metadata": {},
   "outputs": [
    {
     "name": "stdout",
     "output_type": "stream",
     "text": [
      "false positives per image 0.25696140693698094 at 0.9 sensitivity\n"
     ]
    }
   ],
   "source": [
    "\n",
    "#find fp at 0.9 sensitivity\n",
    "thresholds=np.linspace(0, 1.0, 100)\n",
    "sens = np.array(sens)\n",
    "fp = np.array(fp)\n",
    "index = np.where(sens < 0.9)[0][0]\n",
    "print(\"false positives per image\",  fp[index],  \"at 0.9 sensitivity\")"
   ]
  },
  {
   "cell_type": "code",
   "execution_count": null,
   "metadata": {},
   "outputs": [
    {
     "data": {
      "text/plain": [
       "0.09090909090909091"
      ]
     },
     "execution_count": 20,
     "metadata": {},
     "output_type": "execute_result"
    },
    {
     "data": {
      "image/png": "[encoded data removed]",
      "text/plain": [
       "<Figure size 640x480 with 1 Axes>"
      ]
     },
     "metadata": {},
     "output_type": "display_data"
    }
   ],
   "source": [
    "plt.plot(thresholds[:len(sens)], sens)\n",
    "plt.plot([0,1], [0.9,0.9], 'r--')\n",
    "thresholds[index]"
   ]
  }
 ],
 "metadata": {
  "kernelspec": {
   "display_name": "Mammo",
   "language": "python",
   "name": "python3"
  },
  "language_info": {
   "codemirror_mode": {
    "name": "ipython",
    "version": 3
   },
   "file_extension": ".py",
   "mimetype": "text/x-python",
   "name": "python",
   "nbconvert_exporter": "python",
   "pygments_lexer": "ipython3",
   "version": "3.11.7"
  }
 },
 "nbformat": 4,
 "nbformat_minor": 2
}
