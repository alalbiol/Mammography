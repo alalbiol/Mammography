{
 "cells": [
  {
   "cell_type": "code",
   "execution_count": 1,
   "metadata": {},
   "outputs": [
    {
     "name": "stdout",
     "output_type": "stream",
     "text": [
      "0.6649999999999998\n"
     ]
    }
   ],
   "source": [
    "import supervision as sv\n",
    "import numpy as np\n",
    "\n",
    "#target format xmin, ymin, xmax, ymax, class_id\n",
    "#pred format xmin, ymin, xmax, ymax, class_id, confidence\n",
    "\n",
    "targets = (\n",
    "    [\n",
    "        np.array(\n",
    "            [\n",
    "                [0.0, 0.0, 3.0, 3.0, 1],\n",
    "                [2.0, 2.0, 5.0, 5.0, 1],\n",
    "                [6.0, 1.0, 8.0, 3.0, 2],\n",
    "            ]\n",
    "        ),\n",
    "        np.array([[1.0, 1.0, 2.0, 2.0, 2]]),\n",
    "    ]\n",
    ")\n",
    "\n",
    "predictions = [\n",
    "    np.array(\n",
    "        [\n",
    "            [0.0, 0.0, 3.0, 3.0, 1, 0.9],\n",
    "            [0.1, 0.1, 3.0, 3.0, 0, 0.9],\n",
    "            [6.0, 1.0, 8.0, 3.0, 1, 0.8],\n",
    "            [1.0, 6.0, 2.0, 7.0, 1, 0.8],\n",
    "        ]\n",
    "    ),\n",
    "    np.array([[1.0, 1.0, 2.0, 2.0, 2, 0.8]])\n",
    "]\n",
    "\n",
    "mean_average_precison = sv.MeanAveragePrecision.from_tensors(\n",
    "    predictions=predictions,\n",
    "    targets=targets,\n",
    ")\n",
    "\n",
    "print(mean_average_precison.map50_95)\n",
    "# 0.6649"
   ]
  },
  {
   "cell_type": "code",
   "execution_count": 2,
   "metadata": {},
   "outputs": [
    {
     "name": "stdout",
     "output_type": "stream",
     "text": [
      "(1, 5)\n",
      "(1, 6)\n"
     ]
    }
   ],
   "source": [
    "gt = np.array([[ 0.4478   ,  0.46971   ,  0.55498   ,  0.53054    ,       0]])\n",
    "predictions =  np.array([[0.46091118, 0.45521626, 0.56722116, 0.5347265, 0.0, 0.38210317492485046]])\n",
    "\n",
    "print(gt.shape)\n",
    "print(predictions.shape)"
   ]
  },
  {
   "cell_type": "code",
   "execution_count": 3,
   "metadata": {},
   "outputs": [
    {
     "name": "stdout",
     "output_type": "stream",
     "text": [
      "MeanAveragePrecision(map50_95=0.2985, map50=0.995, map75=0.0, per_class_ap50_95=array([[0.995, 0.995, 0.995, 0.   , 0.   , 0.   , 0.   , 0.   , 0.   ,\n",
      "        0.   ]]))\n"
     ]
    }
   ],
   "source": [
    "mean_average_precison = sv.MeanAveragePrecision.from_tensors(\n",
    "    predictions=[predictions],\n",
    "    targets=[gt],\n",
    ")\n",
    "\n",
    "print(mean_average_precison)"
   ]
  },
  {
   "cell_type": "code",
   "execution_count": 40,
   "metadata": {},
   "outputs": [
    {
     "name": "stdout",
     "output_type": "stream",
     "text": [
      "0.995\n"
     ]
    }
   ],
   "source": [
    "#target format xmin, ymin, xmax, ymax, class_id\n",
    "#pred format xmin, ymin, xmax, ymax, class_id, confidence\n",
    "\n",
    "targets = (\n",
    "    [\n",
    "        np.array([[0.0, 0.0, 3.0, 3.0, 1]]),\n",
    "        np.array([[0.0, 0.0, 3.0, 3.0, 1]]),\n",
    "        np.array([]),\n",
    "    ]\n",
    ")\n",
    "\n",
    "predictions = [\n",
    "    np.array(\n",
    "        [ [0.0, 0.0, 3.0, 3.0, 1, 0.92],\n",
    "            [0.1, 0.1, 3.0, 3.0, 1, 0.9],\n",
    "            [6.0, 1.0, 8.0, 3.0, 1, 0.8],\n",
    "            [1.0, 6.0, 2.0, 7.0, 1, 0.7],\n",
    "        ]\n",
    "    ),\n",
    "    np.array(\n",
    "        [ [0.0, 0.0, 3.0, 3.0, 1, 0.92],\n",
    "            [0.1, 0.1, 3.0, 3.0, 1, 0.9],\n",
    "            [6.0, 1.0, 8.0, 3.0, 1, 0.8],\n",
    "            [1.0, 6.0, 2.0, 7.0, 1, 0.7],\n",
    "        ]\n",
    "    ),\n",
    "    np.array(\n",
    "        [ [0.0, 0.0, 3.0, 3.0, 1, 0.92],\n",
    "            [0.1, 0.1, 3.0, 3.0, 1, 1.0],\n",
    "            [6.0, 1.0, 8.0, 3.0, 1, 1.0],\n",
    "            [1.0, 6.0, 2.0, 7.0, 1, 1.0],\n",
    "        ]\n",
    "    ),\n",
    "    \n",
    "]\n",
    "\n",
    "mean_average_precison = sv.MeanAveragePrecision.from_tensors(\n",
    "    predictions=predictions,\n",
    "    targets=targets,\n",
    ")\n",
    "\n",
    "print(mean_average_precison.map50)"
   ]
  },
  {
   "cell_type": "code",
   "execution_count": null,
   "metadata": {},
   "outputs": [],
   "source": []
  }
 ],
 "metadata": {
  "kernelspec": {
   "display_name": "Mammo",
   "language": "python",
   "name": "python3"
  },
  "language_info": {
   "codemirror_mode": {
    "name": "ipython",
    "version": 3
   },
   "file_extension": ".py",
   "mimetype": "text/x-python",
   "name": "python",
   "nbconvert_exporter": "python",
   "pygments_lexer": "ipython3",
   "version": "3.11.7"
  }
 },
 "nbformat": 4,
 "nbformat_minor": 2
}
