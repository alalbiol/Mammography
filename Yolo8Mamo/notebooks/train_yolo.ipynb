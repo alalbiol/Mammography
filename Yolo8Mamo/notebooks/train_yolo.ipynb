{
 "cells": [
  {
   "cell_type": "code",
   "execution_count": 1,
   "metadata": {},
   "outputs": [],
   "source": [
    "#https://github.com/roboflow/notebooks/blob/main/notebooks/train-yolox-object-detection-on-custom-data.ipynb"
   ]
  },
  {
   "cell_type": "code",
   "execution_count": 2,
   "metadata": {},
   "outputs": [
    {
     "name": "stderr",
     "output_type": "stream",
     "text": [
      "/home/alalbiol/anaconda3/envs/Mammo/lib/python3.11/site-packages/torch/cuda/__init__.py:141: UserWarning: CUDA initialization: Unexpected error from cudaGetDeviceCount(). Did you run some cuda functions before calling NumCudaDevices() that might have already set an error? Error 804: forward compatibility was attempted on non supported HW (Triggered internally at /opt/conda/conda-bld/pytorch_1704987288773/work/c10/cuda/CUDAFunctions.cpp:108.)\n",
      "  return torch._C._cuda_getDeviceCount() > 0\n"
     ]
    },
    {
     "name": "stdout",
     "output_type": "stream",
     "text": [
      "Ultralytics YOLOv8.1.9 🚀 Python-3.11.7 torch-2.2.0 CPU (Intel Core(TM) i7-9700K 3.60GHz)\n",
      "Setup complete ✅ (8 CPUs, 62.7 GB RAM, 308.8/915.3 GB disk)\n"
     ]
    }
   ],
   "source": [
    "import ultralytics\n",
    "ultralytics.checks()"
   ]
  },
  {
   "cell_type": "code",
   "execution_count": 3,
   "metadata": {},
   "outputs": [],
   "source": [
    "from ultralytics import YOLO"
   ]
  },
  {
   "cell_type": "code",
   "execution_count": null,
   "metadata": {},
   "outputs": [],
   "source": [
    "%cd {HOME}\n",
    "\n",
    "\n",
    "rect\tFalse\trectangular training with each batch collated for minimum padding\n",
    "!yolo task=detect mode=train model=yolov8s.pt data={dataset.location}/data.yaml epochs=25 imgsz=800 plots=True"
   ]
  },
  {
   "cell_type": "code",
   "execution_count": null,
   "metadata": {},
   "outputs": [],
   "source": [
    "#yam for datasets\n",
    "#https://github.com/deepakat002/yolov8/blob/main/yolov8_custom_training.ipynb\n",
    "\n",
    "# Train/val/test sets as \n",
    "## 1) dir: path/to/imgs, 2) file: path/to/imgs.txt, or 3) list: [path/to/imgs1, path/to/imgs2, ..]\n",
    "\n",
    "\n",
    "#path: ../datasets/coco128  # dataset root dir\n",
    "train: /content/yolo_data/images/train  # train images (relative to 'path') 128 images\n",
    "val: /content/yolo_data/images/val # val images (relative to 'path') 128 images\n",
    "# test:  # test images (optional)\n",
    "\n",
    "# Classes\n",
    "nc: 2  # number of classes\n",
    "names: ['player','football']  # class names\n",
    "\n",
    "\n"
   ]
  },
  {
   "cell_type": "code",
   "execution_count": null,
   "metadata": {},
   "outputs": [],
   "source": [
    "este esta muy bien\n",
    "https://docs.ultralytics.com/yolov5/tutorials/train_custom_data/#13-prepare-dataset-for-yolov5\n",
    "\n",
    "\n",
    "este parece bueno\n",
    "https://viso.ai/deep-learning/yolov8-guide/"
   ]
  }
 ],
 "metadata": {
  "kernelspec": {
   "display_name": "Mammo",
   "language": "python",
   "name": "python3"
  },
  "language_info": {
   "codemirror_mode": {
    "name": "ipython",
    "version": 3
   },
   "file_extension": ".py",
   "mimetype": "text/x-python",
   "name": "python",
   "nbconvert_exporter": "python",
   "pygments_lexer": "ipython3",
   "version": "3.11.7"
  }
 },
 "nbformat": 4,
 "nbformat_minor": 2
}
