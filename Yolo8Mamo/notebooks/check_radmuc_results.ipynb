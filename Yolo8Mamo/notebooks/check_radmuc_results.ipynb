{
 "cells": [
  {
   "cell_type": "code",
   "execution_count": 155,
   "metadata": {},
   "outputs": [],
   "source": [
    "import pandas as pd\n",
    "import numpy as np\n",
    "import matplotlib.pyplot as plt"
   ]
  },
  {
   "cell_type": "code",
   "execution_count": 115,
   "metadata": {},
   "outputs": [
    {
     "name": "stdout",
     "output_type": "stream",
     "text": [
      "   subjectId  examIndex laterality accessionNumber      date  confidence\n",
      "0    1009356          1          L         1680192  20240201    0.072196\n",
      "1    1009356          1          R         1680192  20240201    0.038174\n",
      "2    1009973          1          L         1678636  20240131    0.244670\n",
      "3    1009973          1          R         1678636  20240131    0.069748\n",
      "4    1010144          1          L         1682791  20240207    0.182365\n",
      "          subjectId    examIndex          date   confidence\n",
      "count  1.527000e+03  1527.000000  1.527000e+03  1527.000000\n",
      "mean   1.235937e+06     1.000655  2.023631e+07     0.257637\n",
      "std    5.862242e+05     0.025591  4.425190e+03     0.184766\n",
      "min    2.165000e+03     1.000000  2.023113e+07     0.005359\n",
      "25%    1.043023e+06     1.000000  2.023121e+07     0.113294\n",
      "50%    1.424928e+06     1.000000  2.024011e+07     0.221134\n",
      "75%    1.750848e+06     1.000000  2.024012e+07     0.356816\n",
      "max    1.791282e+06     2.000000  2.024021e+07     0.999108\n"
     ]
    },
    {
     "data": {
      "text/html": [
       "<div>\n",
       "<style scoped>\n",
       "    .dataframe tbody tr th:only-of-type {\n",
       "        vertical-align: middle;\n",
       "    }\n",
       "\n",
       "    .dataframe tbody tr th {\n",
       "        vertical-align: top;\n",
       "    }\n",
       "\n",
       "    .dataframe thead th {\n",
       "        text-align: right;\n",
       "    }\n",
       "</style>\n",
       "<table border=\"1\" class=\"dataframe\">\n",
       "  <thead>\n",
       "    <tr style=\"text-align: right;\">\n",
       "      <th></th>\n",
       "      <th>PatientID</th>\n",
       "      <th>AccessionNumber</th>\n",
       "      <th>Birads</th>\n",
       "    </tr>\n",
       "  </thead>\n",
       "  <tbody>\n",
       "    <tr>\n",
       "      <th>0</th>\n",
       "      <td>1652004</td>\n",
       "      <td>1645002</td>\n",
       "      <td>2</td>\n",
       "    </tr>\n",
       "    <tr>\n",
       "      <th>1</th>\n",
       "      <td>1652004</td>\n",
       "      <td>1645002</td>\n",
       "      <td>2</td>\n",
       "    </tr>\n",
       "    <tr>\n",
       "      <th>2</th>\n",
       "      <td>1652004</td>\n",
       "      <td>1645002</td>\n",
       "      <td>2</td>\n",
       "    </tr>\n",
       "    <tr>\n",
       "      <th>3</th>\n",
       "      <td>1652004</td>\n",
       "      <td>1645002</td>\n",
       "      <td>2</td>\n",
       "    </tr>\n",
       "    <tr>\n",
       "      <th>4</th>\n",
       "      <td>269094</td>\n",
       "      <td>1645223</td>\n",
       "      <td>2</td>\n",
       "    </tr>\n",
       "  </tbody>\n",
       "</table>\n",
       "</div>"
      ],
      "text/plain": [
       "  PatientID AccessionNumber  Birads\n",
       "0   1652004         1645002       2\n",
       "1   1652004         1645002       2\n",
       "2   1652004         1645002       2\n",
       "3   1652004         1645002       2\n",
       "4    269094         1645223       2"
      ]
     },
     "execution_count": 115,
     "metadata": {},
     "output_type": "execute_result"
    }
   ],
   "source": [
    "predictions = pd.read_csv('/home/alalbiol/tmp/alfonso/predictions.tsv', sep='\\t',\n",
    "                          dtype={'accessionNumber': str, 'condifence': float})\n",
    "print(predictions.head())\n",
    "print(predictions.describe())\n",
    "\n",
    "birads = pd.read_csv('/home/alalbiol/tmp/alfonso/ai_mg_birad.csv', sep=',', \n",
    "                      usecols=[0,1,3], dtype={1: str, 0: str})\n",
    "cols = [c.strip()  for c in birads.columns]\n",
    "birads.columns = cols\n",
    "\n",
    "\n",
    "birads.head()\n",
    "\n"
   ]
  },
  {
   "cell_type": "code",
   "execution_count": 118,
   "metadata": {},
   "outputs": [
    {
     "name": "stdout",
     "output_type": "stream",
     "text": [
      "Series([], Name: Birads, dtype: int64)\n"
     ]
    }
   ],
   "source": [
    "grouped_birads = birads.groupby('AccessionNumber')['Birads'].nunique()\n",
    "print(grouped_birads[grouped_birads > 1])\n",
    "\n",
    "birads = birads.groupby('AccessionNumber')['Birads'].mean()\n",
    "\n",
    "#todos los accesion number tienen el mismo birads!\n"
   ]
  },
  {
   "cell_type": "code",
   "execution_count": 125,
   "metadata": {},
   "outputs": [],
   "source": [
    "predictions['birads'] = predictions['accessionNumber'].apply(lambda X: birads[X] if X in birads else None)"
   ]
  },
  {
   "cell_type": "code",
   "execution_count": 126,
   "metadata": {},
   "outputs": [
    {
     "data": {
      "text/plain": [
       "0       2.0\n",
       "1       2.0\n",
       "2       3.0\n",
       "3       3.0\n",
       "4       4.0\n",
       "       ... \n",
       "1522    2.0\n",
       "1523    2.0\n",
       "1524    2.0\n",
       "1525    2.0\n",
       "1526    2.0\n",
       "Name: birads, Length: 1527, dtype: float64"
      ]
     },
     "execution_count": 126,
     "metadata": {},
     "output_type": "execute_result"
    }
   ],
   "source": [
    "predictions['birads']"
   ]
  },
  {
   "cell_type": "code",
   "execution_count": 122,
   "metadata": {},
   "outputs": [
    {
     "data": {
      "text/plain": [
       "785"
      ]
     },
     "execution_count": 122,
     "metadata": {},
     "output_type": "execute_result"
    }
   ],
   "source": [
    "len(birads)"
   ]
  },
  {
   "cell_type": "code",
   "execution_count": 124,
   "metadata": {},
   "outputs": [
    {
     "data": {
      "text/plain": [
       "786"
      ]
     },
     "execution_count": 124,
     "metadata": {},
     "output_type": "execute_result"
    }
   ],
   "source": [
    "len(predictions.accessionNumber.unique())"
   ]
  },
  {
   "cell_type": "code",
   "execution_count": 129,
   "metadata": {},
   "outputs": [
    {
     "name": "stdout",
     "output_type": "stream",
     "text": [
      "Birads 1.0:  226\n",
      "Birads 2.0:  953\n",
      "Birads 3.0:  141\n",
      "Birads 4.0:  87\n"
     ]
    }
   ],
   "source": [
    "print(\"Birads 1.0: \", len(predictions.loc[predictions['birads'] == 1.0]))\n",
    "print(\"Birads 2.0: \", len(predictions.loc[predictions['birads'] == 2.0]))\n",
    "print(\"Birads 3.0: \", len(predictions.loc[predictions['birads'] == 3.0]))\n",
    "print(\"Birads 4.0: \", len(predictions.loc[predictions['birads'] == 4.0]))\n",
    "\n"
   ]
  },
  {
   "cell_type": "code",
   "execution_count": 136,
   "metadata": {},
   "outputs": [
    {
     "data": {
      "text/plain": [
       "<Axes: >"
      ]
     },
     "execution_count": 136,
     "metadata": {},
     "output_type": "execute_result"
    },
    {
     "data": {
      "image/png": "[encoded data removed]",
      "text/plain": [
       "<Figure size 640x480 with 1 Axes>"
      ]
     },
     "metadata": {},
     "output_type": "display_data"
    }
   ],
   "source": [
    "predictions.loc[predictions['birads']==2.0].confidence.hist(bins=20)"
   ]
  },
  {
   "cell_type": "code",
   "execution_count": 137,
   "metadata": {},
   "outputs": [
    {
     "data": {
      "text/plain": [
       "<Axes: >"
      ]
     },
     "execution_count": 137,
     "metadata": {},
     "output_type": "execute_result"
    },
    {
     "data": {
      "image/png": "[encoded data removed]",
      "text/plain": [
       "<Figure size 640x480 with 1 Axes>"
      ]
     },
     "metadata": {},
     "output_type": "display_data"
    }
   ],
   "source": [
    "predictions.loc[predictions['birads']==4.0].confidence.hist(bins=20)"
   ]
  },
  {
   "cell_type": "code",
   "execution_count": 139,
   "metadata": {},
   "outputs": [
    {
     "name": "stdout",
     "output_type": "stream",
     "text": [
      "media birads2  0.2516749113240294\n",
      "media birads4  0.3700112302528736\n"
     ]
    }
   ],
   "source": [
    "print(\"media birads2 \", predictions.loc[predictions['birads']==2.0].confidence.mean())\n",
    "print(\"media birads4 \", predictions.loc[predictions['birads']==4.0].confidence.mean())\n"
   ]
  },
  {
   "cell_type": "code",
   "execution_count": 143,
   "metadata": {},
   "outputs": [
    {
     "name": "stdout",
     "output_type": "stream",
     "text": [
      "number of preciction > 0.7 =  149 / 1527\n"
     ]
    }
   ],
   "source": [
    "print(\"number of preciction > 0.7 = \", len(predictions.loc[predictions['confidence'] > 0.5]),\"/\", len(predictions))"
   ]
  },
  {
   "cell_type": "code",
   "execution_count": 147,
   "metadata": {},
   "outputs": [],
   "source": [
    "predictions_patient = predictions.groupby('accessionNumber').agg({'confidence': 'mean', 'birads': 'max'})"
   ]
  },
  {
   "cell_type": "code",
   "execution_count": 157,
   "metadata": {},
   "outputs": [
    {
     "data": {
      "text/plain": [
       "Text(0.5, 0, 'Confidence')"
      ]
     },
     "execution_count": 157,
     "metadata": {},
     "output_type": "execute_result"
    },
    {
     "data": {
      "image/png": "[encoded data removed]",
      "text/plain": [
       "<Figure size 640x480 with 1 Axes>"
      ]
     },
     "metadata": {},
     "output_type": "display_data"
    }
   ],
   "source": [
    "predictions_patient.loc[predictions_patient['birads']==2.0].confidence.hist(bins=np.arange(0,1,0.05))\n",
    "plt.xlim(0,1)\n",
    "plt.title('Birads 2.0')\n",
    "plt.ylabel('Number of patients')\n",
    "plt.xlabel('Confidence')"
   ]
  },
  {
   "cell_type": "code",
   "execution_count": 159,
   "metadata": {},
   "outputs": [
    {
     "data": {
      "text/plain": [
       "Text(0.5, 0, 'Confidence')"
      ]
     },
     "execution_count": 159,
     "metadata": {},
     "output_type": "execute_result"
    },
    {
     "data": {
      "image/png": "[encoded data removed]",
      "text/plain": [
       "<Figure size 640x480 with 1 Axes>"
      ]
     },
     "metadata": {},
     "output_type": "display_data"
    }
   ],
   "source": [
    "predictions_patient.loc[predictions_patient['birads']==4.0].confidence.hist(bins=np.arange(0,1,0.05))\n",
    "plt.xlim(0,1)\n",
    "plt.title('Birads 4.0')\n",
    "plt.ylabel('Number of patients')\n",
    "plt.xlabel('Confidence')"
   ]
  },
  {
   "cell_type": "code",
   "execution_count": null,
   "metadata": {},
   "outputs": [],
   "source": []
  },
  {
   "cell_type": "code",
   "execution_count": null,
   "metadata": {},
   "outputs": [],
   "source": []
  },
  {
   "cell_type": "code",
   "execution_count": 166,
   "metadata": {},
   "outputs": [
    {
     "data": {
      "text/plain": [
       "0.3656716417910448"
      ]
     },
     "execution_count": 166,
     "metadata": {},
     "output_type": "execute_result"
    }
   ],
   "source": [
    "196/536"
   ]
  },
  {
   "cell_type": "code",
   "execution_count": 164,
   "metadata": {},
   "outputs": [
    {
     "data": {
      "text/plain": [
       "536"
      ]
     },
     "execution_count": 164,
     "metadata": {},
     "output_type": "execute_result"
    }
   ],
   "source": [
    "491+45"
   ]
  },
  {
   "cell_type": "code",
   "execution_count": 162,
   "metadata": {},
   "outputs": [
    {
     "name": "stdout",
     "output_type": "stream",
     "text": [
      "num of patients:  786\n",
      "num of patients with birads 2.0:  491\n",
      "num of patients with birads 4.0:  45\n",
      "num of patients with birads 4.0:  1\n"
     ]
    }
   ],
   "source": [
    "print(\"num of patients with birads 2.0: \", len(predictions_patient.loc[predictions_patient['birads']==2.0]))\n",
    "print(\"num of patients with birads 4.0: \", len(predictions_patient.loc[predictions_patient['birads']==4.0]))\n",
    "print(\"num of patients with birads 4.0: \", len(predictions_patient.loc[predictions_patient['birads'].isnull()]))\n"
   ]
  },
  {
   "cell_type": "code",
   "execution_count": 165,
   "metadata": {},
   "outputs": [
    {
     "name": "stdout",
     "output_type": "stream",
     "text": [
      "num of patients with birads 2.0 y confidence<0.2:  196\n",
      "num of patients with birads 4.0 y confidence<0.2:  5\n"
     ]
    }
   ],
   "source": [
    "print(\"num of patients with birads 2.0 y confidence<0.2: \", len(predictions_patient.loc[(predictions_patient['birads']==2.0) & (predictions_patient['confidence'] < 0.2)]))\n",
    "print(\"num of patients with birads 4.0 y confidence<0.2: \", len(predictions_patient.loc[(predictions_patient['birads']==4.0) & (predictions_patient['confidence'] < 0.2)]))\n"
   ]
  },
  {
   "cell_type": "code",
   "execution_count": 167,
   "metadata": {},
   "outputs": [
    {
     "data": {
      "text/html": [
       "<div>\n",
       "<style scoped>\n",
       "    .dataframe tbody tr th:only-of-type {\n",
       "        vertical-align: middle;\n",
       "    }\n",
       "\n",
       "    .dataframe tbody tr th {\n",
       "        vertical-align: top;\n",
       "    }\n",
       "\n",
       "    .dataframe thead th {\n",
       "        text-align: right;\n",
       "    }\n",
       "</style>\n",
       "<table border=\"1\" class=\"dataframe\">\n",
       "  <thead>\n",
       "    <tr style=\"text-align: right;\">\n",
       "      <th></th>\n",
       "      <th>confidence</th>\n",
       "      <th>birads</th>\n",
       "    </tr>\n",
       "    <tr>\n",
       "      <th>accessionNumber</th>\n",
       "      <th></th>\n",
       "      <th></th>\n",
       "    </tr>\n",
       "  </thead>\n",
       "  <tbody>\n",
       "    <tr>\n",
       "      <th>1655176</th>\n",
       "      <td>0.184840</td>\n",
       "      <td>4.0</td>\n",
       "    </tr>\n",
       "    <tr>\n",
       "      <th>1656944</th>\n",
       "      <td>0.053334</td>\n",
       "      <td>4.0</td>\n",
       "    </tr>\n",
       "    <tr>\n",
       "      <th>1669024</th>\n",
       "      <td>0.115920</td>\n",
       "      <td>4.0</td>\n",
       "    </tr>\n",
       "    <tr>\n",
       "      <th>1679681</th>\n",
       "      <td>0.181506</td>\n",
       "      <td>4.0</td>\n",
       "    </tr>\n",
       "    <tr>\n",
       "      <th>1681776</th>\n",
       "      <td>0.154987</td>\n",
       "      <td>4.0</td>\n",
       "    </tr>\n",
       "  </tbody>\n",
       "</table>\n",
       "</div>"
      ],
      "text/plain": [
       "                 confidence  birads\n",
       "accessionNumber                    \n",
       "1655176            0.184840     4.0\n",
       "1656944            0.053334     4.0\n",
       "1669024            0.115920     4.0\n",
       "1679681            0.181506     4.0\n",
       "1681776            0.154987     4.0"
      ]
     },
     "execution_count": 167,
     "metadata": {},
     "output_type": "execute_result"
    }
   ],
   "source": [
    "predictions_patient.loc[(predictions_patient['birads']==4.0) & (predictions_patient['confidence'] < 0.2)]"
   ]
  },
  {
   "cell_type": "code",
   "execution_count": 171,
   "metadata": {},
   "outputs": [
    {
     "data": {
      "text/html": [
       "<div>\n",
       "<style scoped>\n",
       "    .dataframe tbody tr th:only-of-type {\n",
       "        vertical-align: middle;\n",
       "    }\n",
       "\n",
       "    .dataframe tbody tr th {\n",
       "        vertical-align: top;\n",
       "    }\n",
       "\n",
       "    .dataframe thead th {\n",
       "        text-align: right;\n",
       "    }\n",
       "</style>\n",
       "<table border=\"1\" class=\"dataframe\">\n",
       "  <thead>\n",
       "    <tr style=\"text-align: right;\">\n",
       "      <th></th>\n",
       "      <th>confidence</th>\n",
       "      <th>birads</th>\n",
       "    </tr>\n",
       "    <tr>\n",
       "      <th>accessionNumber</th>\n",
       "      <th></th>\n",
       "      <th></th>\n",
       "    </tr>\n",
       "  </thead>\n",
       "  <tbody>\n",
       "    <tr>\n",
       "      <th>1646388</th>\n",
       "      <td>0.712268</td>\n",
       "      <td>2.0</td>\n",
       "    </tr>\n",
       "    <tr>\n",
       "      <th>1651280</th>\n",
       "      <td>0.732072</td>\n",
       "      <td>2.0</td>\n",
       "    </tr>\n",
       "    <tr>\n",
       "      <th>1653312</th>\n",
       "      <td>0.781635</td>\n",
       "      <td>2.0</td>\n",
       "    </tr>\n",
       "    <tr>\n",
       "      <th>1654793</th>\n",
       "      <td>0.709396</td>\n",
       "      <td>2.0</td>\n",
       "    </tr>\n",
       "    <tr>\n",
       "      <th>1658055</th>\n",
       "      <td>0.705214</td>\n",
       "      <td>2.0</td>\n",
       "    </tr>\n",
       "    <tr>\n",
       "      <th>1665073</th>\n",
       "      <td>0.863212</td>\n",
       "      <td>2.0</td>\n",
       "    </tr>\n",
       "  </tbody>\n",
       "</table>\n",
       "</div>"
      ],
      "text/plain": [
       "                 confidence  birads\n",
       "accessionNumber                    \n",
       "1646388            0.712268     2.0\n",
       "1651280            0.732072     2.0\n",
       "1653312            0.781635     2.0\n",
       "1654793            0.709396     2.0\n",
       "1658055            0.705214     2.0\n",
       "1665073            0.863212     2.0"
      ]
     },
     "execution_count": 171,
     "metadata": {},
     "output_type": "execute_result"
    }
   ],
   "source": [
    "predictions_patient.loc[(predictions_patient['birads']==2.0) & (predictions_patient['confidence'] > 0.7)]"
   ]
  },
  {
   "cell_type": "code",
   "execution_count": null,
   "metadata": {},
   "outputs": [],
   "source": []
  }
 ],
 "metadata": {
  "kernelspec": {
   "display_name": "Mammo",
   "language": "python",
   "name": "python3"
  },
  "language_info": {
   "codemirror_mode": {
    "name": "ipython",
    "version": 3
   },
   "file_extension": ".py",
   "mimetype": "text/x-python",
   "name": "python",
   "nbconvert_exporter": "python",
   "pygments_lexer": "ipython3",
   "version": "undefined.undefined.undefined"
  }
 },
 "nbformat": 4,
 "nbformat_minor": 2
}
