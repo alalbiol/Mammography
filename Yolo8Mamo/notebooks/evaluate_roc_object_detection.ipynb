{
 "cells": [
  {
   "cell_type": "code",
   "execution_count": 1,
   "metadata": {},
   "outputs": [],
   "source": [
    "\n",
    "import scipy\n",
    "import pathlib\n",
    "import numpy as np\n",
    "import matplotlib.pyplot as plt\n",
    "import pandas as pd\n",
    "from sklearn.metrics import roc_auc_score, roc_curve, auc\n",
    "\n"
   ]
  },
  {
   "cell_type": "code",
   "execution_count": 22,
   "metadata": {},
   "outputs": [],
   "source": [
    "def read_gt(gt_file):\n",
    "    gt = []\n",
    "    with open(gt_file, 'r') as f:\n",
    "        lines = f.readlines()\n",
    "        for line in lines:\n",
    "            items = line.split()\n",
    "            class_id = int(items[0])\n",
    "            xc = float(items[1])\n",
    "            yc = float(items[2])\n",
    "            w = float(items[3])\n",
    "            h = float(items[4])\n",
    "            gt.append([xc, yc, w, h, class_id])\n",
    "            \n",
    "    \n",
    "    return np.array(gt)\n",
    "\n",
    "def read_yolo_pred(pred_file):\n",
    "    \n",
    "    if not pathlib.Path(pred_file).exists():\n",
    "        raise FileNotFoundError(f'File {pred_file} does not exist')\n",
    "    with open(pred_file, 'r') as f:\n",
    "        lines = f.readlines()\n",
    "        \n",
    "        \n",
    "    preds = []\n",
    "    for line in lines:\n",
    "        line = line.strip()\n",
    "        if len(line) == 0:\n",
    "            continue\n",
    "        items = line.split()\n",
    "        xc = float(items[1])\n",
    "        yc = float(items[2])\n",
    "        w = float(items[3])\n",
    "        h = float(items[4])\n",
    "        class_id = int(float(items[0]))\n",
    "        conf = float(items[5])\n",
    "        pred = [xc, yc, w, h, class_id, conf]\n",
    "        preds.append(pred)\n",
    "        \n",
    "    \n",
    "    return np.array(preds)"
   ]
  },
  {
   "cell_type": "code",
   "execution_count": 23,
   "metadata": {},
   "outputs": [],
   "source": [
    "def get_cancer_label(filename):\n",
    "    anots = read_gt(filename)\n",
    "    if len(anots) == 0:\n",
    "        return 0\n",
    "    return int(anots[:, -1].max())\n",
    "\n",
    "\n",
    "def get_score(filename):\n",
    "    preds = read_yolo_pred(filename)\n",
    "    if len(preds) == 0:\n",
    "        return 0.0\n",
    "    preds = preds[preds[:, -2] ==1]\n",
    "    if len(preds) == 0:\n",
    "        return 0.0\n",
    "    \n",
    "    return preds[:, -1].max()\n",
    "    \n",
    "\n",
    "\n",
    "    \n"
   ]
  },
  {
   "cell_type": "code",
   "execution_count": 33,
   "metadata": {},
   "outputs": [],
   "source": [
    "def get_inbreast_df(dataset_folder, model_name):\n",
    "    all_gt = list((dataset_folder/'labels').glob('*.txt'))\n",
    "    all_preds = [pathlib.Path(str(p).replace('labels', model_name)) for p in all_gt]\n",
    "    print(\"num of pred files\", len(list(all_preds)))\n",
    "    \n",
    "    df = pd.DataFrame({'gt': all_gt, 'pred': all_preds})\n",
    "    df['cancer'] = df['gt'].apply(get_cancer_label)\n",
    "    df['score'] = df['pred'].apply(get_score)\n",
    "    df['id'] = df['gt'].apply(lambda x: x.stem.split('_')[1])\n",
    "    df['laterality'] = df['gt'].apply(lambda x: x.stem.split('_')[-3])\n",
    "    df['view'] = df['gt'].apply(lambda x: x.stem.split('_')[-2])\n",
    "    return df\n",
    "    \n",
    "def get_ddsm_df(dataset_folder, model_name):\n",
    "    all_gt = list((dataset_folder/'labels').glob('*.txt'))\n",
    "    all_preds = [pathlib.Path(str(p).replace('labels', model_name)) for p in all_gt]\n",
    "    print(\"num of pred files\", len(list(all_preds)))\n",
    "    df = pd.DataFrame({'gt': all_gt, 'pred': all_preds})\n",
    "    df['cancer'] = df['gt'].apply(get_cancer_label)\n",
    "    df['score'] = df['pred'].apply(get_score)\n",
    "    df['id'] = df['gt'].apply(lambda x: x.stem.split('.')[0])\n",
    "    df['laterality'] = df['gt'].apply(lambda x: x.stem.split('.')[1].split('_')[0][0])\n",
    "    df['view'] = df['gt'].apply(lambda x: x.stem.split('.')[1].split('_')[1])\n",
    "    return df\n",
    "\n",
    "\n",
    "def calculate_AUC(df):\n",
    " \n",
    "    print(\"num cases\", len(df))\n",
    "    #plot ROC curve\n",
    "    fpr, tpr, thresholds = roc_curve(df['cancer'], df['score'])\n",
    "    sensibility = tpr\n",
    "    specificity = 1-fpr\n",
    "    \n",
    "    plt.plot(specificity, sensibility)\n",
    "    plt.xlabel('Specificity')\n",
    "    plt.ylabel('Sensibility')\n",
    "    \n",
    "    #find specificity at 90% sensibility\n",
    "    sensibility_90 = 0.9\n",
    "    idx = np.argmin(np.abs(sensibility - sensibility_90))\n",
    "    spec_90 = specificity[idx]\n",
    "    print(\"Specificity at 90% sensibility\", spec_90)\n",
    "\n",
    "    #compute AUC for cancer\n",
    "    return roc_auc_score(df['cancer'], df['score'])\n"
   ]
  },
  {
   "cell_type": "code",
   "execution_count": 34,
   "metadata": {},
   "outputs": [
    {
     "name": "stdout",
     "output_type": "stream",
     "text": [
      "num of pred files 410\n",
      "                 id laterality  cancer  score\n",
      "0  1f139436acfc5467          L       0    0.0\n",
      "1  f62fbf38fb208316          L       1    0.0\n",
      "2  80123a24997098dc          R       0    0.0\n",
      "3  8c105bb715bf1c3c          L       0    0.0\n",
      "4  dcafa6ba6374ec07          L       1    0.0\n",
      "nuber of scores 25\n",
      "max score 0.8741791844367981\n",
      "num cases 410\n",
      "Specificity at 90% sensibility 0.0\n",
      "AUC per image 0.5827995379607267\n",
      "Number of cancer images 89\n"
     ]
    },
    {
     "data": {
      "image/png": "[encoded data removed]",
      "text/plain": [
       "<Figure size 640x480 with 1 Axes>"
      ]
     },
     "metadata": {},
     "output_type": "display_data"
    }
   ],
   "source": [
    "dataset_folder = pathlib.Path('/home/alalbiol/Data/mamo/inbreast_yolo/validation/')\n",
    "model_name = '23-yolov8n-patch_640'\n",
    "model_name = '22-continue21-yolov8n-patch_640'\n",
    "\n",
    "df = get_inbreast_df(dataset_folder, model_name)\n",
    "print(df[['id', 'laterality','cancer', 'score']].head())\n",
    "print(\"nuber of scores\", (df.score > 0).sum())\n",
    "\n",
    "print(\"max score\", df['score'].max())\n",
    "\n",
    "AUC_per_image = calculate_AUC(df)\n",
    "print(\"AUC per image\", AUC_per_image)\n",
    "print(\"Number of cancer images\", df['cancer'].sum())\n",
    "\n",
    "# df2 = df.groupby(['id', 'laterality']).agg({'cancer': 'max', 'score': 'mean'}).reset_index()\n",
    "# print(df2.head())\n",
    "# AUC_per_breast = calculate_AUC(df2)\n",
    "# print(\"AUC per breast\", AUC_per_breast)\n"
   ]
  },
  {
   "cell_type": "code",
   "execution_count": 36,
   "metadata": {},
   "outputs": [
    {
     "name": "stdout",
     "output_type": "stream",
     "text": [
      "num of pred files 8308\n",
      "num cases 8308\n",
      "Specificity at 90% sensibility 0.0\n",
      "AUC per image 0.5159096995151652\n",
      "num cases 4154\n",
      "Specificity at 90% sensibility 0.0\n",
      "AUC per breast 0.5224878399552849\n"
     ]
    },
    {
     "data": {
      "image/png": "[encoded data removed]",
      "text/plain": [
       "<Figure size 640x480 with 1 Axes>"
      ]
     },
     "metadata": {},
     "output_type": "display_data"
    }
   ],
   "source": [
    "dataset_folder = pathlib.Path('/home/alalbiol/Data/mamo/ddsm_yolo/training/')\n",
    "model_name = '23-yolov8n-patch_640'\n",
    "model_name = '22-continue21-yolov8n-patch_640'\n",
    "\n",
    "\n",
    "\n",
    "df = get_ddsm_df(dataset_folder, model_name)\n",
    "AUC_per_image = calculate_AUC(df)\n",
    "print(\"AUC per image\", AUC_per_image)\n",
    "df2 = df.groupby(['id', 'laterality']).agg({'cancer': 'max', 'score': 'mean'}).reset_index()\n",
    "AUC_per_breast = calculate_AUC(df2)\n",
    "print(\"AUC per breast\", AUC_per_breast)"
   ]
  },
  {
   "cell_type": "code",
   "execution_count": 19,
   "metadata": {},
   "outputs": [
    {
     "name": "stdout",
     "output_type": "stream",
     "text": [
      "Empty DataFrame\n",
      "Columns: [gt, pred, cancer, score, id, laterality, view]\n",
      "Index: []\n"
     ]
    }
   ],
   "source": [
    "print(df.loc[df.id.str.contains('349323117bf0fd93')])"
   ]
  },
  {
   "cell_type": "markdown",
   "metadata": {},
   "source": [
    "# EVALUACION DREAM PILOT"
   ]
  },
  {
   "cell_type": "code",
   "execution_count": 20,
   "metadata": {},
   "outputs": [],
   "source": [
    "pilot_dataset_folder = pathlib.Path('/home/alalbiol/Data/mamo/dream_pilot_yolo')"
   ]
  },
  {
   "cell_type": "code",
   "execution_count": 21,
   "metadata": {},
   "outputs": [],
   "source": [
    "images_crosswalk = pd.read_csv(pilot_dataset_folder/'images_crosswalk.tsv', sep='\\t')   "
   ]
  },
  {
   "cell_type": "code",
   "execution_count": 22,
   "metadata": {},
   "outputs": [],
   "source": [
    "def get_model_score(filename, model_name):\n",
    "    filename = pilot_dataset_folder/model_name/filename.replace('.dcm','.txt')\n",
    "    return get_score(filename)\n",
    "\n",
    "images_crosswalk['score'] = images_crosswalk['filename'].apply(get_model_score)"
   ]
  },
  {
   "cell_type": "code",
   "execution_count": 23,
   "metadata": {},
   "outputs": [
    {
     "data": {
      "text/html": [
       "<div>\n",
       "<style scoped>\n",
       "    .dataframe tbody tr th:only-of-type {\n",
       "        vertical-align: middle;\n",
       "    }\n",
       "\n",
       "    .dataframe tbody tr th {\n",
       "        vertical-align: top;\n",
       "    }\n",
       "\n",
       "    .dataframe thead th {\n",
       "        text-align: right;\n",
       "    }\n",
       "</style>\n",
       "<table border=\"1\" class=\"dataframe\">\n",
       "  <thead>\n",
       "    <tr style=\"text-align: right;\">\n",
       "      <th></th>\n",
       "      <th>subjectId</th>\n",
       "      <th>examIndex</th>\n",
       "      <th>imageIndex</th>\n",
       "      <th>view</th>\n",
       "      <th>laterality</th>\n",
       "      <th>filename</th>\n",
       "      <th>cancer</th>\n",
       "      <th>score</th>\n",
       "    </tr>\n",
       "  </thead>\n",
       "  <tbody>\n",
       "    <tr>\n",
       "      <th>0</th>\n",
       "      <td>20</td>\n",
       "      <td>1</td>\n",
       "      <td>1</td>\n",
       "      <td>CC</td>\n",
       "      <td>R</td>\n",
       "      <td>000135.dcm</td>\n",
       "      <td>0</td>\n",
       "      <td>0.193386</td>\n",
       "    </tr>\n",
       "    <tr>\n",
       "      <th>1</th>\n",
       "      <td>20</td>\n",
       "      <td>1</td>\n",
       "      <td>2</td>\n",
       "      <td>CC</td>\n",
       "      <td>L</td>\n",
       "      <td>000136.dcm</td>\n",
       "      <td>0</td>\n",
       "      <td>0.519703</td>\n",
       "    </tr>\n",
       "    <tr>\n",
       "      <th>2</th>\n",
       "      <td>20</td>\n",
       "      <td>1</td>\n",
       "      <td>3</td>\n",
       "      <td>MLO</td>\n",
       "      <td>L</td>\n",
       "      <td>000137.dcm</td>\n",
       "      <td>0</td>\n",
       "      <td>0.014703</td>\n",
       "    </tr>\n",
       "    <tr>\n",
       "      <th>3</th>\n",
       "      <td>20</td>\n",
       "      <td>1</td>\n",
       "      <td>4</td>\n",
       "      <td>MLO</td>\n",
       "      <td>R</td>\n",
       "      <td>000138.dcm</td>\n",
       "      <td>0</td>\n",
       "      <td>0.112573</td>\n",
       "    </tr>\n",
       "    <tr>\n",
       "      <th>4</th>\n",
       "      <td>98</td>\n",
       "      <td>1</td>\n",
       "      <td>1</td>\n",
       "      <td>CC</td>\n",
       "      <td>R</td>\n",
       "      <td>100151.dcm</td>\n",
       "      <td>0</td>\n",
       "      <td>0.262948</td>\n",
       "    </tr>\n",
       "  </tbody>\n",
       "</table>\n",
       "</div>"
      ],
      "text/plain": [
       "   subjectId  examIndex  imageIndex view laterality    filename  cancer  \\\n",
       "0         20          1           1   CC          R  000135.dcm       0   \n",
       "1         20          1           2   CC          L  000136.dcm       0   \n",
       "2         20          1           3  MLO          L  000137.dcm       0   \n",
       "3         20          1           4  MLO          R  000138.dcm       0   \n",
       "4         98          1           1   CC          R  100151.dcm       0   \n",
       "\n",
       "      score  \n",
       "0  0.193386  \n",
       "1  0.519703  \n",
       "2  0.014703  \n",
       "3  0.112573  \n",
       "4  0.262948  "
      ]
     },
     "execution_count": 23,
     "metadata": {},
     "output_type": "execute_result"
    }
   ],
   "source": [
    "images_crosswalk.head()\n"
   ]
  },
  {
   "cell_type": "code",
   "execution_count": 24,
   "metadata": {},
   "outputs": [
    {
     "name": "stdout",
     "output_type": "stream",
     "text": [
      "num cases 500\n",
      "Specificity at 90% sensibility 0.33690987124463523\n",
      "AUC per image 0.7065135066902297\n",
      "Number of cancer images 34\n",
      "num cases 221\n",
      "Specificity at 90% sensibility 0.24637681159420288\n",
      "AUC per breast 0.6649413388543823\n"
     ]
    },
    {
     "data": {
      "image/png": "[encoded data removed]",
      "text/plain": [
       "<Figure size 640x480 with 1 Axes>"
      ]
     },
     "metadata": {},
     "output_type": "display_data"
    }
   ],
   "source": [
    "AUC_per_image = calculate_AUC(images_crosswalk)\n",
    "print(\"AUC per image\", AUC_per_image)\n",
    "print(\"Number of cancer images\", images_crosswalk['cancer'].sum())\n",
    "\n",
    "images_crosswalk2 = images_crosswalk.groupby(['subjectId', 'examIndex', 'laterality']).agg({'cancer': 'max', 'score': 'max'}).reset_index()\n",
    "AUC_per_breast = calculate_AUC(images_crosswalk2)\n",
    "print(\"AUC per breast\", AUC_per_breast)"
   ]
  },
  {
   "cell_type": "code",
   "execution_count": null,
   "metadata": {},
   "outputs": [],
   "source": []
  }
 ],
 "metadata": {
  "kernelspec": {
   "display_name": "Mammo",
   "language": "python",
   "name": "python3"
  },
  "language_info": {
   "codemirror_mode": {
    "name": "ipython",
    "version": 3
   },
   "file_extension": ".py",
   "mimetype": "text/x-python",
   "name": "python",
   "nbconvert_exporter": "python",
   "pygments_lexer": "ipython3",
   "version": "3.11.7"
  }
 },
 "nbformat": 4,
 "nbformat_minor": 2
}
