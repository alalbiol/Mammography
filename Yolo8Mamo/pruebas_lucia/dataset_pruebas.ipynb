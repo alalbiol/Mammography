{
 "cells": [
  {
   "cell_type": "code",
   "execution_count": 14,
   "metadata": {},
   "outputs": [
    {
     "name": "stdout",
     "output_type": "stream",
     "text": [
      "/home/lloprib/proyecto_mam/Mammography/Yolo8Mamo/pruebas_lucia\n",
      "[]\n"
     ]
    }
   ],
   "source": [
    "import sys\n",
    "import pathlib\n",
    "import numpy as np\n",
    "import matplotlib.pyplot as plt\n",
    "\n",
    "#get path of this notebook\n",
    "\n",
    "current_path = pathlib.Path().absolute()\n",
    "print(current_path)\n",
    "\n",
    "#Para que lea de otras carpetas\n",
    "sys.path.append(str(current_path / '../prepare_data'))\n",
    "sys.path.append(str(current_path / '../datasets'))\n",
    "\n",
    "ddsm_dir = pathlib.Path('/home/Data/mamo/cbis-ddsm')\n",
    "ljpeg_images = list(ddsm_dir.glob('**/*.LJPEG'))\n",
    "print(ljpeg_images[:10])"
   ]
  },
  {
   "cell_type": "code",
   "execution_count": 9,
   "metadata": {},
   "outputs": [
    {
     "ename": "IndexError",
     "evalue": "list index out of range",
     "output_type": "error",
     "traceback": [
      "\u001b[0;31m---------------------------------------------------------------------------\u001b[0m",
      "\u001b[0;31mIndexError\u001b[0m                                Traceback (most recent call last)",
      "Cell \u001b[0;32mIn[9], line 5\u001b[0m\n\u001b[1;32m      1\u001b[0m \u001b[38;5;66;03m#Leer una imagen\u001b[39;00m\n\u001b[1;32m      3\u001b[0m \u001b[38;5;28;01mfrom\u001b[39;00m \u001b[38;5;21;01mconverter_utils\u001b[39;00m \u001b[38;5;28;01mimport\u001b[39;00m read_lossless_jpeg_raw\n\u001b[0;32m----> 5\u001b[0m img \u001b[38;5;241m=\u001b[39m read_lossless_jpeg_raw(\u001b[38;5;28mstr\u001b[39m(\u001b[43mljpeg_images\u001b[49m\u001b[43m[\u001b[49m\u001b[38;5;241;43m0\u001b[39;49m\u001b[43m]\u001b[49m))\n\u001b[1;32m      7\u001b[0m \u001b[38;5;28mprint\u001b[39m(img\u001b[38;5;241m.\u001b[39mshape)\n\u001b[1;32m      8\u001b[0m \u001b[38;5;28mprint\u001b[39m(img\u001b[38;5;241m.\u001b[39mdtype)\n",
      "\u001b[0;31mIndexError\u001b[0m: list index out of range"
     ]
    }
   ],
   "source": [
    "#Leer una imagen\n",
    "\n",
    "from converter_utils import read_lossless_jpeg_raw\n",
    "\n",
    "img = read_lossless_jpeg_raw(str(ljpeg_images[0]))\n",
    "\n",
    "print(img.shape)\n",
    "print(img.dtype)"
   ]
  }
 ],
 "metadata": {
  "kernelspec": {
   "display_name": "pytorch_env",
   "language": "python",
   "name": "python3"
  },
  "language_info": {
   "codemirror_mode": {
    "name": "ipython",
    "version": 3
   },
   "file_extension": ".py",
   "mimetype": "text/x-python",
   "name": "python",
   "nbconvert_exporter": "python",
   "pygments_lexer": "ipython3",
   "version": "3.12.5"
  }
 },
 "nbformat": 4,
 "nbformat_minor": 2
}
