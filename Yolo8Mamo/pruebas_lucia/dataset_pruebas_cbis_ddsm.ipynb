{
 "cells": [
  {
   "cell_type": "code",
   "execution_count": 1,
   "metadata": {},
   "outputs": [
    {
     "name": "stdout",
     "output_type": "stream",
     "text": [
      "/home/lloprib/proyecto_mam/Mammography/Yolo8Mamo/pruebas_lucia\n",
      "[PosixPath('/home/Data/mamo/CBIS-DDSM/Mass-Training_P_01402_RIGHT_MLO_1/07-21-2016-DDSM-NA-16222/1.000000-ROI mask images-29569/1-1.dcm'), PosixPath('/home/Data/mamo/CBIS-DDSM/Mass-Training_P_01402_RIGHT_MLO_1/07-21-2016-DDSM-NA-16222/1.000000-ROI mask images-29569/1-2.dcm'), PosixPath('/home/Data/mamo/CBIS-DDSM/Calc-Training_P_01336_RIGHT_MLO_2/09-06-2017-DDSM-NA-30192/1.000000-ROI mask images-96672/1-1.dcm'), PosixPath('/home/Data/mamo/CBIS-DDSM/Calc-Training_P_01336_RIGHT_MLO_2/09-06-2017-DDSM-NA-30192/1.000000-ROI mask images-96672/1-2.dcm'), PosixPath('/home/Data/mamo/CBIS-DDSM/Mass-Test_P_00358_RIGHT_MLO_1/10-04-2016-DDSM-NA-12826/1.000000-ROI mask images-92394/1-1.dcm'), PosixPath('/home/Data/mamo/CBIS-DDSM/Mass-Test_P_00358_RIGHT_MLO_1/10-04-2016-DDSM-NA-12826/1.000000-ROI mask images-92394/1-2.dcm'), PosixPath('/home/Data/mamo/CBIS-DDSM/Mass-Test_P_00173_RIGHT_CC/10-04-2016-DDSM-NA-81216/1.000000-full mammogram images-52179/1-1.dcm'), PosixPath('/home/Data/mamo/CBIS-DDSM/Mass-Training_P_01130_RIGHT_MLO_1/07-21-2016-DDSM-NA-74371/1.000000-ROI mask images-25425/1-1.dcm'), PosixPath('/home/Data/mamo/CBIS-DDSM/Mass-Training_P_01130_RIGHT_MLO_1/07-21-2016-DDSM-NA-74371/1.000000-ROI mask images-25425/1-2.dcm'), PosixPath('/home/Data/mamo/CBIS-DDSM/Calc-Test_P_00485_LEFT_MLO/08-29-2017-DDSM-NA-88676/1.000000-full mammogram images-30811/1-1.dcm')]\n"
     ]
    }
   ],
   "source": [
    "import sys\n",
    "import pathlib\n",
    "import numpy as np\n",
    "import matplotlib.pyplot as plt\n",
    "\n",
    "#get path of this notebook\n",
    "\n",
    "current_path = pathlib.Path().absolute()\n",
    "print(current_path)\n",
    "\n",
    "#Para que lea de otras carpetas\n",
    "sys.path.append(str(current_path / '../prepare_data'))\n",
    "sys.path.append(str(current_path / '../datasets'))\n",
    "sys.path.append(str(current_path / '../func_pruebas_lucia'))\n",
    "\n",
    "ddsm_dir = pathlib.Path('/home/Data/mamo/CBIS-DDSM')\n",
    "dcm_images = list(ddsm_dir.glob('**/*.dcm'))\n",
    "print(dcm_images[:10])"
   ]
  },
  {
   "cell_type": "code",
   "execution_count": 2,
   "metadata": {},
   "outputs": [
    {
     "ename": "ModuleNotFoundError",
     "evalue": "No module named 'globc'",
     "output_type": "error",
     "traceback": [
      "\u001b[0;31m---------------------------------------------------------------------------\u001b[0m",
      "\u001b[0;31mModuleNotFoundError\u001b[0m                       Traceback (most recent call last)",
      "Cell \u001b[0;32mIn[2], line 3\u001b[0m\n\u001b[1;32m      1\u001b[0m \u001b[38;5;66;03m#Leer una imagen\u001b[39;00m\n\u001b[0;32m----> 3\u001b[0m \u001b[38;5;28;01mfrom\u001b[39;00m \u001b[38;5;21;01mfunciones\u001b[39;00m \u001b[38;5;28;01mimport\u001b[39;00m read_lossless_dcm_raw\n\u001b[1;32m      5\u001b[0m img \u001b[38;5;241m=\u001b[39m read_lossless_dcm_raw(\u001b[38;5;28mstr\u001b[39m(dcm_images[\u001b[38;5;241m0\u001b[39m]))\n\u001b[1;32m      7\u001b[0m \u001b[38;5;28mprint\u001b[39m(img\u001b[38;5;241m.\u001b[39mshape)\n",
      "File \u001b[0;32m~/proyecto_mam/Mammography/Yolo8Mamo/pruebas_lucia/../func_pruebas_lucia/funciones.py:3\u001b[0m\n\u001b[1;32m      1\u001b[0m \u001b[38;5;28;01mimport\u001b[39;00m \u001b[38;5;21;01mnumpy\u001b[39;00m \u001b[38;5;28;01mas\u001b[39;00m \u001b[38;5;21;01mnp\u001b[39;00m\n\u001b[1;32m      2\u001b[0m \u001b[38;5;28;01mimport\u001b[39;00m \u001b[38;5;21;01mos\u001b[39;00m\n\u001b[0;32m----> 3\u001b[0m \u001b[38;5;28;01mimport\u001b[39;00m \u001b[38;5;21;01mglobc\u001b[39;00m\n\u001b[1;32m      4\u001b[0m \u001b[38;5;28;01mimport\u001b[39;00m \u001b[38;5;21;01msubprocess\u001b[39;00m\n\u001b[1;32m      7\u001b[0m \u001b[38;5;28;01mdef\u001b[39;00m \u001b[38;5;21mread_lossless_dcm_raw\u001b[39m(fname):\n",
      "\u001b[0;31mModuleNotFoundError\u001b[0m: No module named 'globc'"
     ]
    }
   ],
   "source": [
    "#Leer una imagen\n",
    "\n",
    "from funciones import read_lossless_dcm_raw\n",
    "\n",
    "img = read_lossless_dcm_raw(str(dcm_images[0]))\n",
    "\n",
    "print(img.shape)\n",
    "print(img.dtype)"
   ]
  }
 ],
 "metadata": {
  "kernelspec": {
   "display_name": "pytorch_env",
   "language": "python",
   "name": "python3"
  },
  "language_info": {
   "codemirror_mode": {
    "name": "ipython",
    "version": 3
   },
   "file_extension": ".py",
   "mimetype": "text/x-python",
   "name": "python",
   "nbconvert_exporter": "python",
   "pygments_lexer": "ipython3",
   "version": "3.12.5"
  }
 },
 "nbformat": 4,
 "nbformat_minor": 2
}
