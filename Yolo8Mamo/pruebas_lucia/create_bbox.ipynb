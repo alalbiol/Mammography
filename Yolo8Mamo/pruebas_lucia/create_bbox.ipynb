{
 "cells": [
  {
   "cell_type": "code",
   "execution_count": 4,
   "metadata": {},
   "outputs": [
    {
     "name": "stdout",
     "output_type": "stream",
     "text": [
      "/home/lloprib/proyecto_mam/Mammography/Yolo8Mamo/pruebas_lucia\n"
     ]
    }
   ],
   "source": [
    "import sys\n",
    "import pathlib\n",
    "import numpy as np\n",
    "import matplotlib.pyplot as plt\n",
    "import os.path\n",
    "import matplotlib.image as mpimg\n",
    "\n",
    "#get path of this notebook\n",
    "\n",
    "current_path = pathlib.Path().absolute()\n",
    "print(current_path)\n",
    "\n",
    "#Para que lea de otras carpetas\n",
    "sys.path.append(str(current_path / '../prepare_data'))\n",
    "sys.path.append(str(current_path / '../datasets'))\n",
    "sys.path.append(str(current_path / '../func_pruebas_lucia'))\n",
    "\n",
    "ddsm_dir = pathlib.Path('/home/Data/mamo/DDSM_png')\n",
    "dcm_images = list(ddsm_dir.glob('**/*.png'))"
   ]
  },
  {
   "cell_type": "code",
   "execution_count": 9,
   "metadata": {},
   "outputs": [],
   "source": [
    "# Prueba de la función\n",
    "\n",
    "from funciones_lucia import create_bbox\n",
    "from annotation_utils import read_overlay, get_outline_curve\n",
    "\n",
    "dcm_overlay = list(ddsm_dir.glob('cancers/**/*.OVERLAY'))\n",
    "bbox = np.empty((len(dcm_overlay),), dtype=object)\n",
    "\n",
    "\n",
    "for i in range(len(dcm_overlay)):\n",
    "    \n",
    "    overlay = read_overlay(str(dcm_overlay[i]))\n",
    "    bbox[i] = create_bbox(overlay)\n",
    "    \n",
    "\n"
   ]
  },
  {
   "cell_type": "code",
   "execution_count": 10,
   "metadata": {},
   "outputs": [
    {
     "data": {
      "text/plain": [
       "array([ 848, 2816, 1056, 3072])"
      ]
     },
     "execution_count": 10,
     "metadata": {},
     "output_type": "execute_result"
    }
   ],
   "source": [
    "bbox[0]"
   ]
  }
 ],
 "metadata": {
  "kernelspec": {
   "display_name": "pytorch_env",
   "language": "python",
   "name": "python3"
  },
  "language_info": {
   "codemirror_mode": {
    "name": "ipython",
    "version": 3
   },
   "file_extension": ".py",
   "mimetype": "text/x-python",
   "name": "python",
   "nbconvert_exporter": "python",
   "pygments_lexer": "ipython3",
   "version": "3.12.5"
  }
 },
 "nbformat": 4,
 "nbformat_minor": 2
}
