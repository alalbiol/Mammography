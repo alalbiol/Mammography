{
 "cells": [
  {
   "cell_type": "code",
   "execution_count": 25,
   "metadata": {},
   "outputs": [
    {
     "name": "stdout",
     "output_type": "stream",
     "text": [
      "/home/lloprib/proyecto_mam/Mammography/Yolo8Mamo/pruebas_lucia\n"
     ]
    }
   ],
   "source": [
    "import sys\n",
    "import pathlib\n",
    "import numpy as np\n",
    "import matplotlib.pyplot as plt\n",
    "\n",
    "#get path of this notebook\n",
    "\n",
    "current_path = pathlib.Path().absolute()\n",
    "print(current_path)\n",
    "\n",
    "#Para que lea de otras carpetas\n",
    "sys.path.append(str(current_path / '../prepare_data'))\n",
    "sys.path.append(str(current_path / '../datasets'))\n",
    "sys.path.append(str(current_path / '../func_pruebas_lucia'))\n",
    "\n",
    "ddsm_dir = pathlib.Path('/home/Data/mamo/DDSM_png')\n",
    "dcm_images = list(ddsm_dir.glob('**/*.png'))"
   ]
  },
  {
   "cell_type": "code",
   "execution_count": 27,
   "metadata": {},
   "outputs": [
    {
     "ename": "NameError",
     "evalue": "name 'dcm_overlay' is not defined",
     "output_type": "error",
     "traceback": [
      "\u001b[0;31m---------------------------------------------------------------------------\u001b[0m",
      "\u001b[0;31mNameError\u001b[0m                                 Traceback (most recent call last)",
      "Cell \u001b[0;32mIn[27], line 12\u001b[0m\n\u001b[1;32m     10\u001b[0m \u001b[38;5;28;01mfor\u001b[39;00m i \u001b[38;5;129;01min\u001b[39;00m \u001b[38;5;28mrange\u001b[39m(\u001b[38;5;28mlen\u001b[39m(dcm_overlay)):\n\u001b[1;32m     11\u001b[0m     overlay \u001b[38;5;241m=\u001b[39m read_overlay(\u001b[38;5;28mstr\u001b[39m(dcm_overlay[i]))\n\u001b[0;32m---> 12\u001b[0m     bbox[i] \u001b[38;5;241m=\u001b[39m \u001b[43mcreate_bbox\u001b[49m\u001b[43m(\u001b[49m\u001b[43moverlay\u001b[49m\u001b[43m)\u001b[49m\n",
      "File \u001b[0;32m~/proyecto_mam/Mammography/Yolo8Mamo/pruebas_lucia/../func_pruebas_lucia/funciones_lucia.py:70\u001b[0m, in \u001b[0;36mcreate_bbox\u001b[0;34m(overlay)\u001b[0m\n\u001b[1;32m     68\u001b[0m chain_outline \u001b[38;5;241m=\u001b[39m \u001b[38;5;28mlist\u001b[39m(abnormalities[\u001b[38;5;241m0\u001b[39m][\u001b[38;5;241m4\u001b[39m][\u001b[38;5;241m0\u001b[39m])\n\u001b[1;32m     69\u001b[0m outline \u001b[38;5;241m=\u001b[39m get_outline_curve(chain_outline)\n\u001b[0;32m---> 70\u001b[0m overlay \u001b[38;5;241m=\u001b[39m read_overlay(\u001b[38;5;28mstr\u001b[39m(\u001b[43mdcm_overlay\u001b[49m[\u001b[38;5;241m182\u001b[39m]))\n\u001b[1;32m     72\u001b[0m maxx \u001b[38;5;241m=\u001b[39m \u001b[38;5;28mmax\u001b[39m(outline[\u001b[38;5;241m0\u001b[39m])\n\u001b[1;32m     73\u001b[0m minx \u001b[38;5;241m=\u001b[39m \u001b[38;5;28mmin\u001b[39m(outline[\u001b[38;5;241m0\u001b[39m])\n",
      "\u001b[0;31mNameError\u001b[0m: name 'dcm_overlay' is not defined"
     ]
    }
   ],
   "source": [
    "# Prueba de la función\n",
    "\n",
    "from funciones_lucia import create_bbox\n",
    "from annotation_utils import read_overlay, get_outline_curve\n",
    "\n",
    "\n",
    "\n",
    "dcm_overlay = list(ddsm_dir.glob('cancers/**/*.OVERLAY'))\n",
    "\n",
    "for i in range(len(dcm_overlay)):\n",
    "    overlay = read_overlay(str(dcm_overlay[i]))\n",
    "    bbox[i] = create_bbox(overlay)"
   ]
  }
 ],
 "metadata": {
  "kernelspec": {
   "display_name": "pytorch_env",
   "language": "python",
   "name": "python3"
  },
  "language_info": {
   "codemirror_mode": {
    "name": "ipython",
    "version": 3
   },
   "file_extension": ".py",
   "mimetype": "text/x-python",
   "name": "python",
   "nbconvert_exporter": "python",
   "pygments_lexer": "ipython3",
   "version": "3.12.5"
  }
 },
 "nbformat": 4,
 "nbformat_minor": 2
}
